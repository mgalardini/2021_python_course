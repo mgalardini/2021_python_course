{
 "cells": [
  {
   "cell_type": "code",
   "execution_count": null,
   "metadata": {},
   "outputs": [],
   "source": [
    "import pandas as pd"
   ]
  },
  {
   "cell_type": "code",
   "execution_count": null,
   "metadata": {},
   "outputs": [],
   "source": [
    "file_name = 'phenotypic_data.tsv'"
   ]
  },
  {
   "cell_type": "markdown",
   "metadata": {},
   "source": [
    "Given the above file, can you answer the following questions:\n",
    "\n",
    "* how many rows/columns does the table have?\n",
    "* how many unique strains are there? What about conditions?\n",
    "* is each strain present in all conditions and vice-versa?\n",
    "* how many growth defect phenotypes are present in each condition?\n",
    "    * what is the proportion?\n",
    "* how many growth defect phenotypes each strain has?\n",
    "    * what is the proportion?\n",
    "* can you filter the table to keep only those conditions with no phenotype?\n",
    "* can you filter the table to keep only those entries with corrected-p-value < 0.01?\n",
    "* can you reshape the table to have strains as rows, conditions as columns, and s-scores as values?"
   ]
  }
 ],
 "metadata": {
  "kernelspec": {
   "display_name": "Python 3",
   "language": "python",
   "name": "python3"
  },
  "language_info": {
   "codemirror_mode": {
    "name": "ipython",
    "version": 3
   },
   "file_extension": ".py",
   "mimetype": "text/x-python",
   "name": "python",
   "nbconvert_exporter": "python",
   "pygments_lexer": "ipython3",
   "version": "3.8.5"
  }
 },
 "nbformat": 4,
 "nbformat_minor": 4
}
