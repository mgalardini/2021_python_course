{
 "cells": [
  {
   "cell_type": "markdown",
   "metadata": {
    "colab_type": "text",
    "id": "tKovrCH-uZqX"
   },
   "source": [
    "Basic Python and native data structures\n",
    "=========="
   ]
  },
  {
   "cell_type": "markdown",
   "metadata": {
    "colab_type": "text",
    "id": "wTUmCa_YuZqc"
   },
   "source": [
    "Let's start with some poetic wisdom\n",
    "---------------------------------"
   ]
  },
  {
   "cell_type": "code",
   "execution_count": null,
   "metadata": {
    "colab": {},
    "colab_type": "code",
    "collapsed": false,
    "id": "NvPj-8L_uZqj",
    "jupyter": {
     "outputs_hidden": false
    },
    "run_control": {
     "frozen": false,
     "read_only": false
    }
   },
   "outputs": [],
   "source": [
    "import this"
   ]
  },
  {
   "cell_type": "markdown",
   "metadata": {
    "colab_type": "text",
    "id": "8iyZIX1XuZq5"
   },
   "source": [
    "Resources\n",
    "----------\n",
    "- https://docs.python.org\n",
    "- https://docs.python.org/3/tutorial/index.html"
   ]
  },
  {
   "cell_type": "markdown",
   "metadata": {
    "colab_type": "text",
    "id": "B7kP4hv4uZq9"
   },
   "source": [
    "Hello world example\n",
    "-------------------"
   ]
  },
  {
   "cell_type": "code",
   "execution_count": null,
   "metadata": {
    "colab": {},
    "colab_type": "code",
    "collapsed": false,
    "id": "kBbWjDCEuZq-",
    "jupyter": {
     "outputs_hidden": false
    },
    "run_control": {
     "frozen": false,
     "read_only": false
    }
   },
   "outputs": [],
   "source": [
    "print(\"hello world\")"
   ]
  },
  {
   "cell_type": "markdown",
   "metadata": {
    "colab_type": "text",
    "id": "32RQ6favuZrL"
   },
   "source": [
    "About indentation\n",
    "-----------------"
   ]
  },
  {
   "cell_type": "markdown",
   "metadata": {
    "colab_type": "text",
    "id": "vowpsIVDuZrN"
   },
   "source": [
    "Before starting, you need to know that in Python, code indentation is an essential part of the syntax. It is used to delimitate code blocks such as loops and functions. It may seem cumbersome, but it makes all Python code consistent and readable. The following code is incorrect:\n",
    "\n",
    "```python\n",
    ">>> a = 1\n",
    ">>>   b = 2\n",
    "```\n",
    "since the two statements are not aligned despite being part of the same block of statements (the main block). Instead, they must be indented in the same way:\n",
    "```python\n",
    ">>> a = 1\n",
    ">>> b = 2\n",
    "```\n",
    "Here is another example involving a loop and a function (def):\n",
    "```python\n",
    "def example():\n",
    "    for i in [1, 2, 3]:\n",
    "        print(i)\n",
    "```     \n",
    "In C, it may look like \n",
    "```c\n",
    "void example(){\n",
    "  int i;\n",
    "  for (i=1; i<=3; i++){\n",
    "      printf(\"%d\\n\", i);\n",
    "  }\n",
    "}```\n",
    "OR\n",
    "```c\n",
    "void example(){\n",
    "int i;\n",
    "for (i=1; i<=3; i++)\n",
    "{\n",
    "printf(\"%d\\n\", i);\n",
    "}\n",
    "}```\n",
    "\n",
    "**Note:** both tabs and spaces can be used to define the indentation, but conventionally **4 spaces** are preferred. "
   ]
  },
  {
   "cell_type": "markdown",
   "metadata": {
    "colab_type": "text",
    "id": "t4ibB6i3uZrP"
   },
   "source": [
    "Rules and conventions on naming variables\n",
    "-------------------------------\n",
    "\n",
    "* Variable names are unlimited in length\n",
    "* Variable names start with a letter or underscore *_* followed by letters, numbers or underscores.\n",
    "* Variable names are case-sensitive\n",
    "* **Variable names cannot be named with special keywords (see below)**\n",
    "\n",
    "Variable names conventionally have lower-case letters, with multiple words seprated by underscores. "
   ]
  },
  {
   "cell_type": "markdown",
   "metadata": {
    "colab_type": "text",
    "id": "b2jIlEzJuZrR"
   },
   "source": [
    "**Other rules and style conventions:** PEP8 style recommendations (https://www.python.org/dev/peps/pep-0008/)"
   ]
  },
  {
   "cell_type": "markdown",
   "metadata": {
    "colab_type": "text",
    "id": "dISCmaEJuZrT"
   },
   "source": [
    "Basic numeric types\n",
    "----------------"
   ]
  },
  {
   "cell_type": "markdown",
   "metadata": {
    "colab_type": "text",
    "id": "lZvCz45cuZrW"
   },
   "source": [
    "**Integers**"
   ]
  },
  {
   "cell_type": "code",
   "execution_count": null,
   "metadata": {
    "colab": {},
    "colab_type": "code",
    "collapsed": false,
    "id": "90HB3YovuZrX",
    "jupyter": {
     "outputs_hidden": false
    },
    "run_control": {
     "frozen": false,
     "read_only": false
    }
   },
   "outputs": [],
   "source": [
    "a = 10  \n",
    "b = 2\n",
    "a + b"
   ]
  },
  {
   "cell_type": "code",
   "execution_count": null,
   "metadata": {
    "colab": {},
    "colab_type": "code",
    "collapsed": false,
    "id": "xoXLdsHUuZrh",
    "jupyter": {
     "outputs_hidden": false
    },
    "run_control": {
     "frozen": false,
     "read_only": false
    }
   },
   "outputs": [],
   "source": [
    "# incremental operators\n",
    "a = 10\n",
    "a += 2    # equivalent to a = a + 2   (there is no ++ operators like in C/C++])\n",
    "a"
   ]
  },
  {
   "cell_type": "code",
   "execution_count": null,
   "metadata": {
    "colab": {},
    "colab_type": "code",
    "collapsed": false,
    "id": "P2I2y_aMuZrr",
    "jupyter": {
     "outputs_hidden": false
    }
   },
   "outputs": [],
   "source": [
    "a = 10\n",
    "a = a + 2\n",
    "a"
   ]
  },
  {
   "cell_type": "markdown",
   "metadata": {
    "colab_type": "text",
    "id": "n0TsBIqyuZr1"
   },
   "source": [
    "**Boolean**"
   ]
  },
  {
   "cell_type": "code",
   "execution_count": null,
   "metadata": {
    "colab": {},
    "colab_type": "code",
    "collapsed": false,
    "id": "-FJAafz-uZr2",
    "jupyter": {
     "outputs_hidden": false
    },
    "run_control": {
     "frozen": false,
     "read_only": false
    }
   },
   "outputs": [],
   "source": [
    "test = True\n",
    "if test:\n",
    "    print(test)"
   ]
  },
  {
   "cell_type": "code",
   "execution_count": null,
   "metadata": {
    "colab": {},
    "colab_type": "code",
    "collapsed": false,
    "id": "ekGUtZfpuZr-",
    "jupyter": {
     "outputs_hidden": false
    },
    "run_control": {
     "frozen": false,
     "read_only": false
    }
   },
   "outputs": [],
   "source": [
    "test = False\n",
    "if not test:\n",
    "    print(test)"
   ]
  },
  {
   "cell_type": "code",
   "execution_count": null,
   "metadata": {
    "colab": {},
    "colab_type": "code",
    "collapsed": false,
    "id": "HvK-xcC2uZsI",
    "jupyter": {
     "outputs_hidden": false
    },
    "run_control": {
     "frozen": false,
     "read_only": false
    }
   },
   "outputs": [],
   "source": [
    "# Other types can be treated as boolean\n",
    "# Main example are integers\n",
    "true_value = 1\n",
    "false_value = 0\n",
    "if true_value:\n",
    "    print(true_value)\n",
    "if not false_value:\n",
    "    print(false_value)"
   ]
  },
  {
   "cell_type": "markdown",
   "metadata": {
    "colab_type": "text",
    "id": "upXM_-mCuZsR"
   },
   "source": [
    "**Integers, Float and Complex**"
   ]
  },
  {
   "cell_type": "code",
   "execution_count": null,
   "metadata": {
    "colab": {},
    "colab_type": "code",
    "id": "Fgof84xSuZsS",
    "run_control": {
     "frozen": false,
     "read_only": false
    }
   },
   "outputs": [],
   "source": [
    "float1 = 2.1           \n",
    "float2 = 2.0\n",
    "float3 = 2.\n",
    "\n",
    "complex_value = 1 + 2j"
   ]
  },
  {
   "cell_type": "code",
   "execution_count": null,
   "metadata": {
    "colab": {},
    "colab_type": "code",
    "collapsed": false,
    "id": "sxP7XHEguZsa",
    "jupyter": {
     "outputs_hidden": false
    },
    "run_control": {
     "frozen": false,
     "read_only": false
    }
   },
   "outputs": [],
   "source": [
    "float3"
   ]
  },
  {
   "cell_type": "markdown",
   "metadata": {
    "colab_type": "text",
    "id": "1m58BsNyuZsl"
   },
   "source": [
    "**Basic mathematical operators**"
   ]
  },
  {
   "cell_type": "code",
   "execution_count": null,
   "metadata": {
    "colab": {},
    "colab_type": "code",
    "collapsed": false,
    "id": "f2a7qq8suZso",
    "jupyter": {
     "outputs_hidden": false
    },
    "run_control": {
     "frozen": false,
     "read_only": false
    }
   },
   "outputs": [],
   "source": [
    "1 + 2"
   ]
  },
  {
   "cell_type": "code",
   "execution_count": null,
   "metadata": {
    "colab": {},
    "colab_type": "code",
    "collapsed": false,
    "id": "F_FctoreuZsz",
    "jupyter": {
     "outputs_hidden": false
    },
    "run_control": {
     "frozen": false,
     "read_only": false
    }
   },
   "outputs": [],
   "source": [
    "1 - 2"
   ]
  },
  {
   "cell_type": "code",
   "execution_count": null,
   "metadata": {
    "colab": {},
    "colab_type": "code",
    "collapsed": false,
    "id": "d8Pdu3j1uZs_",
    "jupyter": {
     "outputs_hidden": false
    },
    "run_control": {
     "frozen": false,
     "read_only": false
    }
   },
   "outputs": [],
   "source": [
    "3 * 2"
   ]
  },
  {
   "cell_type": "code",
   "execution_count": null,
   "metadata": {
    "colab": {},
    "colab_type": "code",
    "collapsed": false,
    "id": "pkclX8SquZtQ",
    "jupyter": {
     "outputs_hidden": false
    },
    "run_control": {
     "frozen": false,
     "read_only": false
    }
   },
   "outputs": [],
   "source": [
    "# implicit casting\n",
    "3 / 2"
   ]
  },
  {
   "cell_type": "code",
   "execution_count": null,
   "metadata": {
    "colab": {},
    "colab_type": "code",
    "collapsed": false,
    "id": "7o6shYHZuZtZ",
    "jupyter": {
     "outputs_hidden": false
    }
   },
   "outputs": [],
   "source": [
    "3"
   ]
  },
  {
   "cell_type": "code",
   "execution_count": null,
   "metadata": {
    "colab": {},
    "colab_type": "code",
    "collapsed": false,
    "id": "uDNAV2AXuZti",
    "jupyter": {
     "outputs_hidden": false
    }
   },
   "outputs": [],
   "source": [
    "# explicit casting\n",
    "float(3)"
   ]
  },
  {
   "cell_type": "code",
   "execution_count": null,
   "metadata": {
    "colab": {},
    "colab_type": "code",
    "collapsed": false,
    "id": "veIU-wbbuZtr",
    "jupyter": {
     "outputs_hidden": false
    },
    "run_control": {
     "frozen": false,
     "read_only": false
    }
   },
   "outputs": [],
   "source": [
    "# floor division\n",
    "3 // 2"
   ]
  },
  {
   "cell_type": "code",
   "execution_count": null,
   "metadata": {
    "colab": {},
    "colab_type": "code",
    "collapsed": false,
    "id": "2D19WaCDuZtx",
    "jupyter": {
     "outputs_hidden": false
    },
    "run_control": {
     "frozen": false,
     "read_only": false
    }
   },
   "outputs": [],
   "source": [
    "# modulo (division remainder)\n",
    "3 % 2"
   ]
  },
  {
   "cell_type": "code",
   "execution_count": null,
   "metadata": {
    "colab": {},
    "colab_type": "code",
    "collapsed": false,
    "id": "tYP1PYnnuZt5",
    "jupyter": {
     "outputs_hidden": false
    },
    "run_control": {
     "frozen": false,
     "read_only": false
    }
   },
   "outputs": [],
   "source": [
    "# exponent\n",
    "3 ** 2"
   ]
  },
  {
   "cell_type": "markdown",
   "metadata": {
    "colab_type": "text",
    "id": "aD5m-M4ouZuA"
   },
   "source": [
    "**Promotion:** when you mix numeric types in an expression, all operands are converted (or coerced) to the type with highest precision"
   ]
  },
  {
   "cell_type": "code",
   "execution_count": null,
   "metadata": {
    "colab": {},
    "colab_type": "code",
    "collapsed": false,
    "id": "-x924ff2uZuC",
    "jupyter": {
     "outputs_hidden": false
    },
    "run_control": {
     "frozen": false,
     "read_only": false
    }
   },
   "outputs": [],
   "source": [
    "5 + 3.1"
   ]
  },
  {
   "cell_type": "markdown",
   "metadata": {
    "colab_type": "text",
    "id": "tdwXr8tAuZuJ"
   },
   "source": [
    "**Converting types: casting**\n",
    "\n",
    "A variable belonging to one type can be converted to another type through \"casting\""
   ]
  },
  {
   "cell_type": "code",
   "execution_count": null,
   "metadata": {
    "colab": {},
    "colab_type": "code",
    "collapsed": false,
    "id": "dbdLf5gIuZuM",
    "jupyter": {
     "outputs_hidden": false
    },
    "run_control": {
     "frozen": false,
     "read_only": false
    }
   },
   "outputs": [],
   "source": [
    "int(3.1)"
   ]
  },
  {
   "cell_type": "code",
   "execution_count": null,
   "metadata": {
    "colab": {},
    "colab_type": "code",
    "collapsed": false,
    "id": "mKLiwi4PuZuX",
    "jupyter": {
     "outputs_hidden": false
    },
    "run_control": {
     "frozen": false,
     "read_only": false
    }
   },
   "outputs": [],
   "source": [
    "float(3)"
   ]
  },
  {
   "cell_type": "code",
   "execution_count": null,
   "metadata": {
    "colab": {},
    "colab_type": "code",
    "collapsed": false,
    "id": "DZQ3tDx8uZuf",
    "jupyter": {
     "outputs_hidden": false
    },
    "run_control": {
     "frozen": false,
     "read_only": false
    }
   },
   "outputs": [],
   "source": [
    "bool(1)"
   ]
  },
  {
   "cell_type": "code",
   "execution_count": null,
   "metadata": {
    "colab": {},
    "colab_type": "code",
    "collapsed": false,
    "id": "mGp31-01uZuo",
    "jupyter": {
     "outputs_hidden": false
    },
    "run_control": {
     "frozen": false,
     "read_only": false
    }
   },
   "outputs": [],
   "source": [
    "bool(0)"
   ]
  },
  {
   "cell_type": "markdown",
   "metadata": {
    "colab_type": "text",
    "id": "mvFVKiVuuZ3V"
   },
   "source": [
    "Functions\n",
    "-------\n",
    "\n",
    "Allows to re-use code in a flexible way"
   ]
  },
  {
   "cell_type": "code",
   "execution_count": null,
   "metadata": {
    "colab": {},
    "colab_type": "code",
    "id": "srz1wMmbuZ3W",
    "run_control": {
     "frozen": false,
     "read_only": false
    }
   },
   "outputs": [],
   "source": [
    "def sum_numbers(first, second):\n",
    "    return first + second"
   ]
  },
  {
   "cell_type": "code",
   "execution_count": null,
   "metadata": {
    "colab": {
     "base_uri": "https://localhost:8080/",
     "height": 34
    },
    "colab_type": "code",
    "collapsed": false,
    "executionInfo": {
     "elapsed": 863,
     "status": "ok",
     "timestamp": 1587053744641,
     "user": {
      "displayName": "Giulio Chiesa",
      "photoUrl": "https://lh3.googleusercontent.com/a-/AOh14GhTac43NP5I-bvSTBnu8F6fSvW7zZ-hiaOhXGI7bw=s64",
      "userId": "10704203183164546918"
     },
     "user_tz": 240
    },
    "id": "MnkjZ1yDuZ3Z",
    "jupyter": {
     "outputs_hidden": false
    },
    "outputId": "b8bdecc6-b4c3-41af-8426-97e206d6773a",
    "run_control": {
     "frozen": false,
     "read_only": false
    }
   },
   "outputs": [],
   "source": [
    "sum_numbers(1, 2)"
   ]
  },
  {
   "cell_type": "code",
   "execution_count": null,
   "metadata": {
    "colab": {},
    "colab_type": "code",
    "collapsed": false,
    "id": "e8lJfGueuZ3c",
    "jupyter": {
     "outputs_hidden": false
    },
    "run_control": {
     "frozen": false,
     "read_only": false
    }
   },
   "outputs": [],
   "source": [
    "sum_numbers('one', 'two')"
   ]
  },
  {
   "cell_type": "code",
   "execution_count": null,
   "metadata": {
    "colab": {},
    "colab_type": "code",
    "collapsed": false,
    "id": "IE-pEGbluZ3h",
    "jupyter": {
     "outputs_hidden": false
    },
    "run_control": {
     "frozen": false,
     "read_only": false
    }
   },
   "outputs": [],
   "source": [
    "sum_numbers('one', 2)"
   ]
  },
  {
   "cell_type": "code",
   "execution_count": null,
   "metadata": {
    "colab": {},
    "colab_type": "code",
    "collapsed": false,
    "id": "93YWbRXguZ3n",
    "jupyter": {
     "outputs_hidden": false
    },
    "run_control": {
     "frozen": false,
     "read_only": false
    }
   },
   "outputs": [],
   "source": [
    "# positional vs. keyword arguments\n",
    "def print_variables(first, second):\n",
    "    print(f'First variable: {first}')\n",
    "    print(f'Second variable: {second}')\n",
    "  "
   ]
  },
  {
   "cell_type": "code",
   "execution_count": null,
   "metadata": {
    "colab": {},
    "colab_type": "code",
    "collapsed": false,
    "id": "PmtMbWBhuZ3q",
    "jupyter": {
     "outputs_hidden": false
    },
    "run_control": {
     "frozen": false,
     "read_only": false
    }
   },
   "outputs": [],
   "source": [
    "print_variables(1, 2)"
   ]
  },
  {
   "cell_type": "code",
   "execution_count": null,
   "metadata": {
    "colab": {},
    "colab_type": "code",
    "collapsed": false,
    "id": "Qo1OzySduZ3t",
    "jupyter": {
     "outputs_hidden": false
    },
    "run_control": {
     "frozen": false,
     "read_only": false
    }
   },
   "outputs": [],
   "source": [
    "print_variables()"
   ]
  },
  {
   "cell_type": "code",
   "execution_count": null,
   "metadata": {
    "colab": {},
    "colab_type": "code",
    "collapsed": false,
    "id": "vcrfADhwuZ3v",
    "jupyter": {
     "outputs_hidden": false
    },
    "run_control": {
     "frozen": false,
     "read_only": false
    }
   },
   "outputs": [],
   "source": [
    "print_variables(1)"
   ]
  },
  {
   "cell_type": "code",
   "execution_count": null,
   "metadata": {
    "colab": {},
    "colab_type": "code",
    "collapsed": false,
    "id": "OCnYGyNwuZ3y",
    "jupyter": {
     "outputs_hidden": false
    },
    "run_control": {
     "frozen": false,
     "read_only": false
    }
   },
   "outputs": [],
   "source": [
    "# positional vs. keyword arguments\n",
    "def print_variables(first=None, second=None):\n",
    "    print(f'First variable: {first}')\n",
    "    print(f'Second variable: {second}')\n"
   ]
  },
  {
   "cell_type": "code",
   "execution_count": null,
   "metadata": {
    "colab": {},
    "colab_type": "code",
    "collapsed": false,
    "id": "HffrHSwjuZ31",
    "jupyter": {
     "outputs_hidden": false
    },
    "run_control": {
     "frozen": false,
     "read_only": false
    }
   },
   "outputs": [],
   "source": [
    "print_variables()"
   ]
  },
  {
   "cell_type": "code",
   "execution_count": null,
   "metadata": {
    "colab": {},
    "colab_type": "code",
    "collapsed": false,
    "id": "3KiVV0AfuZ33",
    "jupyter": {
     "outputs_hidden": false
    },
    "run_control": {
     "frozen": false,
     "read_only": false
    }
   },
   "outputs": [],
   "source": [
    "print_variables(second=2)"
   ]
  },
  {
   "cell_type": "markdown",
   "metadata": {
    "colab_type": "text",
    "id": "V4gsn1yiuZ2M"
   },
   "source": [
    "Flow control operators\n",
    "------"
   ]
  },
  {
   "cell_type": "code",
   "execution_count": null,
   "metadata": {
    "colab": {},
    "colab_type": "code",
    "collapsed": false,
    "id": "iAFefIkauZ2N",
    "jupyter": {
     "outputs_hidden": false
    },
    "run_control": {
     "frozen": false,
     "read_only": false
    }
   },
   "outputs": [],
   "source": [
    "# if/elif/else\n",
    "animals = ['dog', 'cat', 'cow']\n",
    "if 'cats' in animals:\n",
    "    print('Cats found!')\n",
    "elif 'cat' in animals:\n",
    "    print('Only one cat found!')\n",
    "else:\n",
    "    print('Nothing found!')"
   ]
  },
  {
   "cell_type": "code",
   "execution_count": null,
   "metadata": {
    "colab": {
     "base_uri": "https://localhost:8080/",
     "height": 68
    },
    "colab_type": "code",
    "collapsed": false,
    "executionInfo": {
     "elapsed": 406,
     "status": "ok",
     "timestamp": 1586985508261,
     "user": {
      "displayName": "Giulio Chiesa",
      "photoUrl": "https://lh3.googleusercontent.com/a-/AOh14GhTac43NP5I-bvSTBnu8F6fSvW7zZ-hiaOhXGI7bw=s64",
      "userId": "10704203183164546918"
     },
     "user_tz": 240
    },
    "id": "1U8KV_xDuZ2Q",
    "jupyter": {
     "outputs_hidden": false
    },
    "outputId": "3963e55f-be31-4651-a93d-2eeeec49c397",
    "run_control": {
     "frozen": false,
     "read_only": false
    }
   },
   "outputs": [],
   "source": [
    "# for loop\n",
    "foods = ['pasta', 'rice', 'lasagna']\n",
    "for food in foods:\n",
    "    print(food)"
   ]
  },
  {
   "cell_type": "code",
   "execution_count": null,
   "metadata": {
    "colab": {
     "base_uri": "https://localhost:8080/",
     "height": 119
    },
    "colab_type": "code",
    "collapsed": false,
    "executionInfo": {
     "elapsed": 369,
     "status": "ok",
     "timestamp": 1586985495651,
     "user": {
      "displayName": "Giulio Chiesa",
      "photoUrl": "https://lh3.googleusercontent.com/a-/AOh14GhTac43NP5I-bvSTBnu8F6fSvW7zZ-hiaOhXGI7bw=s64",
      "userId": "10704203183164546918"
     },
     "user_tz": 240
    },
    "id": "QAU5pZ_xuZ2T",
    "jupyter": {
     "outputs_hidden": false
    },
    "outputId": "7c96b178-3edc-45cf-af45-89a2ff805bab",
    "run_control": {
     "frozen": false,
     "read_only": false
    }
   },
   "outputs": [],
   "source": [
    "# nested for loops\n",
    "foods = ['pasta', 'rice', 'lasagna']\n",
    "deserts = ['cake', 'biscuit']\n",
    "for food in foods:\n",
    "    for desert in deserts:\n",
    "        print(food, desert)"
   ]
  },
  {
   "cell_type": "code",
   "execution_count": null,
   "metadata": {
    "colab": {
     "base_uri": "https://localhost:8080/",
     "height": 34
    },
    "colab_type": "code",
    "collapsed": false,
    "executionInfo": {
     "elapsed": 460,
     "status": "ok",
     "timestamp": 1587048947383,
     "user": {
      "displayName": "Giulio Chiesa",
      "photoUrl": "https://lh3.googleusercontent.com/a-/AOh14GhTac43NP5I-bvSTBnu8F6fSvW7zZ-hiaOhXGI7bw=s64",
      "userId": "10704203183164546918"
     },
     "user_tz": 240
    },
    "id": "wn7Kop_xuZ2m",
    "jupyter": {
     "outputs_hidden": false
    },
    "outputId": "d2995886-28a2-4ff2-c45d-7728b073129d",
    "run_control": {
     "frozen": false,
     "read_only": false
    }
   },
   "outputs": [],
   "source": [
    "# while loop\n",
    "counter = 0\n",
    "while counter < 10:\n",
    "    counter += 1\n",
    "counter"
   ]
  },
  {
   "cell_type": "code",
   "execution_count": null,
   "metadata": {
    "colab": {
     "base_uri": "https://localhost:8080/",
     "height": 187
    },
    "colab_type": "code",
    "collapsed": false,
    "executionInfo": {
     "elapsed": 635,
     "status": "ok",
     "timestamp": 1586986537649,
     "user": {
      "displayName": "Giulio Chiesa",
      "photoUrl": "https://lh3.googleusercontent.com/a-/AOh14GhTac43NP5I-bvSTBnu8F6fSvW7zZ-hiaOhXGI7bw=s64",
      "userId": "10704203183164546918"
     },
     "user_tz": 240
    },
    "id": "37-QdWswuZ2p",
    "jupyter": {
     "outputs_hidden": false
    },
    "outputId": "e1b88f7c-2a50-4716-9589-45b1fa9439e8",
    "run_control": {
     "frozen": false,
     "read_only": false
    }
   },
   "outputs": [],
   "source": [
    "# A normal loop\n",
    "for value in range(10):\n",
    "    print(value)"
   ]
  },
  {
   "cell_type": "code",
   "execution_count": null,
   "metadata": {
    "colab": {
     "base_uri": "https://localhost:8080/",
     "height": 119
    },
    "colab_type": "code",
    "collapsed": false,
    "executionInfo": {
     "elapsed": 448,
     "status": "ok",
     "timestamp": 1587044829967,
     "user": {
      "displayName": "Giulio Chiesa",
      "photoUrl": "https://lh3.googleusercontent.com/a-/AOh14GhTac43NP5I-bvSTBnu8F6fSvW7zZ-hiaOhXGI7bw=s64",
      "userId": "10704203183164546918"
     },
     "user_tz": 240
    },
    "id": "Sslx7drquZ2s",
    "jupyter": {
     "outputs_hidden": false
    },
    "outputId": "894fec3a-ab28-41e2-c0ad-7d0ee2bbfcd8",
    "run_control": {
     "frozen": false,
     "read_only": false
    }
   },
   "outputs": [],
   "source": [
    "# continue: skip the rest of the expression and go to the next element\n",
    "for value in range(10):\n",
    "    if not value == 3:\n",
    "        continue\n",
    "    print(value)"
   ]
  },
  {
   "cell_type": "code",
   "execution_count": null,
   "metadata": {
    "colab": {},
    "colab_type": "code",
    "collapsed": false,
    "id": "XA3rFbDVuZ2w",
    "jupyter": {
     "outputs_hidden": false
    },
    "run_control": {
     "frozen": false,
     "read_only": false
    }
   },
   "outputs": [],
   "source": [
    "# break: exit the \"for\" loop\n",
    "for value in range(10):\n",
    "    if not value == 3:\n",
    "        break\n",
    "    print(value)"
   ]
  },
  {
   "cell_type": "code",
   "execution_count": null,
   "metadata": {
    "colab": {},
    "colab_type": "code",
    "collapsed": false,
    "id": "ELElsItiuZ26",
    "jupyter": {
     "outputs_hidden": false
    },
    "run_control": {
     "frozen": false,
     "read_only": false
    }
   },
   "outputs": [],
   "source": [
    "# break and continue will only exit from the innermost loop\n",
    "foods = ['pasta', 'rice', 'lasagna']\n",
    "deserts = ['cake', 'biscuit']\n",
    "for food in foods:\n",
    "    for desert in deserts:\n",
    "        if food == 'rice':\n",
    "            continue\n",
    "        print(food, desert)"
   ]
  },
  {
   "cell_type": "code",
   "execution_count": null,
   "metadata": {
    "colab": {},
    "colab_type": "code",
    "collapsed": false,
    "id": "FAMfbClouZ29",
    "jupyter": {
     "outputs_hidden": false
    },
    "run_control": {
     "frozen": false,
     "read_only": false
    }
   },
   "outputs": [],
   "source": [
    "# break and continue will only exit from the innermost loop\n",
    "foods = ['pasta', 'rice', 'lasagna']\n",
    "deserts = ['cake', 'biscuit']\n",
    "for food in foods:\n",
    "    for desert in deserts:\n",
    "        if desert == 'biscuit':\n",
    "            break\n",
    "        print(food, desert)"
   ]
  },
  {
   "cell_type": "markdown",
   "metadata": {
    "colab_type": "text",
    "id": "f3LDTIB9uZu8"
   },
   "source": [
    "A note about objects\n",
    "-------\n",
    "\n",
    "- Everything in Python is an object, which can be seen as an advanced version of a variable\n",
    "- objects have methods\n",
    "- the **dir** keyword allows the user to discover them\n",
    "- to access them you can use the following syntax: VARIABLE.ATTRIBUTE or VARIABLE.METHOD()"
   ]
  },
  {
   "cell_type": "code",
   "execution_count": null,
   "metadata": {
    "colab": {},
    "colab_type": "code",
    "collapsed": false,
    "id": "JPVv4rocuZu-",
    "jupyter": {
     "outputs_hidden": false
    },
    "run_control": {
     "frozen": false,
     "read_only": false
    }
   },
   "outputs": [],
   "source": [
    "print(dir(bool))"
   ]
  },
  {
   "cell_type": "markdown",
   "metadata": {
    "colab_type": "text",
    "id": "xoUPSMz0uZv3"
   },
   "source": [
    "Data structures\n",
    "------------"
   ]
  },
  {
   "cell_type": "markdown",
   "metadata": {
    "colab_type": "text",
    "id": "izKnYp3uuZv4"
   },
   "source": [
    "\n",
    "There are quite a few data structures available. The builtins data structures are: \n",
    "- **lists**\n",
    "- **tuples**\n",
    "- **dictionaries**\n",
    "- **strings**\n",
    "- **sets** \n",
    "\n",
    "Lists, strings and tuples are **ordered sequences** of objects. Unlike strings that contain only characters, list and tuples can contain any type of objects. Lists and tuples are like arrays. Tuples like strings are **immutables**. Lists are mutables so they can be extended or reduced at will. Sets are mutable unordered sequence of unique elements.\n",
    "\n",
    "Lists are enclosed in brackets:\n",
    "\n",
    "```    python\n",
    "l = [1, 2, \"a\"]\n",
    "```\n",
    "\n",
    "Tuples are enclosed in parentheses:\n",
    "\n",
    "```python\n",
    "t = (1, 2, \"a\")\n",
    "```\n",
    "\n",
    "Tuples are faster and consume less memory.\n",
    "\n",
    "Dictionaries are built with curly brackets:\n",
    "\n",
    "```python\n",
    "d = {\"a\":1, \"b\":2}\n",
    "```\n",
    "\n",
    "Sets are made using the **set** builtin function. More about the data structures here below:\n",
    "\n",
    "|                    | immutable  | mutable     |\n",
    "|--------------------|------------|-------------|\n",
    "| ordered sequence   | string     |             |\n",
    "| ordered sequence   | tuple      |  list       |\n",
    "| unordered sequence |            |  set        |\n",
    "| hash table         |            |  dict       |\n"
   ]
  },
  {
   "cell_type": "markdown",
   "metadata": {
    "colab_type": "text",
    "id": "WxCqIMANuZv8"
   },
   "source": [
    "**Indexing** starts at 0, like in C"
   ]
  },
  {
   "cell_type": "code",
   "execution_count": null,
   "metadata": {
    "colab": {
     "base_uri": "https://localhost:8080/",
     "height": 34
    },
    "colab_type": "code",
    "collapsed": false,
    "executionInfo": {
     "elapsed": 450,
     "status": "ok",
     "timestamp": 1586992209748,
     "user": {
      "displayName": "Giulio Chiesa",
      "photoUrl": "https://lh3.googleusercontent.com/a-/AOh14GhTac43NP5I-bvSTBnu8F6fSvW7zZ-hiaOhXGI7bw=s64",
      "userId": "10704203183164546918"
     },
     "user_tz": 240
    },
    "id": "fPwcQ1ULuZv9",
    "jupyter": {
     "outputs_hidden": false
    },
    "outputId": "1967de35-a0be-4d3d-8b7c-70f9404dce2b",
    "run_control": {
     "frozen": false,
     "read_only": false
    }
   },
   "outputs": [],
   "source": [
    "s1 = \"Example\"\n",
    "s1[0]"
   ]
  },
  {
   "cell_type": "code",
   "execution_count": null,
   "metadata": {
    "colab": {},
    "colab_type": "code",
    "collapsed": false,
    "id": "aR14QoHVuZwB",
    "jupyter": {
     "outputs_hidden": false
    },
    "run_control": {
     "frozen": false,
     "read_only": false
    }
   },
   "outputs": [],
   "source": [
    "# last index is therefore the length of the string minus 1\n",
    "s1[len(s1)-1]"
   ]
  },
  {
   "cell_type": "code",
   "execution_count": null,
   "metadata": {
    "colab": {},
    "colab_type": "code",
    "collapsed": false,
    "id": "WII4SPVmuZwG",
    "jupyter": {
     "outputs_hidden": false
    }
   },
   "outputs": [],
   "source": [
    "s1[6]"
   ]
  },
  {
   "cell_type": "code",
   "execution_count": null,
   "metadata": {
    "colab": {},
    "colab_type": "code",
    "collapsed": false,
    "id": "uPrvmU91uZwK",
    "jupyter": {
     "outputs_hidden": false
    },
    "run_control": {
     "frozen": false,
     "read_only": false
    }
   },
   "outputs": [],
   "source": [
    "# Negative index can be used to start from the end\n",
    "s1[-2]"
   ]
  },
  {
   "cell_type": "code",
   "execution_count": null,
   "metadata": {
    "colab": {},
    "colab_type": "code",
    "collapsed": false,
    "id": "7_alk6WAuZwP",
    "jupyter": {
     "outputs_hidden": false
    },
    "run_control": {
     "frozen": false,
     "read_only": false
    }
   },
   "outputs": [],
   "source": [
    "# Careful with indexing out of bounds\n",
    "s1[100]"
   ]
  },
  {
   "cell_type": "markdown",
   "metadata": {
    "colab_type": "text",
    "id": "xJ55MAtkuZwV"
   },
   "source": [
    "Strings and slicing\n",
    "-----\n",
    "\n",
    "There are 4 ways to represent strings:\n",
    "- with single quotes\n",
    "- with double quotes\n",
    "- with triple single quotes\n",
    "- with triple double quotes"
   ]
  },
  {
   "cell_type": "code",
   "execution_count": null,
   "metadata": {
    "colab": {},
    "colab_type": "code",
    "collapsed": false,
    "id": "RKxaNurIuZwW",
    "jupyter": {
     "outputs_hidden": false
    },
    "run_control": {
     "frozen": false,
     "read_only": false
    }
   },
   "outputs": [],
   "source": [
    "\"Simple string\""
   ]
  },
  {
   "cell_type": "code",
   "execution_count": null,
   "metadata": {
    "colab": {},
    "colab_type": "code",
    "collapsed": false,
    "id": "Xwovr-z2uZwb",
    "jupyter": {
     "outputs_hidden": false
    },
    "run_control": {
     "frozen": false,
     "read_only": false
    }
   },
   "outputs": [],
   "source": [
    "'Simple string'"
   ]
  },
  {
   "cell_type": "code",
   "execution_count": null,
   "metadata": {
    "colab": {},
    "colab_type": "code",
    "collapsed": false,
    "id": "HxRBrEuDuZwf",
    "jupyter": {
     "outputs_hidden": false
    },
    "run_control": {
     "frozen": false,
     "read_only": false
    }
   },
   "outputs": [],
   "source": [
    "#single quotes can be used to use double quotes and vice versa\n",
    "\"John's book\""
   ]
  },
  {
   "cell_type": "code",
   "execution_count": null,
   "metadata": {
    "colab": {},
    "colab_type": "code",
    "collapsed": false,
    "id": "s68dJRLGuZwl",
    "jupyter": {
     "outputs_hidden": false
    },
    "run_control": {
     "frozen": false,
     "read_only": false
    }
   },
   "outputs": [],
   "source": [
    "#we can also use escaping\n",
    "'John\\'s book'"
   ]
  },
  {
   "cell_type": "code",
   "execution_count": null,
   "metadata": {
    "colab": {},
    "colab_type": "code",
    "collapsed": false,
    "id": "5AF_cQaUuZws",
    "jupyter": {
     "outputs_hidden": false
    },
    "run_control": {
     "frozen": false,
     "read_only": false
    }
   },
   "outputs": [],
   "source": [
    "\"\"\"This is an example of \n",
    "a long string on several lines\"\"\""
   ]
  },
  {
   "cell_type": "markdown",
   "metadata": {
    "colab_type": "text",
    "id": "5qPzAEZ4uZxJ"
   },
   "source": [
    "**String operations**"
   ]
  },
  {
   "cell_type": "code",
   "execution_count": null,
   "metadata": {
    "colab": {},
    "colab_type": "code",
    "collapsed": false,
    "id": "vfDE-gU_uZxJ",
    "jupyter": {
     "outputs_hidden": false
    },
    "run_control": {
     "frozen": false,
     "read_only": false
    }
   },
   "outputs": [],
   "source": [
    "s1 = \"First string\"\n",
    "s2 = \"Second string\"\n",
    "# + operator concatenates strings\n",
    "s1 + \" and \" + s2"
   ]
  },
  {
   "cell_type": "code",
   "execution_count": null,
   "metadata": {
    "colab": {},
    "colab_type": "code",
    "collapsed": false,
    "id": "UzB5BhvzuZxT",
    "jupyter": {
     "outputs_hidden": false
    },
    "run_control": {
     "frozen": false,
     "read_only": false
    }
   },
   "outputs": [],
   "source": [
    "# Strings are immutables\n",
    "# Try\n",
    "s1[0] = 'e'"
   ]
  },
  {
   "cell_type": "code",
   "execution_count": null,
   "metadata": {
    "colab": {},
    "colab_type": "code",
    "collapsed": false,
    "id": "J5nOZuu0uZxX",
    "jupyter": {
     "outputs_hidden": false
    },
    "run_control": {
     "frozen": false,
     "read_only": false
    }
   },
   "outputs": [],
   "source": [
    "# to change an item, you got to create a new string\n",
    "'N' + s1[1:]"
   ]
  },
  {
   "cell_type": "markdown",
   "metadata": {
    "colab_type": "text",
    "id": "r81gJeynuZxb"
   },
   "source": [
    "**Slicing sequence syntax**\n",
    "\n",
    "Applies to strings as well as lists, tuples and any other **iterable** (_i.e._ an object that behaves like a list, tuple, etc..)\n",
    "\n",
    "<pre>\n",
    "- [start:end:step]   most general slicing\n",
    "- [start:end:]      (step=1)\n",
    "- [start:end]       (step=1)\n",
    "- [start:]          (step=1,end=-1)\n",
    "- [:]               (start=0,end=-1, step=1)\n",
    "- [::2]             (start=0, end=-1, step=2)\n",
    "</pre>"
   ]
  },
  {
   "cell_type": "code",
   "execution_count": null,
   "metadata": {
    "colab": {},
    "colab_type": "code",
    "collapsed": false,
    "id": "mKD0-SRWuZxu",
    "jupyter": {
     "outputs_hidden": false
    }
   },
   "outputs": [],
   "source": [
    "s1 = 'Banana'\n",
    "s1[1:6:2]"
   ]
  },
  {
   "cell_type": "code",
   "execution_count": null,
   "metadata": {
    "colab": {},
    "colab_type": "code",
    "collapsed": false,
    "id": "NPTNimXkuZxx",
    "jupyter": {
     "outputs_hidden": false
    },
    "run_control": {
     "frozen": false,
     "read_only": false
    }
   },
   "outputs": [],
   "source": [
    "s = 'TEST'\n",
    "s[-1:-4:-2]"
   ]
  },
  {
   "cell_type": "code",
   "execution_count": null,
   "metadata": {
    "colab": {},
    "colab_type": "code",
    "collapsed": false,
    "id": "c7YuacnhuZx0",
    "jupyter": {
     "outputs_hidden": false
    },
    "run_control": {
     "frozen": false,
     "read_only": false
    }
   },
   "outputs": [],
   "source": [
    "# slicing. using one : character means from start to end index.\n",
    "s1 = \"First string\"\n",
    "s1[:]"
   ]
  },
  {
   "cell_type": "code",
   "execution_count": null,
   "metadata": {
    "colab": {},
    "colab_type": "code",
    "collapsed": false,
    "id": "71SPc8-muZx4",
    "jupyter": {
     "outputs_hidden": false
    },
    "run_control": {
     "frozen": false,
     "read_only": false
    }
   },
   "outputs": [],
   "source": [
    "s1[::2]"
   ]
  },
  {
   "cell_type": "code",
   "execution_count": null,
   "metadata": {
    "colab": {},
    "colab_type": "code",
    "collapsed": false,
    "id": "zCX8zC7tuZx-",
    "jupyter": {
     "outputs_hidden": false
    },
    "run_control": {
     "frozen": false,
     "read_only": false
    }
   },
   "outputs": [],
   "source": [
    "# indexing\n",
    "s1[0]"
   ]
  },
  {
   "cell_type": "markdown",
   "metadata": {
    "colab_type": "text",
    "id": "il2bpb3luZyB"
   },
   "source": [
    "**Other string operations**"
   ]
  },
  {
   "cell_type": "code",
   "execution_count": null,
   "metadata": {
    "colab": {},
    "colab_type": "code",
    "collapsed": false,
    "id": "tVZN3Sf7uZyB",
    "jupyter": {
     "outputs_hidden": false
    },
    "run_control": {
     "frozen": false,
     "read_only": false
    }
   },
   "outputs": [],
   "source": [
    "print(dir(s1))"
   ]
  },
  {
   "cell_type": "markdown",
   "metadata": {
    "colab_type": "text",
    "id": "9uxqSojfuZyE"
   },
   "source": [
    "Well, that's a lot ! Here are the common useful ones:\n",
    "- split\n",
    "- find\n",
    "- index\n",
    "- replace\n",
    "- lower\n",
    "- upper\n",
    "- endswith\n",
    "- startswith\n",
    "- strip"
   ]
  },
  {
   "cell_type": "code",
   "execution_count": null,
   "metadata": {
    "colab": {},
    "colab_type": "code",
    "collapsed": false,
    "id": "iWexHGfUuZyF",
    "jupyter": {
     "outputs_hidden": false
    },
    "run_control": {
     "frozen": false,
     "read_only": false
    }
   },
   "outputs": [],
   "source": [
    "# split is very useful when parsing files\n",
    "s = 'first second third'\n",
    "s.split()"
   ]
  },
  {
   "cell_type": "code",
   "execution_count": null,
   "metadata": {
    "colab": {},
    "colab_type": "code",
    "collapsed": false,
    "id": "HtPHQapIuZyJ",
    "jupyter": {
     "outputs_hidden": false
    },
    "run_control": {
     "frozen": false,
     "read_only": false
    }
   },
   "outputs": [],
   "source": [
    "# a different character can be used as well as separator\n",
    "s = 'first,second,third'\n",
    "s.split(',')"
   ]
  },
  {
   "cell_type": "code",
   "execution_count": null,
   "metadata": {
    "colab": {},
    "colab_type": "code",
    "collapsed": false,
    "id": "6rSV9RzduZyP",
    "jupyter": {
     "outputs_hidden": false
    },
    "run_control": {
     "frozen": false,
     "read_only": false
    }
   },
   "outputs": [],
   "source": [
    "# Upper is a very easy and handy method\n",
    "s.upper()"
   ]
  },
  {
   "cell_type": "code",
   "execution_count": null,
   "metadata": {
    "colab": {},
    "colab_type": "code",
    "collapsed": false,
    "id": "UmbxM1_3uZyU",
    "jupyter": {
     "outputs_hidden": false
    },
    "run_control": {
     "frozen": false,
     "read_only": false
    }
   },
   "outputs": [],
   "source": [
    "# Methods can be chained as well!\n",
    "s.upper().lower().split(',')"
   ]
  },
  {
   "cell_type": "markdown",
   "metadata": {
    "colab_type": "text",
    "id": "1mpEHmdEuZyX"
   },
   "source": [
    "Lists\n",
    "-----\n",
    "\n",
    "The syntax to create a list can be the function **list** or square brackets **[]**"
   ]
  },
  {
   "cell_type": "code",
   "execution_count": null,
   "metadata": {
    "colab": {
     "base_uri": "https://localhost:8080/",
     "height": 34
    },
    "colab_type": "code",
    "collapsed": false,
    "executionInfo": {
     "elapsed": 368,
     "status": "ok",
     "timestamp": 1586992030999,
     "user": {
      "displayName": "Giulio Chiesa",
      "photoUrl": "https://lh3.googleusercontent.com/a-/AOh14GhTac43NP5I-bvSTBnu8F6fSvW7zZ-hiaOhXGI7bw=s64",
      "userId": "10704203183164546918"
     },
     "user_tz": 240
    },
    "id": "R_zoBVrwuZyZ",
    "jupyter": {
     "outputs_hidden": false
    },
    "outputId": "c60b0f3b-d895-4e57-c45d-21bf30749868",
    "run_control": {
     "frozen": false,
     "read_only": false
    }
   },
   "outputs": [],
   "source": [
    "# you can  any kind of objects in a lists. This is not an array !\n",
    "l = [1, 'a', 3]\n",
    "l"
   ]
  },
  {
   "cell_type": "code",
   "execution_count": null,
   "metadata": {
    "colab": {
     "base_uri": "https://localhost:8080/",
     "height": 34
    },
    "colab_type": "code",
    "collapsed": false,
    "executionInfo": {
     "elapsed": 360,
     "status": "ok",
     "timestamp": 1586992033334,
     "user": {
      "displayName": "Giulio Chiesa",
      "photoUrl": "https://lh3.googleusercontent.com/a-/AOh14GhTac43NP5I-bvSTBnu8F6fSvW7zZ-hiaOhXGI7bw=s64",
      "userId": "10704203183164546918"
     },
     "user_tz": 240
    },
    "id": "X3StJaLWuZyf",
    "jupyter": {
     "outputs_hidden": false
    },
    "outputId": "93ea96f4-d21c-4373-edbf-9ca0d9dee097",
    "run_control": {
     "frozen": false,
     "read_only": false
    }
   },
   "outputs": [],
   "source": [
    "# slicing and indexing like for strings are available\n",
    "l[0]\n",
    "l[0::2]"
   ]
  },
  {
   "cell_type": "code",
   "execution_count": null,
   "metadata": {
    "colab": {},
    "colab_type": "code",
    "collapsed": false,
    "id": "xNaikgeEuZyo",
    "jupyter": {
     "outputs_hidden": false
    }
   },
   "outputs": [],
   "source": [
    "l"
   ]
  },
  {
   "cell_type": "code",
   "execution_count": null,
   "metadata": {
    "colab": {},
    "colab_type": "code",
    "collapsed": false,
    "id": "vg18I4xOuZyw",
    "jupyter": {
     "outputs_hidden": false
    },
    "run_control": {
     "frozen": false,
     "read_only": false
    }
   },
   "outputs": [],
   "source": [
    "# list are mutable sequences:\n",
    "l[1] = 2\n",
    "l"
   ]
  },
  {
   "cell_type": "markdown",
   "metadata": {
    "colab_type": "text",
    "id": "gVEDu8MeuZy3"
   },
   "source": [
    "**Mathematical operators can be applied to lists as well**"
   ]
  },
  {
   "cell_type": "code",
   "execution_count": null,
   "metadata": {
    "colab": {},
    "colab_type": "code",
    "collapsed": false,
    "id": "WsBiv5FQuZy5",
    "jupyter": {
     "outputs_hidden": false
    },
    "run_control": {
     "frozen": false,
     "read_only": false
    }
   },
   "outputs": [],
   "source": [
    "[1, 2] + [3, 4]"
   ]
  },
  {
   "cell_type": "code",
   "execution_count": null,
   "metadata": {
    "colab": {},
    "colab_type": "code",
    "collapsed": false,
    "id": "jx9qvn1nuZy_",
    "jupyter": {
     "outputs_hidden": false
    },
    "run_control": {
     "frozen": false,
     "read_only": false
    }
   },
   "outputs": [],
   "source": [
    "[1, 2] * 10"
   ]
  },
  {
   "cell_type": "markdown",
   "metadata": {
    "colab_type": "text",
    "id": "qdAqQqZyuZzD"
   },
   "source": [
    "**Adding elements to a list: append Vs. expand**\n",
    "\n",
    "Lists have several methods amongst \n",
    "which the **append** and **extend** methods. The former appends an object to the end of the list (e.g., another list) while the later appends each element of the iterable object (e.g., anothee list) to the end of the list.\n",
    "\n",
    "For example, we can append an object (here the character 'c') to the end of a simple list as follows:"
   ]
  },
  {
   "cell_type": "code",
   "execution_count": null,
   "metadata": {
    "colab": {},
    "colab_type": "code",
    "collapsed": false,
    "id": "CXqJmGx1uZzE",
    "jupyter": {
     "outputs_hidden": false
    },
    "run_control": {
     "frozen": false,
     "read_only": false
    }
   },
   "outputs": [],
   "source": [
    "stack = ['a','b']\n",
    "stack.append('c')\n",
    "stack"
   ]
  },
  {
   "cell_type": "code",
   "execution_count": null,
   "metadata": {
    "colab": {},
    "colab_type": "code",
    "collapsed": false,
    "id": "ACSmP-qYuZzI",
    "jupyter": {
     "outputs_hidden": false
    },
    "run_control": {
     "frozen": false,
     "read_only": false
    }
   },
   "outputs": [],
   "source": [
    "stack.append(['d', 'e', 'f'])\n",
    "stack"
   ]
  },
  {
   "cell_type": "code",
   "execution_count": null,
   "metadata": {
    "colab": {},
    "colab_type": "code",
    "collapsed": false,
    "id": "dgUXUnlguZzL",
    "jupyter": {
     "outputs_hidden": false
    }
   },
   "outputs": [],
   "source": [
    "stack[3]"
   ]
  },
  {
   "cell_type": "markdown",
   "metadata": {
    "colab_type": "text",
    "id": "_B-mHI7iuZzP"
   },
   "source": [
    "The object ``['d', 'e', 'f']`` has been appended to the exiistng list. However, it happens that sometimes what we want is to append the elements one by one of a given list rather the list itself. You can do that manually of course, but a better solution is to use the :func:`extend()` method as follows:\n"
   ]
  },
  {
   "cell_type": "code",
   "execution_count": null,
   "metadata": {
    "colab": {},
    "colab_type": "code",
    "collapsed": false,
    "id": "vvSE8FituZzQ",
    "jupyter": {
     "outputs_hidden": false
    },
    "run_control": {
     "frozen": false,
     "read_only": false
    }
   },
   "outputs": [],
   "source": [
    "# the manual way\n",
    "stack = ['a', 'b', 'c']\n",
    "stack.append('d')\n",
    "stack.append('e')\n",
    "stack.append('f')\n",
    "stack"
   ]
  },
  {
   "cell_type": "code",
   "execution_count": null,
   "metadata": {
    "colab": {},
    "colab_type": "code",
    "collapsed": false,
    "id": "Lhmkf3rPuZzT",
    "jupyter": {
     "outputs_hidden": false
    },
    "run_control": {
     "frozen": false,
     "read_only": false
    }
   },
   "outputs": [],
   "source": [
    "# semi-manual way, using a \"for\" loop\n",
    "stack = ['a', 'b', 'c']\n",
    "to_add = ['d', 'e', 'f']\n",
    "for element in to_add:\n",
    "    stack.append(element)\n",
    "stack"
   ]
  },
  {
   "cell_type": "code",
   "execution_count": null,
   "metadata": {
    "colab": {},
    "colab_type": "code",
    "collapsed": false,
    "id": "_1RAmXMWuZzX",
    "jupyter": {
     "outputs_hidden": false
    },
    "run_control": {
     "frozen": false,
     "read_only": false
    }
   },
   "outputs": [],
   "source": [
    "# the smarter way\n",
    "stack = ['a', 'b', 'c']\n",
    "stack.extend(['d', 'e','f'])\n",
    "stack"
   ]
  },
  {
   "cell_type": "markdown",
   "metadata": {
    "colab_type": "text",
    "id": "uTmQ5u0puZzb"
   },
   "source": [
    "Tuples\n",
    "----\n",
    "\n",
    "Tuples are sequences similar to lists but **immutables**. Use the parentheses to create a tuple"
   ]
  },
  {
   "cell_type": "code",
   "execution_count": null,
   "metadata": {
    "colab": {},
    "colab_type": "code",
    "collapsed": false,
    "id": "wi5k1wfYuZzd",
    "jupyter": {
     "outputs_hidden": false
    },
    "run_control": {
     "frozen": false,
     "read_only": false
    }
   },
   "outputs": [],
   "source": [
    "t = (1, 2, 3)\n",
    "t"
   ]
  },
  {
   "cell_type": "code",
   "execution_count": null,
   "metadata": {
    "colab": {},
    "colab_type": "code",
    "collapsed": false,
    "id": "sXSO1xsduZzi",
    "jupyter": {
     "outputs_hidden": false
    },
    "run_control": {
     "frozen": false,
     "read_only": false
    }
   },
   "outputs": [],
   "source": [
    "# simple creation:\n",
    "t = 1, 2, 3\n",
    "print(t)\n",
    "t[0] = 3"
   ]
  },
  {
   "cell_type": "code",
   "execution_count": null,
   "metadata": {
    "colab": {},
    "colab_type": "code",
    "collapsed": false,
    "id": "6RC6jPZJuZzl",
    "jupyter": {
     "outputs_hidden": false
    },
    "run_control": {
     "frozen": false,
     "read_only": false
    }
   },
   "outputs": [],
   "source": [
    "# Would this work?\n",
    "(1)"
   ]
  },
  {
   "cell_type": "code",
   "execution_count": null,
   "metadata": {
    "colab": {},
    "colab_type": "code",
    "collapsed": false,
    "id": "4XXwyQnAuZzq",
    "jupyter": {
     "outputs_hidden": false
    },
    "run_control": {
     "frozen": false,
     "read_only": false
    }
   },
   "outputs": [],
   "source": [
    "# To enforce a tuple creation, add a comma\n",
    "(1,)"
   ]
  },
  {
   "cell_type": "markdown",
   "metadata": {
    "colab_type": "text",
    "id": "K35C9cbQuZzt"
   },
   "source": [
    "**Same operators as lists**"
   ]
  },
  {
   "cell_type": "code",
   "execution_count": null,
   "metadata": {
    "colab": {},
    "colab_type": "code",
    "collapsed": false,
    "id": "vXL2a-QduZzv",
    "jupyter": {
     "outputs_hidden": false
    },
    "run_control": {
     "frozen": false,
     "read_only": false
    }
   },
   "outputs": [],
   "source": [
    "(1,) * 5"
   ]
  },
  {
   "cell_type": "code",
   "execution_count": null,
   "metadata": {
    "colab": {},
    "colab_type": "code",
    "collapsed": false,
    "id": "LYtYfkA1uZzz",
    "jupyter": {
     "outputs_hidden": false
    },
    "run_control": {
     "frozen": false,
     "read_only": false
    }
   },
   "outputs": [],
   "source": [
    "t1 = (1,0)\n",
    "t1 += (1,)\n",
    "t1"
   ]
  },
  {
   "cell_type": "markdown",
   "metadata": {
    "colab_type": "text",
    "id": "X_BryxWnuZz3"
   },
   "source": [
    "**Why tuples instead of lists?**\n",
    "\n",
    "- faster than list\n",
    "- protects the data (immutable)\n",
    "- tuples, being immutable, can be used as keys on dictionaries (more on that later)"
   ]
  },
  {
   "cell_type": "markdown",
   "metadata": {
    "colab_type": "text",
    "id": "2oc0oe8muZz3"
   },
   "source": [
    "Sets\n",
    "----\n",
    "\n",
    "Sets are constructed from a sequence (or some other iterable object). Since sets cannot have duplicates, there are usually used to build sequence of unique items (e.g., set of identifiers).\n",
    "\n",
    "The syntax to create a set can be the function **set** or curly braces **{}**\n"
   ]
  },
  {
   "cell_type": "code",
   "execution_count": null,
   "metadata": {
    "colab": {},
    "colab_type": "code",
    "collapsed": false,
    "id": "Bfx-0k9uuZz4",
    "jupyter": {
     "outputs_hidden": false
    },
    "run_control": {
     "frozen": false,
     "read_only": false
    }
   },
   "outputs": [],
   "source": [
    "a = {'1', '2', 'a', '4'}\n",
    "a"
   ]
  },
  {
   "cell_type": "code",
   "execution_count": null,
   "metadata": {
    "colab": {},
    "colab_type": "code",
    "collapsed": false,
    "id": "ssZfFP9PuZz8",
    "jupyter": {
     "outputs_hidden": false
    },
    "run_control": {
     "frozen": false,
     "read_only": false
    }
   },
   "outputs": [],
   "source": [
    "# a list preserves duplicates\n",
    "a = [1, 1, 1, 2, 2, 3, 4]\n",
    "a"
   ]
  },
  {
   "cell_type": "code",
   "execution_count": null,
   "metadata": {
    "colab": {},
    "colab_type": "code",
    "collapsed": false,
    "id": "VCwBCbhUuZz_",
    "jupyter": {
     "outputs_hidden": false
    },
    "run_control": {
     "frozen": false,
     "read_only": false
    }
   },
   "outputs": [],
   "source": [
    "# a set ignores duplications\n",
    "a = {1, 2, 1, 2, 2, 3, 4}\n",
    "a"
   ]
  },
  {
   "cell_type": "code",
   "execution_count": null,
   "metadata": {
    "colab": {},
    "colab_type": "code",
    "collapsed": false,
    "id": "qceEaG-QuZ0K",
    "jupyter": {
     "outputs_hidden": false
    },
    "run_control": {
     "frozen": false,
     "read_only": false
    }
   },
   "outputs": [],
   "source": [
    "a = []\n",
    "to_add = [1, 1, 1, 2, 2, 3, 4]\n",
    "for element in to_add:\n",
    "    if element in a:\n",
    "        continue\n",
    "    else:\n",
    "        a.append(element)\n",
    "a"
   ]
  },
  {
   "cell_type": "code",
   "execution_count": null,
   "metadata": {
    "colab": {},
    "colab_type": "code",
    "collapsed": false,
    "id": "ke1HbOuAuZ0N",
    "jupyter": {
     "outputs_hidden": false
    },
    "run_control": {
     "frozen": false,
     "read_only": false
    }
   },
   "outputs": [],
   "source": [
    "# Sets have the very handy \"add\" method\n",
    "a = set()\n",
    "to_add = [1, 1, 1, 2, 2, 3, 4]\n",
    "for element in to_add:\n",
    "    a.add(element)\n",
    "a"
   ]
  },
  {
   "cell_type": "markdown",
   "metadata": {
    "colab_type": "text",
    "id": "FMH5aw1QuZ0R"
   },
   "source": [
    "**Sets have very interesting operators**\n",
    "\n",
    "What operators do we have ?\n",
    "- | for union\n",
    "- & for intersection\n",
    "- < for subset\n",
    "- \\- for difference\n",
    "- ^ for symmetric difference"
   ]
  },
  {
   "cell_type": "code",
   "execution_count": null,
   "metadata": {
    "colab": {},
    "colab_type": "code",
    "id": "Mu05WkXUuZ0R",
    "run_control": {
     "frozen": false,
     "read_only": false
    }
   },
   "outputs": [],
   "source": [
    "a = {'a', 'b', 'c'}\n",
    "b = {'a', 'b', 'd'}\n",
    "c = {'a', 'e', 'f'}"
   ]
  },
  {
   "cell_type": "code",
   "execution_count": null,
   "metadata": {
    "colab": {},
    "colab_type": "code",
    "collapsed": false,
    "id": "YgQajHTcuZ0U",
    "jupyter": {
     "outputs_hidden": false
    },
    "run_control": {
     "frozen": false,
     "read_only": false
    }
   },
   "outputs": [],
   "source": [
    "# intersection\n",
    "a & b"
   ]
  },
  {
   "cell_type": "code",
   "execution_count": null,
   "metadata": {
    "colab": {},
    "colab_type": "code",
    "collapsed": false,
    "id": "uYyGEY36uZ0X",
    "jupyter": {
     "outputs_hidden": false
    },
    "run_control": {
     "frozen": false,
     "read_only": false
    }
   },
   "outputs": [],
   "source": [
    "# union\n",
    "a | b"
   ]
  },
  {
   "cell_type": "code",
   "execution_count": null,
   "metadata": {
    "colab": {},
    "colab_type": "code",
    "collapsed": false,
    "id": "DR1eFTvruZ0a",
    "jupyter": {
     "outputs_hidden": false
    },
    "run_control": {
     "frozen": false,
     "read_only": false
    }
   },
   "outputs": [],
   "source": [
    "# difference\n",
    "a - b"
   ]
  },
  {
   "cell_type": "code",
   "execution_count": null,
   "metadata": {
    "colab": {},
    "colab_type": "code",
    "collapsed": false,
    "id": "lnj2cF1duZ0e",
    "jupyter": {
     "outputs_hidden": false
    },
    "run_control": {
     "frozen": false,
     "read_only": false
    }
   },
   "outputs": [],
   "source": [
    "# symmetric difference\n",
    "a ^ b"
   ]
  },
  {
   "cell_type": "code",
   "execution_count": null,
   "metadata": {
    "colab": {},
    "colab_type": "code",
    "collapsed": false,
    "id": "KGf1wY24uZ0i",
    "jupyter": {
     "outputs_hidden": false
    },
    "run_control": {
     "frozen": false,
     "read_only": false
    }
   },
   "outputs": [],
   "source": [
    "# is my set a subset of the other?\n",
    "a < b"
   ]
  },
  {
   "cell_type": "code",
   "execution_count": null,
   "metadata": {
    "colab": {},
    "colab_type": "code",
    "collapsed": false,
    "id": "m5mhxWuPuZ0m",
    "jupyter": {
     "outputs_hidden": false
    },
    "run_control": {
     "frozen": false,
     "read_only": false
    }
   },
   "outputs": [],
   "source": [
    "# operators can be chained as well\n",
    "a & b & c"
   ]
  },
  {
   "cell_type": "code",
   "execution_count": null,
   "metadata": {
    "colab": {},
    "colab_type": "code",
    "collapsed": false,
    "id": "9LEjCqB4uZ0s",
    "jupyter": {
     "outputs_hidden": false
    },
    "run_control": {
     "frozen": false,
     "read_only": false
    }
   },
   "outputs": [],
   "source": [
    "# the same operations can be performed using the operator's name\n",
    "a.intersection(b).intersection(c)"
   ]
  },
  {
   "cell_type": "code",
   "execution_count": null,
   "metadata": {
    "colab": {},
    "colab_type": "code",
    "collapsed": false,
    "id": "zkeBp5STuZ0z",
    "jupyter": {
     "outputs_hidden": false
    },
    "run_control": {
     "frozen": false,
     "read_only": false
    }
   },
   "outputs": [],
   "source": [
    "# a more complex operation\n",
    "a.intersection(b).difference(c)"
   ]
  },
  {
   "cell_type": "markdown",
   "metadata": {
    "colab_type": "text",
    "id": "TgMUqHvXuZ02"
   },
   "source": [
    "Dictionaries\n",
    "------\n",
    "\n",
    "- A dictionary is a sequence of items.\n",
    "- Each item is a pair made of a **key** and a **value**. They are useful to convert a **key** to its corresponding **value** (_e.g._ gene identifier to its common name)\n",
    "- Dictionaries are unordered. \n",
    "- You can access to the list of keys or values independently."
   ]
  },
  {
   "cell_type": "code",
   "execution_count": null,
   "metadata": {
    "colab": {},
    "colab_type": "code",
    "id": "ktouwpdAuZ03",
    "run_control": {
     "frozen": false,
     "read_only": false
    }
   },
   "outputs": [],
   "source": [
    "d = {} # an empty dictionary"
   ]
  },
  {
   "cell_type": "code",
   "execution_count": null,
   "metadata": {
    "colab": {},
    "colab_type": "code",
    "id": "StAejAeSuZ06",
    "run_control": {
     "frozen": false,
     "read_only": false
    }
   },
   "outputs": [],
   "source": [
    "d = {'first':1, 'second':2} # initialise a dictionary"
   ]
  },
  {
   "cell_type": "code",
   "execution_count": null,
   "metadata": {
    "colab": {},
    "colab_type": "code",
    "collapsed": false,
    "id": "IAnEihCuuZ08",
    "jupyter": {
     "outputs_hidden": false
    },
    "run_control": {
     "frozen": false,
     "read_only": false
    }
   },
   "outputs": [],
   "source": [
    "# access to value given a key:\n",
    "d['first']"
   ]
  },
  {
   "cell_type": "code",
   "execution_count": null,
   "metadata": {
    "colab": {},
    "colab_type": "code",
    "id": "thxeGSc5uZ0_",
    "run_control": {
     "frozen": false,
     "read_only": false
    }
   },
   "outputs": [],
   "source": [
    "# add a new pair of key/value:\n",
    "d['third'] = 3"
   ]
  },
  {
   "cell_type": "code",
   "execution_count": null,
   "metadata": {
    "colab": {},
    "colab_type": "code",
    "collapsed": false,
    "id": "fuQAjA0BuZ1E",
    "jupyter": {
     "outputs_hidden": false
    },
    "run_control": {
     "frozen": false,
     "read_only": false
    }
   },
   "outputs": [],
   "source": [
    "# what are the keys ?\n",
    "d.keys()"
   ]
  },
  {
   "cell_type": "code",
   "execution_count": null,
   "metadata": {
    "colab": {},
    "colab_type": "code",
    "collapsed": false,
    "id": "nWG9lKb5uZ1H",
    "jupyter": {
     "outputs_hidden": false
    },
    "run_control": {
     "frozen": false,
     "read_only": false
    }
   },
   "outputs": [],
   "source": [
    "# what are the values ?\n",
    "d.values()"
   ]
  },
  {
   "cell_type": "code",
   "execution_count": null,
   "metadata": {
    "colab": {},
    "colab_type": "code",
    "collapsed": false,
    "id": "eecKftU-uZ1L",
    "jupyter": {
     "outputs_hidden": false
    },
    "run_control": {
     "frozen": false,
     "read_only": false
    }
   },
   "outputs": [],
   "source": [
    "# what are the key/values pairs?\n",
    "d.items()"
   ]
  },
  {
   "cell_type": "code",
   "execution_count": null,
   "metadata": {
    "colab": {},
    "colab_type": "code",
    "collapsed": false,
    "id": "1pziGJAxuZ1V",
    "jupyter": {
     "outputs_hidden": false
    },
    "run_control": {
     "frozen": false,
     "read_only": false
    }
   },
   "outputs": [],
   "source": [
    "# can be used in a for loop as well\n",
    "for key, value in d.items():\n",
    "    print(key, value)"
   ]
  },
  {
   "cell_type": "code",
   "execution_count": null,
   "metadata": {
    "colab": {},
    "colab_type": "code",
    "collapsed": false,
    "id": "zJrfRURsuZ1Y",
    "jupyter": {
     "outputs_hidden": false
    },
    "run_control": {
     "frozen": false,
     "read_only": false
    }
   },
   "outputs": [],
   "source": [
    "# Delete a key (and its value)\n",
    "del d['third']\n",
    "d"
   ]
  },
  {
   "cell_type": "code",
   "execution_count": null,
   "metadata": {
    "colab": {},
    "colab_type": "code",
    "collapsed": false,
    "id": "LetmUjpHuZ1b",
    "jupyter": {
     "outputs_hidden": false
    },
    "run_control": {
     "frozen": false,
     "read_only": false
    }
   },
   "outputs": [],
   "source": [
    "# naive for loop approach:\n",
    "for key in d.keys():\n",
    "    print(key, d[key])"
   ]
  },
  {
   "cell_type": "code",
   "execution_count": null,
   "metadata": {
    "colab": {},
    "colab_type": "code",
    "collapsed": false,
    "id": "E1X07TkTuZ1f",
    "jupyter": {
     "outputs_hidden": false
    },
    "run_control": {
     "frozen": false,
     "read_only": false
    }
   },
   "outputs": [],
   "source": [
    "# no need to call the \"keys\" method explicitly\n",
    "for key in d:\n",
    "    print(key, d[key])"
   ]
  },
  {
   "cell_type": "code",
   "execution_count": null,
   "metadata": {
    "colab": {},
    "colab_type": "code",
    "collapsed": false,
    "id": "p1c8xsbSuZ1i",
    "jupyter": {
     "outputs_hidden": false
    },
    "run_control": {
     "frozen": false,
     "read_only": false
    }
   },
   "outputs": [],
   "source": [
    "# careful not to look for keys that are NOT in the dictionary\n",
    "d['fourth']"
   ]
  },
  {
   "cell_type": "code",
   "execution_count": null,
   "metadata": {
    "colab": {},
    "colab_type": "code",
    "id": "ipAyiYJcuZ1n",
    "run_control": {
     "frozen": false,
     "read_only": false
    }
   },
   "outputs": [],
   "source": [
    "# the \"get\" method allows a safe retrieval of a key\n",
    "d.get('fourth')"
   ]
  },
  {
   "cell_type": "code",
   "execution_count": null,
   "metadata": {
    "colab": {},
    "colab_type": "code",
    "collapsed": false,
    "id": "cAbxrrcvuZ1p",
    "jupyter": {
     "outputs_hidden": false
    },
    "run_control": {
     "frozen": false,
     "read_only": false
    }
   },
   "outputs": [],
   "source": [
    "# the \"get\" method returns a type \"None\" if the key is not present\n",
    "# a different value can be specified in case of a missed key\n",
    "d.get('fourth', 4)"
   ]
  },
  {
   "cell_type": "markdown",
   "metadata": {
    "colab_type": "text",
    "id": "odeuOzMTuZ1-"
   },
   "source": [
    "**Note on the \"None\" type**"
   ]
  },
  {
   "cell_type": "code",
   "execution_count": null,
   "metadata": {
    "colab": {},
    "colab_type": "code",
    "collapsed": false,
    "id": "cARzsnR_uZ1-",
    "jupyter": {
     "outputs_hidden": false
    },
    "run_control": {
     "frozen": false,
     "read_only": false
    }
   },
   "outputs": [],
   "source": [
    "n = None\n",
    "n"
   ]
  },
  {
   "cell_type": "code",
   "execution_count": null,
   "metadata": {
    "colab": {},
    "colab_type": "code",
    "collapsed": false,
    "id": "DW_8OX-vuZ2A",
    "jupyter": {
     "outputs_hidden": false
    },
    "run_control": {
     "frozen": false,
     "read_only": false
    }
   },
   "outputs": [],
   "source": [
    "print(n)"
   ]
  },
  {
   "cell_type": "code",
   "execution_count": null,
   "metadata": {
    "colab": {},
    "colab_type": "code",
    "collapsed": false,
    "id": "Gmajq1l3uZ2E",
    "jupyter": {
     "outputs_hidden": false
    },
    "run_control": {
     "frozen": false,
     "read_only": false
    }
   },
   "outputs": [],
   "source": [
    "None + 1"
   ]
  },
  {
   "cell_type": "code",
   "execution_count": null,
   "metadata": {
    "colab": {},
    "colab_type": "code",
    "collapsed": false,
    "id": "eIjgfFkVuZ2H",
    "jupyter": {
     "outputs_hidden": false
    },
    "run_control": {
     "frozen": false,
     "read_only": false
    }
   },
   "outputs": [],
   "source": [
    "# equivalent to False\n",
    "if n is None:\n",
    "    print(1)\n",
    "else:\n",
    "    print(0)"
   ]
  },
  {
   "cell_type": "code",
   "execution_count": null,
   "metadata": {
    "colab": {},
    "colab_type": "code",
    "collapsed": false,
    "id": "fCY7cUinuZ2K",
    "jupyter": {
     "outputs_hidden": false
    },
    "run_control": {
     "frozen": false,
     "read_only": false
    }
   },
   "outputs": [],
   "source": [
    "# we can explicitly test for a variable being \"None\"\n",
    "value = d.get('fourth')\n",
    "if value is None:\n",
    "    print('Key not found!')"
   ]
  },
  {
   "cell_type": "markdown",
   "metadata": {
    "colab_type": "text",
    "id": "zlJzrL_ZuZvG"
   },
   "source": [
    "Importing standard python modules\n",
    "---------------\n",
    "\n",
    "Standard python modules are libraries that are available without the need to install additional software (they come together with the python interpreter). They only need to be **imported**. The **import** keyword allows us to import standard (and non standard) Python modules. Some common ones:\n",
    "- os\n",
    "- math\n",
    "- sys\n",
    "- urllib2\n",
    "- tens of others are available. See https://docs.python.org/3/py-modindex.html"
   ]
  },
  {
   "cell_type": "code",
   "execution_count": null,
   "metadata": {
    "colab": {},
    "colab_type": "code",
    "collapsed": false,
    "id": "1jCQktV8uZvH",
    "jupyter": {
     "outputs_hidden": false
    },
    "run_control": {
     "frozen": false,
     "read_only": false
    }
   },
   "outputs": [],
   "source": [
    "import os\n",
    "os.listdir('.')"
   ]
  },
  {
   "cell_type": "code",
   "execution_count": null,
   "metadata": {
    "colab": {},
    "colab_type": "code",
    "collapsed": false,
    "id": "ZPBXL2MtuZvN",
    "jupyter": {
     "outputs_hidden": false
    },
    "run_control": {
     "frozen": false,
     "read_only": false
    }
   },
   "outputs": [],
   "source": [
    "os.path.exists('data.txt')"
   ]
  },
  {
   "cell_type": "code",
   "execution_count": null,
   "metadata": {
    "colab": {},
    "colab_type": "code",
    "collapsed": false,
    "id": "SnkELDGwuZvR",
    "jupyter": {
     "outputs_hidden": false
    },
    "run_control": {
     "frozen": false,
     "read_only": false
    }
   },
   "outputs": [],
   "source": [
    "os.path.isdir('.ipynb_checkpoints/')"
   ]
  },
  {
   "cell_type": "markdown",
   "metadata": {
    "colab_type": "text",
    "id": "r53-bsI_uZvW"
   },
   "source": [
    "**Import comes in different flavors**"
   ]
  },
  {
   "cell_type": "code",
   "execution_count": null,
   "metadata": {
    "colab": {},
    "colab_type": "code",
    "collapsed": false,
    "id": "ISWelzscuZvW",
    "jupyter": {
     "outputs_hidden": false
    },
    "run_control": {
     "frozen": false,
     "read_only": false
    }
   },
   "outputs": [],
   "source": [
    "import math\n",
    "math.pi"
   ]
  },
  {
   "cell_type": "code",
   "execution_count": null,
   "metadata": {
    "colab": {},
    "colab_type": "code",
    "collapsed": false,
    "id": "PJVUGaFXuZvf",
    "jupyter": {
     "outputs_hidden": false
    },
    "run_control": {
     "frozen": false,
     "read_only": false
    }
   },
   "outputs": [],
   "source": [
    "from math import pi\n",
    "pi"
   ]
  },
  {
   "cell_type": "code",
   "execution_count": null,
   "metadata": {
    "colab": {},
    "colab_type": "code",
    "collapsed": false,
    "id": "BuHjHcu4uZvk",
    "jupyter": {
     "outputs_hidden": false
    },
    "run_control": {
     "frozen": false,
     "read_only": false
    }
   },
   "outputs": [],
   "source": [
    "# alias are possible on the module itself\n",
    "import math as m\n",
    "m.pi"
   ]
  },
  {
   "cell_type": "code",
   "execution_count": null,
   "metadata": {
    "colab": {},
    "colab_type": "code",
    "collapsed": false,
    "id": "uI_sq9DpuZvp",
    "jupyter": {
     "outputs_hidden": false
    },
    "run_control": {
     "frozen": false,
     "read_only": false
    }
   },
   "outputs": [],
   "source": [
    "# or alias on the function/variable itself\n",
    "from math import pi as PI\n",
    "PI"
   ]
  },
  {
   "cell_type": "markdown",
   "metadata": {
    "colab_type": "text",
    "id": "u2nfm4k9uZuv"
   },
   "source": [
    "Keywords\n",
    "------\n",
    "\n",
    "- keywords are special names that are part of the Python language.\n",
    "- **A variable cannot be named after a keywords** --> SyntaxError would be raised\n",
    "- The list of keywords can be obtained using these commands (**import** and **print** are themselves keywords that will be explained along this course)"
   ]
  },
  {
   "cell_type": "code",
   "execution_count": null,
   "metadata": {
    "colab": {},
    "colab_type": "code",
    "collapsed": false,
    "id": "9lCZdFZRuZuw",
    "jupyter": {
     "outputs_hidden": false
    },
    "run_control": {
     "frozen": false,
     "read_only": false
    }
   },
   "outputs": [],
   "source": [
    "import keyword\n",
    "# Here we are using the \"dot\" operator, which allows us to access objects (variables, that is) attributes and functions\n",
    "print(keyword.kwlist)"
   ]
  },
  {
   "cell_type": "code",
   "execution_count": null,
   "metadata": {
    "colab": {},
    "colab_type": "code",
    "collapsed": false,
    "id": "YYZRQaqPuZu3",
    "jupyter": {
     "outputs_hidden": false
    },
    "run_control": {
     "frozen": false,
     "read_only": false
    }
   },
   "outputs": [],
   "source": [
    "raise = 1"
   ]
  },
  {
   "cell_type": "markdown",
   "metadata": {
    "colab_type": "text",
    "id": "UQnm_GZouZ3C"
   },
   "source": [
    "Exceptions\n",
    "------\n",
    "\n",
    "Used to avoid crashes and handle unexpected errors"
   ]
  },
  {
   "cell_type": "code",
   "execution_count": null,
   "metadata": {
    "colab": {},
    "colab_type": "code",
    "collapsed": false,
    "id": "OmozWdshuZ3D",
    "jupyter": {
     "outputs_hidden": false
    },
    "run_control": {
     "frozen": false,
     "read_only": false
    }
   },
   "outputs": [],
   "source": [
    "d = {'first': 1,\n",
    "     'second': 2}\n",
    "d['third']"
   ]
  },
  {
   "cell_type": "code",
   "execution_count": null,
   "metadata": {
    "colab": {},
    "colab_type": "code",
    "collapsed": false,
    "id": "5FFMg3DPuZ3I",
    "jupyter": {
     "outputs_hidden": false
    },
    "run_control": {
     "frozen": false,
     "read_only": false
    }
   },
   "outputs": [],
   "source": [
    "# Exceptions can be intercepted and cashes can be avoided\n",
    "try:\n",
    "    d['third']\n",
    "except:\n",
    "    print('Key not present')"
   ]
  },
  {
   "cell_type": "code",
   "execution_count": null,
   "metadata": {
    "colab": {},
    "colab_type": "code",
    "collapsed": false,
    "id": "xOm5ziCfuZ3L",
    "jupyter": {
     "outputs_hidden": false
    },
    "run_control": {
     "frozen": false,
     "read_only": false
    }
   },
   "outputs": [],
   "source": [
    "# Specific exceptions can be intercepted\n",
    "try:\n",
    "    d['third']\n",
    "except KeyError:\n",
    "    print('Key not present')\n",
    "except:\n",
    "    print('Another error occurred')"
   ]
  },
  {
   "cell_type": "code",
   "execution_count": null,
   "metadata": {
    "colab": {},
    "colab_type": "code",
    "collapsed": false,
    "id": "SwhFeFL8uZ3O",
    "jupyter": {
     "outputs_hidden": false
    },
    "run_control": {
     "frozen": false,
     "read_only": false
    }
   },
   "outputs": [],
   "source": [
    "# Specific exceptions can be intercepted\n",
    "try:\n",
    "    d['second'].non_existent_method()\n",
    "except KeyError:\n",
    "    print('Key not present')\n",
    "except:\n",
    "    print('Another error occurred')"
   ]
  },
  {
   "cell_type": "code",
   "execution_count": null,
   "metadata": {
    "colab": {},
    "colab_type": "code",
    "collapsed": false,
    "id": "NGZRdj33uZ3Q",
    "jupyter": {
     "outputs_hidden": false
    },
    "run_control": {
     "frozen": false,
     "read_only": false
    }
   },
   "outputs": [],
   "source": [
    "# The exception can be assigned to a variable to inspect it\n",
    "try:\n",
    "    d['second'].non_existent_method()\n",
    "except KeyError:\n",
    "    print('Key not present')\n",
    "except Exception, e:\n",
    "    print('Another error occurred: {0}'.format(e))"
   ]
  },
  {
   "cell_type": "code",
   "execution_count": null,
   "metadata": {
    "colab": {},
    "colab_type": "code",
    "collapsed": false,
    "id": "jqvgSHJeuZ3T",
    "jupyter": {
     "outputs_hidden": false
    },
    "run_control": {
     "frozen": false,
     "read_only": false
    }
   },
   "outputs": [],
   "source": [
    "# Exception can be created and \"raised\" by the user\n",
    "if d['second'] == 2:\n",
    "    raise Exception('I don\\'t like 2 as a number')"
   ]
  },
  {
   "cell_type": "markdown",
   "metadata": {
    "colab_type": "text",
    "id": "22a_jbwbuZ37"
   },
   "source": [
    "Simple file reading/writing\n",
    "---------\n",
    "\n",
    "**Writing**"
   ]
  },
  {
   "cell_type": "code",
   "execution_count": null,
   "metadata": {
    "colab": {},
    "colab_type": "code",
    "id": "2FIQcCFauZ37",
    "run_control": {
     "frozen": false,
     "read_only": false
    }
   },
   "outputs": [],
   "source": [
    "mysequence = \"\"\">sp|P56945|BCAR1_HUMAN Breast cancer anti-estrogen resistance protein 1 OS=Homo sapiens GN=BCAR1 PE=1 SV=2\n",
    "MNHLNVLAKALYDNVAESPDELSFRKGDIMTVLEQDTQGLDGWWLCSLHGRQGIVPGNRL\n",
    "KILVGMYDKKPAGPGPGPPATPAQPQPGLHAPAPPASQYTPMLPNTYQPQPDSVYLVPTP\n",
    "SKAQQGLYQVPGPSPQFQSPPAKQTSTFSKQTPHHPFPSPATDLYQVPPGPGGPAQDIYQ\n",
    "VPPSAGMGHDIYQVPPSMDTRSWEGTKPPAKVVVPTRVGQGYVYEAAQPEQDEYDIPRHL\n",
    "LAPGPQDIYDVPPVRGLLPSQYGQEVYDTPPMAVKGPNGRDPLLEVYDVPPSVEKGLPPS\n",
    "NHHAVYDVPPSVSKDVPDGPLLREETYDVPPAFAKAKPFDPARTPLVLAAPPPDSPPAED\n",
    "VYDVPPPAPDLYDVPPGLRRPGPGTLYDVPRERVLPPEVADGGVVDSGVYAVPPPAEREA\n",
    "PAEGKRLSASSTGSTRSSQSASSLEVAGPGREPLELEVAVEALARLQQGVSATVAHLLDL\n",
    "AGSAGATGSWRSPSEPQEPLVQDLQAAVAAVQSAVHELLEFARSAVGNAAHTSDRALHAK\n",
    "LSRQLQKMEDVHQTLVAHGQALDAGRGGSGATLEDLDRLVACSRAVPEDAKQLASFLHGN\n",
    "ASLLFRRTKATAPGPEGGGTLHPNPTDKTSSIQSRPLPSPPKFTSQDSPDGQYENSEGGW\n",
    "MEDYDYVHLQGKEEFEKTQKELLEKGSITRQGKSQLELQQLKQFERLEQEVSRPIDHDLA\n",
    "NWTPAQPLAPGRTGGLGPSDRQLLLFYLEQCEANLTTLTNAVDAFFTAVATNQPPKIFVA\n",
    "HSKFVILSAHKLVFIGDTLSRQAKAADVRSQVTHYSNLLCDLLRGIVATTKAAALQYPSP\n",
    "SAAQDMVERVKELGHSTQQFRRVLGQLAAA\n",
    "\"\"\""
   ]
  },
  {
   "cell_type": "code",
   "execution_count": null,
   "metadata": {
    "colab": {
     "base_uri": "https://localhost:8080/",
     "height": 232
    },
    "colab_type": "code",
    "collapsed": false,
    "executionInfo": {
     "elapsed": 976,
     "status": "error",
     "timestamp": 1587647081855,
     "user": {
      "displayName": "Emma Briars",
      "photoUrl": "https://lh3.googleusercontent.com/a-/AOh14Gj14uLObWQe3mbLX6o5aXvFBch63XWb_GUOD_jG=s64",
      "userId": "10583257419353631243"
     },
     "user_tz": 240
    },
    "id": "kBkP_ButuZ3-",
    "jupyter": {
     "outputs_hidden": false
    },
    "outputId": "edb9ba4f-694d-4ac5-8249-70abdb6bb9e0",
    "run_control": {
     "frozen": false,
     "read_only": false
    }
   },
   "outputs": [],
   "source": [
    "# First, we open a file in \"w\" write mode\n",
    "fh = open(\"mysequence.fasta\", \"w\")\n",
    "# Second, we write the data into the file:\n",
    "fh.write(mysequence)\n",
    "# Third, we close:\n",
    "fh.close()"
   ]
  },
  {
   "cell_type": "markdown",
   "metadata": {
    "colab_type": "text",
    "id": "Ia2mOtWouZ4A"
   },
   "source": [
    "**Reading**"
   ]
  },
  {
   "cell_type": "code",
   "execution_count": null,
   "metadata": {
    "colab": {},
    "colab_type": "code",
    "collapsed": false,
    "id": "nFYkOIrLuZ4B",
    "jupyter": {
     "outputs_hidden": false
    },
    "run_control": {
     "frozen": false,
     "read_only": false
    }
   },
   "outputs": [],
   "source": [
    "# First, we open the file in read mode (r)\n",
    "fh = open('mysequence.fasta', 'r')\n",
    "# Second, we read the content of the file\n",
    "data = fh.read()\n",
    "# Third we close\n",
    "fh.close()\n",
    "# data is now a string that contains the content of the file being read\n",
    "data"
   ]
  },
  {
   "cell_type": "code",
   "execution_count": null,
   "metadata": {
    "colab": {},
    "colab_type": "code",
    "collapsed": false,
    "id": "FEGs4OdLuZ4D",
    "jupyter": {
     "outputs_hidden": false
    }
   },
   "outputs": [],
   "source": [
    "print(data)"
   ]
  },
  {
   "cell_type": "markdown",
   "metadata": {
    "colab_type": "text",
    "id": "NHIdyZLDuZ4G"
   },
   "source": [
    "**For both writing and reading you can use the context manager keyword \"with\" that will automatically close the file after using it, even in the case of an exception happening** "
   ]
  },
  {
   "cell_type": "markdown",
   "metadata": {
    "colab_type": "text",
    "id": "YN15BKPmuZ4H"
   },
   "source": [
    "\n",
    "**Writing**"
   ]
  },
  {
   "cell_type": "code",
   "execution_count": null,
   "metadata": {
    "colab": {},
    "colab_type": "code",
    "collapsed": false,
    "id": "KsI2xo82uZ4H",
    "jupyter": {
     "outputs_hidden": false
    }
   },
   "outputs": [],
   "source": [
    "# First, we open a file in \"w\" write mode with the context manager\n",
    "with open(\"mysequence.fasta\", \"w\") as fh:\n",
    "    # Second, we write the data into the file:\n",
    "    fh.write(mysequence)\n",
    "# When getting out of the block, the file is automatically closed in a secure way "
   ]
  },
  {
   "cell_type": "markdown",
   "metadata": {
    "colab_type": "text",
    "id": "GCNZm8mUuZ4L"
   },
   "source": [
    "**Reading**"
   ]
  },
  {
   "cell_type": "code",
   "execution_count": null,
   "metadata": {
    "colab": {},
    "colab_type": "code",
    "collapsed": false,
    "id": "W8DKxyZquZ4N",
    "jupyter": {
     "outputs_hidden": false
    }
   },
   "outputs": [],
   "source": [
    "# First, we open the file in read mode (r) with the context manager\n",
    "with open('mysequence.fasta', 'r') as fh:\n",
    "    # Second, we read the content of the file\n",
    "    data = fh.read()\n",
    "# When getting out of the block, the file is automatically closed in a secure way "
   ]
  },
  {
   "cell_type": "markdown",
   "metadata": {
    "colab_type": "text",
    "id": "xkSr63PyuZ4T"
   },
   "source": [
    "Notice the **\\n** character (newline) in the string..."
   ]
  },
  {
   "cell_type": "code",
   "execution_count": null,
   "metadata": {
    "colab": {},
    "colab_type": "code",
    "collapsed": false,
    "id": "WZPBP0uAuZ4W",
    "jupyter": {
     "outputs_hidden": false
    }
   },
   "outputs": [],
   "source": [
    "data"
   ]
  },
  {
   "cell_type": "code",
   "execution_count": null,
   "metadata": {
    "colab": {},
    "colab_type": "code",
    "collapsed": false,
    "id": "DA7PoiS9uZ4a",
    "jupyter": {
     "outputs_hidden": false
    },
    "run_control": {
     "frozen": false,
     "read_only": false
    }
   },
   "outputs": [],
   "source": [
    "data.split(\"\\n\")"
   ]
  },
  {
   "cell_type": "code",
   "execution_count": null,
   "metadata": {
    "colab": {},
    "colab_type": "code",
    "collapsed": false,
    "id": "3mfObbTouZ4c",
    "jupyter": {
     "outputs_hidden": false
    },
    "run_control": {
     "frozen": false,
     "read_only": false
    }
   },
   "outputs": [],
   "source": [
    "data.split(\"\\n\", 1)"
   ]
  },
  {
   "cell_type": "code",
   "execution_count": null,
   "metadata": {
    "colab": {},
    "colab_type": "code",
    "collapsed": false,
    "id": "uJ7hdtbAuZ4f",
    "jupyter": {
     "outputs_hidden": false
    },
    "run_control": {
     "frozen": false,
     "read_only": false
    }
   },
   "outputs": [],
   "source": [
    "header, sequence = data.split(\"\\n\", 1)"
   ]
  },
  {
   "cell_type": "code",
   "execution_count": null,
   "metadata": {
    "colab": {},
    "colab_type": "code",
    "collapsed": false,
    "id": "Sqtkk1QmuZ4i",
    "jupyter": {
     "outputs_hidden": false
    },
    "run_control": {
     "frozen": false,
     "read_only": false
    }
   },
   "outputs": [],
   "source": [
    "header"
   ]
  },
  {
   "cell_type": "code",
   "execution_count": null,
   "metadata": {
    "colab": {},
    "colab_type": "code",
    "collapsed": false,
    "id": "SpoAV863uZ4l",
    "jupyter": {
     "outputs_hidden": false
    },
    "run_control": {
     "frozen": false,
     "read_only": false
    }
   },
   "outputs": [],
   "source": [
    "sequence"
   ]
  },
  {
   "cell_type": "code",
   "execution_count": null,
   "metadata": {
    "colab": {},
    "colab_type": "code",
    "id": "Odt51kvkuZ4n",
    "run_control": {
     "frozen": false,
     "read_only": false
    }
   },
   "outputs": [],
   "source": [
    "# we want to get rid of the \\n characters\n",
    "seq1 = sequence.replace(\"\\n\",\"\")"
   ]
  },
  {
   "cell_type": "code",
   "execution_count": null,
   "metadata": {
    "colab": {},
    "colab_type": "code",
    "id": "b0qXVJSluZ4p",
    "run_control": {
     "frozen": false,
     "read_only": false
    }
   },
   "outputs": [],
   "source": [
    "# another way is to use the split/join pair\n",
    "seq2 = \"\".join(sequence.split(\"\\n\"))"
   ]
  },
  {
   "cell_type": "code",
   "execution_count": null,
   "metadata": {
    "colab": {},
    "colab_type": "code",
    "collapsed": false,
    "id": "TiKVrxxAuZ4t",
    "jupyter": {
     "outputs_hidden": false
    },
    "run_control": {
     "frozen": false,
     "read_only": false
    }
   },
   "outputs": [],
   "source": [
    "seq1 == seq2"
   ]
  },
  {
   "cell_type": "code",
   "execution_count": null,
   "metadata": {
    "colab": {},
    "colab_type": "code",
    "id": "S7_MaNhEuZ4w",
    "run_control": {
     "frozen": false,
     "read_only": false
    }
   },
   "outputs": [],
   "source": [
    "# make sure that every letter is upper case\n",
    "seq1 = seq1.upper()"
   ]
  },
  {
   "cell_type": "code",
   "execution_count": null,
   "metadata": {
    "colab": {},
    "colab_type": "code",
    "collapsed": false,
    "id": "0qDlc9UxuZ4y",
    "jupyter": {
     "outputs_hidden": false
    },
    "run_control": {
     "frozen": false,
     "read_only": false
    }
   },
   "outputs": [],
   "source": [
    "# With the sequence, we can now play around \n",
    "seq1.count('A')"
   ]
  },
  {
   "cell_type": "code",
   "execution_count": null,
   "metadata": {
    "colab": {},
    "colab_type": "code",
    "collapsed": false,
    "id": "c22ahAviuZ41",
    "jupyter": {
     "outputs_hidden": false
    },
    "run_control": {
     "frozen": false,
     "read_only": false
    }
   },
   "outputs": [],
   "source": [
    "counter = {}\n",
    "counter['A'] = seq1.count('A')\n",
    "counter['T'] = seq1.count('T')\n",
    "counter['C'] = seq1.count('C')\n",
    "counter['G'] = seq1.count('G')\n",
    "counter"
   ]
  },
  {
   "cell_type": "markdown",
   "metadata": {
    "colab_type": "text",
    "id": "oD2n9RZfuZ42"
   },
   "source": [
    "If a file is too big, using the \"read\" method could completely fill our memory! It is advisable to use a \"for\" loop."
   ]
  },
  {
   "cell_type": "code",
   "execution_count": null,
   "metadata": {
    "colab": {
     "base_uri": "https://localhost:8080/",
     "height": 232
    },
    "colab_type": "code",
    "collapsed": false,
    "executionInfo": {
     "elapsed": 794,
     "status": "error",
     "timestamp": 1587064925688,
     "user": {
      "displayName": "Keith Gagnon",
      "photoUrl": "",
      "userId": "07309651358703519122"
     },
     "user_tz": 240
    },
    "id": "DhHRgibquZ43",
    "jupyter": {
     "outputs_hidden": false
    },
    "outputId": "cabb9220-1fa9-4bc9-aa46-1830cf2af78c",
    "run_control": {
     "frozen": false,
     "read_only": false
    }
   },
   "outputs": [],
   "source": [
    "for line in open('mysequence.fasta'):\n",
    "    # remove the newline character at the end of the line\n",
    "    # also removes spaces and tabs at the right end of the string\n",
    "    line = line.rstrip()\n",
    "    print(line)"
   ]
  },
  {
   "cell_type": "code",
   "execution_count": null,
   "metadata": {
    "colab": {},
    "colab_type": "code",
    "collapsed": false,
    "id": "5-ALr4d8uZ45",
    "jupyter": {
     "outputs_hidden": false
    },
    "run_control": {
     "frozen": false,
     "read_only": false
    }
   },
   "outputs": [],
   "source": [
    "header = ''\n",
    "sequence = ''\n",
    "for line in open('mysequence.fasta'):\n",
    "    # remove the newline character at the end of the line\n",
    "    # also removes spaces and tabs at the right end of the string\n",
    "    line = line.rstrip()\n",
    "    if line.startswith('>'):\n",
    "        header = line\n",
    "    else:\n",
    "        sequence += line"
   ]
  },
  {
   "cell_type": "code",
   "execution_count": null,
   "metadata": {
    "colab": {},
    "colab_type": "code",
    "collapsed": false,
    "id": "z6Oscc4RuZ5P",
    "jupyter": {
     "outputs_hidden": false
    },
    "run_control": {
     "frozen": false,
     "read_only": false
    }
   },
   "outputs": [],
   "source": [
    "header"
   ]
  },
  {
   "cell_type": "code",
   "execution_count": null,
   "metadata": {
    "colab": {},
    "colab_type": "code",
    "collapsed": false,
    "id": "oamfmnqAuZ5S",
    "jupyter": {
     "outputs_hidden": false
    },
    "run_control": {
     "frozen": false,
     "read_only": false
    }
   },
   "outputs": [],
   "source": [
    "sequence"
   ]
  },
  {
   "cell_type": "markdown",
   "metadata": {
    "colab_type": "text",
    "id": "DeGmfdsOuZ5U"
   },
   "source": [
    "Lists, sets and dictionary comprehension: more compact constructors\n",
    "--------------\n",
    "\n",
    "There is a more concise and advanced way to create a list, set or dictionary.\n",
    "\n",
    "This is a bit more advanced, and less \"pythonic\", so it is advisable to use this only\n",
    "after you are familiar with the \"regular\" constructs."
   ]
  },
  {
   "cell_type": "code",
   "execution_count": null,
   "metadata": {
    "colab": {
     "base_uri": "https://localhost:8080/",
     "height": 34
    },
    "colab_type": "code",
    "collapsed": false,
    "executionInfo": {
     "elapsed": 367,
     "status": "ok",
     "timestamp": 1586985588747,
     "user": {
      "displayName": "Giulio Chiesa",
      "photoUrl": "https://lh3.googleusercontent.com/a-/AOh14GhTac43NP5I-bvSTBnu8F6fSvW7zZ-hiaOhXGI7bw=s64",
      "userId": "10704203183164546918"
     },
     "user_tz": 240
    },
    "id": "-w1FhQ9auZ5V",
    "jupyter": {
     "outputs_hidden": false
    },
    "outputId": "ee0fa361-4b8e-4b73-8fc1-c6f0ff7c8d47"
   },
   "outputs": [],
   "source": [
    "range(10)"
   ]
  },
  {
   "cell_type": "code",
   "execution_count": null,
   "metadata": {
    "colab": {},
    "colab_type": "code",
    "collapsed": false,
    "id": "hcwCb-RzuZ5X",
    "jupyter": {
     "outputs_hidden": false
    },
    "run_control": {
     "frozen": false,
     "read_only": false
    }
   },
   "outputs": [],
   "source": [
    "my_list = [x*2 for x in range(10)]\n",
    "my_list"
   ]
  },
  {
   "cell_type": "code",
   "execution_count": null,
   "metadata": {
    "colab": {},
    "colab_type": "code",
    "collapsed": false,
    "id": "3ATfCtNAuZ5Z",
    "jupyter": {
     "outputs_hidden": false
    },
    "run_control": {
     "frozen": false,
     "read_only": false
    }
   },
   "outputs": [],
   "source": [
    "redundant_list = [x for x in my_list*2]\n",
    "redundant_list"
   ]
  },
  {
   "cell_type": "code",
   "execution_count": null,
   "metadata": {
    "colab": {},
    "colab_type": "code",
    "collapsed": false,
    "id": "bXM9gOS2uZ5c",
    "jupyter": {
     "outputs_hidden": false
    },
    "run_control": {
     "frozen": false,
     "read_only": false
    }
   },
   "outputs": [],
   "source": [
    "my_set = {x for x in my_list*2}\n",
    "my_set"
   ]
  },
  {
   "cell_type": "code",
   "execution_count": null,
   "metadata": {
    "colab": {},
    "colab_type": "code",
    "collapsed": false,
    "id": "r_Y7hIbTuZ5g",
    "jupyter": {
     "outputs_hidden": false
    },
    "run_control": {
     "frozen": false,
     "read_only": false
    }
   },
   "outputs": [],
   "source": [
    "my_dict = {x:x+1 for x in my_list}\n",
    "my_dict"
   ]
  },
  {
   "cell_type": "code",
   "execution_count": null,
   "metadata": {
    "colab": {},
    "colab_type": "code",
    "collapsed": false,
    "id": "KlEH_sqJuZ5h",
    "jupyter": {
     "outputs_hidden": false
    },
    "run_control": {
     "frozen": false,
     "read_only": false
    }
   },
   "outputs": [],
   "source": [
    "# if/else can be used in comprehension as well\n",
    "even_numbers = [x for x in range(10) if not x%2]\n",
    "even_numbers"
   ]
  },
  {
   "cell_type": "code",
   "execution_count": null,
   "metadata": {
    "colab": {},
    "colab_type": "code",
    "collapsed": false,
    "id": "RZjP4K14uZ5j",
    "jupyter": {
     "outputs_hidden": false
    },
    "run_control": {
     "frozen": false,
     "read_only": false
    }
   },
   "outputs": [],
   "source": [
    "# if/else can also be used to assign values based on a test\n",
    "even_numbers = ['odd' if x%2 else 'even' for x in range(10)]\n",
    "even_numbers"
   ]
  },
  {
   "cell_type": "markdown",
   "metadata": {
    "colab_type": "text",
    "id": "fQAbJzc3uZ5m"
   },
   "source": [
    "On objects and references\n",
    "----------\n",
    "\n",
    "A common source of errors for python beginners"
   ]
  },
  {
   "cell_type": "code",
   "execution_count": null,
   "metadata": {
    "colab": {},
    "colab_type": "code",
    "collapsed": false,
    "id": "vg5pxwZ7uZ5n",
    "jupyter": {
     "outputs_hidden": false
    }
   },
   "outputs": [],
   "source": [
    "a = [1, 2, 3]\n",
    "a"
   ]
  },
  {
   "cell_type": "code",
   "execution_count": null,
   "metadata": {
    "colab": {},
    "colab_type": "code",
    "collapsed": false,
    "id": "Krc02CauuZ5p",
    "jupyter": {
     "outputs_hidden": false
    },
    "run_control": {
     "frozen": false,
     "read_only": false
    }
   },
   "outputs": [],
   "source": [
    "b  = a # is a reference\n",
    "b[0] = 10\n",
    "print(a)"
   ]
  },
  {
   "cell_type": "code",
   "execution_count": null,
   "metadata": {
    "colab": {},
    "colab_type": "code",
    "collapsed": false,
    "id": "zl17R7C9uZ5q",
    "jupyter": {
     "outputs_hidden": false
    },
    "run_control": {
     "frozen": false,
     "read_only": false
    }
   },
   "outputs": [],
   "source": [
    "# How to de-reference (copy) a list\n",
    "a = [1, 2, 3]\n",
    "\n",
    "# First, use the list() function\n",
    "b1 = list(a)\n",
    "\n",
    "# Second use the slice operator\n",
    "b2 = a[:]  # using slicing\n",
    "b1[0] = 10\n",
    "b2[0] = 10\n",
    "a #unchanged"
   ]
  },
  {
   "cell_type": "code",
   "execution_count": null,
   "metadata": {
    "colab": {},
    "colab_type": "code",
    "collapsed": false,
    "id": "f5z-pSvNuZ5u",
    "jupyter": {
     "outputs_hidden": false
    },
    "run_control": {
     "frozen": false,
     "read_only": false
    }
   },
   "outputs": [],
   "source": [
    "# What about this ?\n",
    "a = [1,2,3,[4,5,6]]\n",
    "# copying the object\n",
    "b = a[:]\n",
    "b[3][0] = 10 # let us change the first item of the 4th item (4 to 10)\n",
    "a"
   ]
  },
  {
   "cell_type": "markdown",
   "metadata": {
    "colab_type": "text",
    "id": "u9Ch-nIouZ5x"
   },
   "source": [
    "Here we see that there is still a reference. When copying, a shallow copy is performed. \n",
    "You'll need to use the **copy** module."
   ]
  },
  {
   "cell_type": "code",
   "execution_count": null,
   "metadata": {
    "colab": {},
    "colab_type": "code",
    "collapsed": false,
    "id": "NUoxgsZluZ5x",
    "jupyter": {
     "outputs_hidden": false
    },
    "run_control": {
     "frozen": false,
     "read_only": false
    }
   },
   "outputs": [],
   "source": [
    "from copy import deepcopy\n",
    "a = [1,2,3,[4,5,6]]\n",
    "b = deepcopy(a)\n",
    "b[3][0] = 10 # let us change the first item of the 4th item (4 to 10)\n",
    "a"
   ]
  }
 ],
 "metadata": {
  "colab": {
   "name": "1-Basic_python_and_native_python_data_structures.ipynb",
   "provenance": []
  },
  "kernelspec": {
   "display_name": "Python 3",
   "language": "python",
   "name": "python3"
  },
  "language_info": {
   "codemirror_mode": {
    "name": "ipython",
    "version": 3
   },
   "file_extension": ".py",
   "mimetype": "text/x-python",
   "name": "python",
   "nbconvert_exporter": "python",
   "pygments_lexer": "ipython3",
   "version": "3.8.5"
  }
 },
 "nbformat": 4,
 "nbformat_minor": 4
}
