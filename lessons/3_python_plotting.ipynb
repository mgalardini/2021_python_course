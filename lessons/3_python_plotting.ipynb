{
 "cells": [
  {
   "cell_type": "code",
   "execution_count": null,
   "metadata": {},
   "outputs": [],
   "source": [
    "# plotting imports\n",
    "import matplotlib.pyplot as plt\n",
    "import seaborn as sns"
   ]
  },
  {
   "cell_type": "code",
   "execution_count": null,
   "metadata": {},
   "outputs": [],
   "source": [
    "# other imports\n",
    "import numpy as np\n",
    "import pandas as pd\n",
    "from scipy import stats"
   ]
  },
  {
   "cell_type": "markdown",
   "metadata": {},
   "source": [
    "Hello world\n",
    "---\n",
    "\n",
    "Using the `pyplot` notation, very similar to how MATLAB works"
   ]
  },
  {
   "cell_type": "code",
   "execution_count": null,
   "metadata": {},
   "outputs": [],
   "source": [
    "plt.plot([0, 1, 2, 3, 4],\n",
    "         [0, 1, 2, 5, 10], 'bo-')\n",
    "plt.text(1.5, 5, 'Hello world', size=14)\n",
    "plt.xlabel('X axis\\n($\\mu g/mL$)')\n",
    "plt.ylabel('y axis\\n($X^2$)');"
   ]
  },
  {
   "cell_type": "markdown",
   "metadata": {},
   "source": [
    "Hello world, reprise\n",
    "---\n",
    "\n",
    "Using the reccommended \"object-oriented\" (OO) style"
   ]
  },
  {
   "cell_type": "code",
   "execution_count": null,
   "metadata": {},
   "outputs": [],
   "source": [
    "fig, ax = plt.subplots()\n",
    "ax.plot([0, 1, 2, 3, 4],\n",
    "        [0, 1, 2, 5, 10], 'bo-')\n",
    "ax.text(1.5, 5, 'Hello world', size=14)\n",
    "ax.set_xlabel('X axis\\n($\\mu g/mL$)')\n",
    "ax.set_ylabel('y axis\\n($X^2$)');"
   ]
  },
  {
   "cell_type": "code",
   "execution_count": null,
   "metadata": {},
   "outputs": [],
   "source": [
    "# create some data\n",
    "x = np.linspace(0, 2, 100)"
   ]
  },
  {
   "cell_type": "code",
   "execution_count": null,
   "metadata": {},
   "outputs": [],
   "source": [
    "fig, ax = plt.subplots()\n",
    "\n",
    "ax.plot(x, x, label='linear')\n",
    "ax.plot(x, x**2, label='quadratic')\n",
    "ax.plot(x, x**3, label='cubic')\n",
    "\n",
    "ax.set_xlabel('x label')\n",
    "ax.set_ylabel('y label')\n",
    "ax.set_title('Simple Plot')\n",
    "ax.legend()"
   ]
  },
  {
   "cell_type": "markdown",
   "metadata": {},
   "source": [
    "Controlling a figure aspect\n",
    "---"
   ]
  },
  {
   "cell_type": "code",
   "execution_count": null,
   "metadata": {},
   "outputs": [],
   "source": [
    "# figure size\n",
    "# width / height\n",
    "fig, ax = plt.subplots(figsize=(9, 4))\n",
    "\n",
    "ax.plot(x, x, label='linear')\n",
    "ax.plot(x, x**2, label='quadratic')\n",
    "ax.plot(x, x**3, label='cubic')\n",
    "\n",
    "ax.set_xlabel('x label')\n",
    "ax.set_ylabel('y label')\n",
    "ax.set_title('Simple Plot')\n",
    "ax.legend();"
   ]
  },
  {
   "cell_type": "code",
   "execution_count": null,
   "metadata": {},
   "outputs": [],
   "source": [
    "fig, ax = plt.subplots(figsize=(9, 4))\n",
    "\n",
    "# change markers\n",
    "ax.plot(x, x, '--', color='grey', label='linear')\n",
    "ax.plot(x, x**2, '.-', color='red', label='quadratic')\n",
    "ax.plot(x, x**3, '*', color='#3bb44a', label='cubic')\n",
    "\n",
    "ax.set_xlabel('x label')\n",
    "ax.set_ylabel('y label')\n",
    "ax.set_title('Simple Plot')\n",
    "\n",
    "# move the legend\n",
    "ax.legend(loc='upper right');\n",
    "# alternative ways to move it\n",
    "# ax.legend(loc='center left',\n",
    "#            bbox_to_anchor=(1, 0.5),\n",
    "#            ncol=3);"
   ]
  },
  {
   "cell_type": "markdown",
   "metadata": {},
   "source": [
    "Multiple panels\n",
    "---"
   ]
  },
  {
   "cell_type": "code",
   "execution_count": null,
   "metadata": {},
   "outputs": [],
   "source": [
    "x1 = np.linspace(0.0, 5.0)\n",
    "x2 = np.linspace(0.0, 2.0)\n",
    "\n",
    "y1 = np.cos(2 * np.pi * x1) * np.exp(-x1)\n",
    "y2 = np.cos(2 * np.pi * x2)\n",
    "\n",
    "# rows, columns\n",
    "fig, axes = plt.subplots(2, 1, figsize=(6, 4))\n",
    "\n",
    "# axes is a list of \"panels\"\n",
    "print(axes)\n",
    "\n",
    "ax = axes[0]\n",
    "ax.plot(x1, y1, 'o-')\n",
    "ax.set_title('A tale of 2 subplots')\n",
    "ax.set_ylabel('Damped oscillation')\n",
    "\n",
    "ax = axes[1]\n",
    "ax.plot(x2, y2, '.-')\n",
    "ax.set_xlabel('time (s)')\n",
    "ax.set_ylabel('Undamped');"
   ]
  },
  {
   "cell_type": "markdown",
   "metadata": {},
   "source": [
    "Automagically adjust panels so that they fit in the figure\n",
    "---"
   ]
  },
  {
   "cell_type": "code",
   "execution_count": null,
   "metadata": {},
   "outputs": [],
   "source": [
    "def example_plot(ax, fontsize=12):\n",
    "    ax.plot([1, 2])\n",
    "\n",
    "    ax.set_xlabel('x-label', fontsize=fontsize)\n",
    "    ax.set_ylabel('y-label', fontsize=fontsize)\n",
    "    ax.set_title('Title', fontsize=fontsize)"
   ]
  },
  {
   "cell_type": "code",
   "execution_count": null,
   "metadata": {},
   "outputs": [],
   "source": [
    "fig, axs = plt.subplots(2, 2, figsize=(4, 4),\n",
    "                        constrained_layout=False)\n",
    "print(axs)\n",
    "for ax in axs.flat:\n",
    "    example_plot(ax)"
   ]
  },
  {
   "cell_type": "code",
   "execution_count": null,
   "metadata": {},
   "outputs": [],
   "source": [
    "# warning: \"constrained_layout\" is an experimental feature\n",
    "fig, axs = plt.subplots(2, 2, figsize=(4, 4),\n",
    "                        constrained_layout=True)\n",
    "\n",
    "for ax in axs.flat:\n",
    "    example_plot(ax)"
   ]
  },
  {
   "cell_type": "code",
   "execution_count": null,
   "metadata": {},
   "outputs": [],
   "source": [
    "# alternative way\n",
    "fig, axs = plt.subplots(2, 2, figsize=(4, 4), constrained_layout=False)\n",
    "\n",
    "for ax in axs.flat:\n",
    "    example_plot(ax)\n",
    "    \n",
    "# alternative to constrained_layout\n",
    "plt.tight_layout();"
   ]
  },
  {
   "cell_type": "markdown",
   "metadata": {},
   "source": [
    "Example of manipulating axes limits\n",
    "---\n",
    "\n",
    "Extra: a look at ways to choose colors\n",
    "and manipulating transparency"
   ]
  },
  {
   "cell_type": "code",
   "execution_count": null,
   "metadata": {},
   "outputs": [],
   "source": [
    "fig, axes = plt.subplots(1, 2, figsize=(9, 4))\n",
    "\n",
    "# same plot for both panels\n",
    "# we are just gonna change the axes' limits\n",
    "for ax in axes:\n",
    "    # more color choices\n",
    "    # (see here for a full list: https://matplotlib.org/tutorials/colors/colors.html)\n",
    "    \n",
    "    # xkcd rgb color survey: https://xkcd.com/color/rgb/\n",
    "    ax.plot(x, x, '--', color='xkcd:olive green', label='linear')\n",
    "    # RGBA (red, green, blue, alpha)\n",
    "    ax.plot(x, x**2, '.-', color=(0.1, 0.2, 0.5, 0.3), label='quadratic')\n",
    "    # one of {'b', 'g', 'r', 'c', 'm', 'y', 'k', 'w'}\n",
    "    # they are the single character short-hand notations for:\n",
    "    # blue, green, red, cyan, magenta, yellow, black, and white\n",
    "    ax.plot(x, x**3, '*', color='m', label='cubic')\n",
    "    # transparency can be manipulated with the \"alpha\" kwarg (= keyword argument)\n",
    "    ax.plot(x, x**4, '-', color='b', linewidth=4, alpha=0.3, label='white house')\n",
    "\n",
    "    ax.set_xlabel('x label')\n",
    "    ax.set_ylabel('y label')\n",
    "    ax.set_title('Simple Plot')\n",
    "\n",
    "# only manipulate last axes\n",
    "ax.set_ylim(1, 16.4)\n",
    "ax.set_xlim(1.65, 2.03)\n",
    "\n",
    "ax.legend(loc='center left',\n",
    "          bbox_to_anchor=(1, 0.5),\n",
    "          title='Fit');"
   ]
  },
  {
   "cell_type": "markdown",
   "metadata": {},
   "source": [
    "Other sample plots using \"vanilla\" matplotlib\n",
    "---"
   ]
  },
  {
   "cell_type": "code",
   "execution_count": null,
   "metadata": {},
   "outputs": [],
   "source": [
    "# scatter plot\n",
    "fig, ax = plt.subplots(figsize=(6, 4))\n",
    "\n",
    "N = 10\n",
    "x = np.linspace(0, 1, N)\n",
    "y = x ** 2\n",
    "# colors is a list of colors\n",
    "# in the same format as shown before\n",
    "colors = np.linspace(0, 1, N)\n",
    "# alternative\n",
    "# colors = ['b', 'b', 'b',\n",
    "#           'k', 'k', 'k',\n",
    "#           'r', 'r', 'r',\n",
    "#           'xkcd:jade']\n",
    "area = 5 + (20 * x) ** 3\n",
    "\n",
    "print(f'x: {x}')\n",
    "print(f'y: {y}')\n",
    "print(f'colors: {colors}')\n",
    "print(f'area: {area}')\n",
    "\n",
    "ax.scatter(x, y, s=area, c=colors,\n",
    "           alpha=0.9,\n",
    "           edgecolors='w', linewidths=3,\n",
    "           label='Data')\n",
    "ax.legend(loc='upper left');"
   ]
  },
  {
   "cell_type": "code",
   "execution_count": null,
   "metadata": {},
   "outputs": [],
   "source": [
    "# generate 2d random data\n",
    "data = np.random.randn(2, 100)\n",
    "data"
   ]
  },
  {
   "cell_type": "code",
   "execution_count": null,
   "metadata": {},
   "outputs": [],
   "source": [
    "# histogram\n",
    "fig, axs = plt.subplots(1, 2, figsize=(6, 3))\n",
    "\n",
    "bins = 25\n",
    "\n",
    "axs[0].hist(data[0], bins=bins)\n",
    "axs[1].hist2d(data[0], data[1], bins=bins);"
   ]
  },
  {
   "cell_type": "markdown",
   "metadata": {},
   "source": [
    "Other useful tips\n",
    "---"
   ]
  },
  {
   "cell_type": "code",
   "execution_count": null,
   "metadata": {},
   "outputs": [],
   "source": [
    "# scatter plot with log axes\n",
    "fig, ax = plt.subplots(figsize=(6, 4))\n",
    "\n",
    "N = 10\n",
    "x = np.linspace(0, 10, N)\n",
    "y = 2 ** x\n",
    "colors = np.linspace(0, 1, N)\n",
    "area = 500\n",
    "\n",
    "ax.scatter(x, y, s=area, c=colors,\n",
    "           alpha=0.9,\n",
    "           edgecolors='w', linewidths=3,\n",
    "           label='Data')\n",
    "ax.set_yscale('log', basey=10);"
   ]
  },
  {
   "cell_type": "code",
   "execution_count": null,
   "metadata": {},
   "outputs": [],
   "source": [
    "# scatter plot with log axes\n",
    "fig, ax = plt.subplots(figsize=(6, 4))\n",
    "\n",
    "N = 10\n",
    "x = 10 ** np.linspace(1, 4, N)\n",
    "y = x ** 2\n",
    "colors = np.linspace(0, 1, N)\n",
    "area = 500\n",
    "\n",
    "ax.scatter(x, y, s=area, c=colors,\n",
    "           alpha=0.9,\n",
    "           edgecolors='w', linewidths=3,\n",
    "           label='Data')\n",
    "ax.set_yscale('log', basey=2)\n",
    "ax.set_xscale('log', basex=10);"
   ]
  },
  {
   "cell_type": "code",
   "execution_count": null,
   "metadata": {},
   "outputs": [],
   "source": [
    "# changing colormap\n",
    "# find an exhaustive list here:\n",
    "# https://matplotlib.org/3.1.0/tutorials/colors/colormaps.html\n",
    "fig, ax = plt.subplots(figsize=(6, 4))\n",
    "\n",
    "N = 10\n",
    "x = 10 ** np.linspace(1, 4, N)\n",
    "y = x ** 2\n",
    "colors = np.linspace(0, 1, N)\n",
    "area = 500\n",
    "\n",
    "ax.scatter(x, y, s=area, c=colors,\n",
    "           alpha=0.9,\n",
    "           edgecolors='w', linewidths=3,\n",
    "           label='Data',\n",
    "#            cmap='plasma',\n",
    "#            cmap='jet',\n",
    "#            cmap='Blues',\n",
    "#            cmap='Blues_r',\n",
    "           cmap='tab20',\n",
    "          )\n",
    "ax.set_yscale('log', basey=2)\n",
    "ax.set_xscale('log', basex=10);"
   ]
  },
  {
   "cell_type": "markdown",
   "metadata": {},
   "source": [
    "Saving your plot\n",
    "---"
   ]
  },
  {
   "cell_type": "code",
   "execution_count": null,
   "metadata": {},
   "outputs": [],
   "source": [
    "fig, ax = plt.subplots(figsize=(3, 2))\n",
    "\n",
    "N = 10\n",
    "x = 10 ** np.linspace(1, 4, N)\n",
    "y = x ** 2\n",
    "colors = np.linspace(0, 1, N)\n",
    "area = 500\n",
    "\n",
    "ax.scatter(x, y, s=area, c=colors,\n",
    "           alpha=0.9,\n",
    "           edgecolors='w', linewidths=3,\n",
    "           cmap='tab20',\n",
    "           label='My awesome data is the best thing ever',\n",
    "#            rasterized=True\n",
    "          )\n",
    "\n",
    "ax.legend(bbox_to_anchor=(1, 0.5),\n",
    "          loc='center left')\n",
    "\n",
    "ax.set_yscale('log', basey=2)\n",
    "ax.set_xscale('log', basex=10)\n",
    "\n",
    "plt.savefig('the_awesomest_plot_ever.png',\n",
    "            dpi=300,\n",
    "            bbox_inches='tight',\n",
    "            transparent=True\n",
    "           )\n",
    "plt.savefig('the_awesomest_plot_ever.svg',\n",
    "            dpi=300, bbox_inches='tight',\n",
    "            transparent=True);"
   ]
  },
  {
   "cell_type": "markdown",
   "metadata": {},
   "source": [
    "What about other plot types?\n",
    "---\n",
    "\n",
    "Such as boxplots, heatmaps, complex plots *a la* ggplot.\n",
    "Find a galery with code here: https://matplotlib.org/gallery/index.html\n",
    "\n",
    "**However:** seaborn covers them much better, leveraging the power of pandas `DataFrame`s"
   ]
  },
  {
   "cell_type": "code",
   "execution_count": null,
   "metadata": {},
   "outputs": [],
   "source": [
    "# load a nice, tidy, test dataset\n",
    "tips = sns.load_dataset('tips')"
   ]
  },
  {
   "cell_type": "code",
   "execution_count": null,
   "metadata": {},
   "outputs": [],
   "source": [
    "tips.head()"
   ]
  },
  {
   "cell_type": "code",
   "execution_count": null,
   "metadata": {},
   "outputs": [],
   "source": [
    "tips.info()"
   ]
  },
  {
   "cell_type": "code",
   "execution_count": null,
   "metadata": {},
   "outputs": [],
   "source": [
    "sns.relplot(x=\"total_bill\",\n",
    "            y=\"tip\",\n",
    "            col=\"time\",\n",
    "            # same category used for both style and color\n",
    "            hue=\"smoker\",\n",
    "            style=\"smoker\",\n",
    "            size=\"size\",\n",
    "            data=tips,\n",
    "            # stylistic stuff\n",
    "            height=4,\n",
    "            aspect=1,\n",
    "            palette=['xkcd:indigo', 'xkcd:grass green'],\n",
    "            hue_order=['No', 'Yes']);"
   ]
  },
  {
   "cell_type": "markdown",
   "metadata": {},
   "source": [
    "Statistical relationships: `relplot`\n",
    "---"
   ]
  },
  {
   "cell_type": "code",
   "execution_count": null,
   "metadata": {},
   "outputs": [],
   "source": [
    "sns.relplot(x=\"total_bill\", y=\"tip\",\n",
    "            size=\"size\",\n",
    "            # change size range\n",
    "            sizes=(1, 100),\n",
    "            #\n",
    "            data=tips);"
   ]
  },
  {
   "cell_type": "code",
   "execution_count": null,
   "metadata": {},
   "outputs": [],
   "source": [
    "# some more data\n",
    "fmri = sns.load_dataset(\"fmri\")"
   ]
  },
  {
   "cell_type": "code",
   "execution_count": null,
   "metadata": {},
   "outputs": [],
   "source": [
    "fmri.head()"
   ]
  },
  {
   "cell_type": "code",
   "execution_count": null,
   "metadata": {},
   "outputs": [],
   "source": [
    "sns.relplot(x=\"timepoint\", y=\"signal\",\n",
    "            data=fmri);"
   ]
  },
  {
   "cell_type": "code",
   "execution_count": null,
   "metadata": {},
   "outputs": [],
   "source": [
    "sns.relplot(x=\"timepoint\", y=\"signal\",\n",
    "            # lineplot instead of scatterplot\n",
    "            # by default mean and 95% confidence interval\n",
    "            # if we are aggregating multiple lines\n",
    "            kind=\"line\",\n",
    "            #\n",
    "            data=fmri);"
   ]
  },
  {
   "cell_type": "code",
   "execution_count": null,
   "metadata": {},
   "outputs": [],
   "source": [
    "sns.relplot(x=\"timepoint\", y=\"signal\",\n",
    "            # lineplot instead of scatterplot\n",
    "            kind=\"line\",\n",
    "            #\n",
    "            ci='sd', estimator=\"median\",\n",
    "            data=fmri);"
   ]
  },
  {
   "cell_type": "code",
   "execution_count": null,
   "metadata": {},
   "outputs": [],
   "source": [
    "sns.relplot(x=\"timepoint\", y=\"signal\",\n",
    "            col=\"region\",\n",
    "            hue=\"event\",\n",
    "            kind=\"line\",\n",
    "            data=fmri);"
   ]
  },
  {
   "cell_type": "code",
   "execution_count": null,
   "metadata": {},
   "outputs": [],
   "source": [
    "sns.relplot(x=\"timepoint\", y=\"signal\",\n",
    "            col=\"region\",\n",
    "            hue=\"event\",\n",
    "            kind=\"line\",\n",
    "            # no aggregation\n",
    "            estimator=None,\n",
    "            #\n",
    "            data=fmri);"
   ]
  },
  {
   "cell_type": "code",
   "execution_count": null,
   "metadata": {},
   "outputs": [],
   "source": [
    "sns.relplot(x=\"timepoint\", y=\"signal\",\n",
    "            col=\"region\",\n",
    "            hue=\"event\",\n",
    "            kind=\"line\",\n",
    "            # no aggregation\n",
    "            units=\"subject\", estimator=None,\n",
    "            #\n",
    "            data=fmri);"
   ]
  },
  {
   "cell_type": "markdown",
   "metadata": {},
   "source": [
    "**I do I access individual axes?**"
   ]
  },
  {
   "cell_type": "code",
   "execution_count": null,
   "metadata": {},
   "outputs": [],
   "source": [
    "rp = sns.relplot(x=\"timepoint\", y=\"signal\",\n",
    "                 col=\"region\",\n",
    "                 hue=\"event\",\n",
    "                 kind=\"line\",\n",
    "                 data=fmri)\n",
    "for ax in rp.axes.flatten():\n",
    "    ax.set_xlabel('Changing stuff')\n",
    "    ax.set_ylabel('Also here')\n",
    "    # crazy thing\n",
    "    ax.set_yscale('log', basey=2)"
   ]
  },
  {
   "cell_type": "code",
   "execution_count": null,
   "metadata": {},
   "outputs": [],
   "source": [
    "rp.axes    "
   ]
  },
  {
   "cell_type": "code",
   "execution_count": null,
   "metadata": {},
   "outputs": [],
   "source": [
    "rp.axes.shape"
   ]
  },
  {
   "cell_type": "code",
   "execution_count": null,
   "metadata": {},
   "outputs": [],
   "source": [
    "# not only columns, but also rows\n",
    "sns.relplot(x=\"timepoint\", y=\"signal\", hue=\"subject\",\n",
    "            col=\"region\", row=\"event\", height=3,\n",
    "            kind=\"line\", estimator=None, palette='hsv',\n",
    "            data=fmri);"
   ]
  },
  {
   "cell_type": "markdown",
   "metadata": {},
   "source": [
    "Categorical data: `catplot`\n",
    "---\n",
    "\n",
    "Categorical scatterplots:\n",
    "\n",
    "    stripplot() (with kind=\"strip\"; the default)\n",
    "\n",
    "    swarmplot() (with kind=\"swarm\")\n",
    "\n",
    "Categorical distribution plots:\n",
    "\n",
    "    boxplot() (with kind=\"box\")\n",
    "\n",
    "    violinplot() (with kind=\"violin\")\n",
    "\n",
    "    boxenplot() (with kind=\"boxen\")\n",
    "\n",
    "Categorical estimate plots:\n",
    "\n",
    "    pointplot() (with kind=\"point\")\n",
    "\n",
    "    barplot() (with kind=\"bar\")\n",
    "\n",
    "    countplot() (with kind=\"count\")\n"
   ]
  },
  {
   "cell_type": "code",
   "execution_count": null,
   "metadata": {},
   "outputs": [],
   "source": [
    "sns.catplot(x=\"day\", y=\"total_bill\",\n",
    "#             jitter=False,\n",
    "#             jitter=0.4,\n",
    "            data=tips);"
   ]
  },
  {
   "cell_type": "code",
   "execution_count": null,
   "metadata": {},
   "outputs": [],
   "source": [
    "sns.catplot(x=\"day\", y=\"total_bill\",\n",
    "#             jitter=0.4,\n",
    "            kind='swarm',\n",
    "            data=tips);"
   ]
  },
  {
   "cell_type": "code",
   "execution_count": null,
   "metadata": {},
   "outputs": [],
   "source": [
    "sns.catplot(x=\"day\", y=\"total_bill\",\n",
    "            hue='sex',\n",
    "            hue_order=['Female', 'Male'],\n",
    "            order=['Sun', 'Sat', 'Fri', 'Thur'],\n",
    "            kind='swarm',\n",
    "            data=tips);"
   ]
  },
  {
   "cell_type": "code",
   "execution_count": null,
   "metadata": {},
   "outputs": [],
   "source": [
    "sns.catplot(x=\"size\", y=\"total_bill\",\n",
    "            kind=\"swarm\",\n",
    "#             orient='h',\n",
    "            data=tips);"
   ]
  },
  {
   "cell_type": "code",
   "execution_count": null,
   "metadata": {},
   "outputs": [],
   "source": [
    "sns.catplot(x=\"day\", y=\"total_bill\",\n",
    "            hue='sex',\n",
    "            hue_order=['Female', 'Male'],\n",
    "            order=['Sun', 'Sat', 'Fri', 'Thur'],\n",
    "            kind='swarm',\n",
    "            data=tips);"
   ]
  },
  {
   "cell_type": "code",
   "execution_count": null,
   "metadata": {},
   "outputs": [],
   "source": [
    "sns.catplot(x=\"day\", y=\"total_bill\",\n",
    "            hue='sex',\n",
    "            hue_order=['Female', 'Male'],\n",
    "            order=['Sun', 'Sat', 'Fri', 'Thur'],\n",
    "            kind='box',\n",
    "            notch=True,\n",
    "            data=tips);"
   ]
  },
  {
   "cell_type": "code",
   "execution_count": null,
   "metadata": {},
   "outputs": [],
   "source": [
    "sns.catplot(x=\"day\", y=\"total_bill\",\n",
    "            hue='sex',\n",
    "            hue_order=['Female', 'Male'],\n",
    "            order=['Sun', 'Sat', 'Fri', 'Thur'],\n",
    "            kind='boxen',\n",
    "            data=tips);"
   ]
  },
  {
   "cell_type": "code",
   "execution_count": null,
   "metadata": {},
   "outputs": [],
   "source": [
    "sns.catplot(x=\"day\", y=\"total_bill\",\n",
    "            hue='sex',\n",
    "            hue_order=['Female', 'Male'],\n",
    "            order=['Sun', 'Sat', 'Fri', 'Thur'],\n",
    "            kind='violin',\n",
    "            palette='Blues',\n",
    "#             split=True,\n",
    "#             bw=0.1, # bandwith argument for the underlying kde\n",
    "#             palette='jet',\n",
    "            data=tips);"
   ]
  },
  {
   "cell_type": "code",
   "execution_count": null,
   "metadata": {},
   "outputs": [],
   "source": [
    "g = sns.catplot(x=\"day\", y=\"total_bill\",\n",
    "                kind=\"violin\",\n",
    "                inner=None, data=tips)\n",
    "sns.swarmplot(x=\"day\", y=\"total_bill\",\n",
    "              color=\"k\",\n",
    "              size=3, data=tips,\n",
    "              ax=g.ax);"
   ]
  },
  {
   "cell_type": "code",
   "execution_count": null,
   "metadata": {},
   "outputs": [],
   "source": [
    "g = sns.catplot(y=\"day\", x=\"total_bill\",\n",
    "                kind=\"box\", color='xkcd:pale grey',\n",
    "                orient='h',\n",
    "                data=tips,\n",
    "                height=3, aspect=2)\n",
    "sns.swarmplot(y=\"day\", x=\"total_bill\",\n",
    "              orient='h',\n",
    "              color=\"k\", alpha=0.7,\n",
    "              size=6, data=tips,\n",
    "              ax=g.ax);"
   ]
  },
  {
   "cell_type": "code",
   "execution_count": null,
   "metadata": {},
   "outputs": [],
   "source": [
    "sns.catplot(x=\"day\", y=\"total_bill\",\n",
    "            hue='sex',\n",
    "            data=tips,\n",
    "            kind='bar',\n",
    "#             ci='sd', estimator=np.median,\n",
    "            height=5, aspect=0.7);"
   ]
  },
  {
   "cell_type": "code",
   "execution_count": null,
   "metadata": {},
   "outputs": [],
   "source": [
    "sns.catplot(x=\"day\", y=\"total_bill\",\n",
    "            hue='sex',\n",
    "            data=tips,\n",
    "            kind='point',\n",
    "            height=5, aspect=0.7);"
   ]
  },
  {
   "cell_type": "markdown",
   "metadata": {},
   "source": [
    "Linear regressions: `lmplot`\n",
    "---"
   ]
  },
  {
   "cell_type": "code",
   "execution_count": null,
   "metadata": {},
   "outputs": [],
   "source": [
    "sns.lmplot(x=\"total_bill\", y=\"tip\", data=tips);"
   ]
  },
  {
   "cell_type": "code",
   "execution_count": null,
   "metadata": {},
   "outputs": [],
   "source": [
    "anscombe = sns.load_dataset(\"anscombe\")\n",
    "anscombe.head()"
   ]
  },
  {
   "cell_type": "code",
   "execution_count": null,
   "metadata": {},
   "outputs": [],
   "source": [
    "sns.lmplot(x=\"x\", y=\"y\", data=anscombe,\n",
    "           ci=None, height=4, aspect=1,\n",
    "           col='dataset', col_wrap=2,\n",
    "#            order=2,\n",
    "#            robust=True,\n",
    "#            lowess=True,\n",
    "          );"
   ]
  },
  {
   "cell_type": "code",
   "execution_count": null,
   "metadata": {},
   "outputs": [],
   "source": [
    "sns.lmplot(x=\"total_bill\", y=\"tip\", hue=\"smoker\",\n",
    "#            ci=None,\n",
    "           data=tips);"
   ]
  },
  {
   "cell_type": "markdown",
   "metadata": {},
   "source": [
    "Univariate and bivariate distributions: `distplot`\n",
    "---"
   ]
  },
  {
   "cell_type": "code",
   "execution_count": null,
   "metadata": {},
   "outputs": [],
   "source": [
    "# random distribution\n",
    "x = np.random.normal(size=100)"
   ]
  },
  {
   "cell_type": "code",
   "execution_count": null,
   "metadata": {},
   "outputs": [],
   "source": [
    "sns.distplot(x,\n",
    "#              kde=False,\n",
    "#              rug=True,\n",
    "             bins=20,\n",
    "             )\n",
    "sns.despine();"
   ]
  },
  {
   "cell_type": "code",
   "execution_count": null,
   "metadata": {},
   "outputs": [],
   "source": [
    "# random gamma distribution\n",
    "x = np.random.gamma(6, size=200)"
   ]
  },
  {
   "cell_type": "code",
   "execution_count": null,
   "metadata": {},
   "outputs": [],
   "source": [
    "sns.distplot(x, \n",
    "             kde=False,\n",
    "             fit=stats.gamma,\n",
    "#              fit=stats.norm,\n",
    "            );"
   ]
  },
  {
   "cell_type": "code",
   "execution_count": null,
   "metadata": {},
   "outputs": [],
   "source": [
    "# generate bivariate\n",
    "mean, cov = [0, 1], [(1, .5), (.5, 1)]\n",
    "data = np.random.multivariate_normal(mean, cov, 200)\n",
    "df = pd.DataFrame(data, columns=[\"x\", \"y\"])"
   ]
  },
  {
   "cell_type": "code",
   "execution_count": null,
   "metadata": {},
   "outputs": [],
   "source": [
    "sns.jointplot(x=\"x\", y=\"y\", data=df,\n",
    "#               kind='hex',\n",
    "#               kind='kde',\n",
    "             );"
   ]
  },
  {
   "cell_type": "code",
   "execution_count": null,
   "metadata": {},
   "outputs": [],
   "source": [
    "# another dataset\n",
    "iris = sns.load_dataset(\"iris\")\n",
    "iris.sample(5)"
   ]
  },
  {
   "cell_type": "code",
   "execution_count": null,
   "metadata": {},
   "outputs": [],
   "source": [
    "sns.pairplot(iris,\n",
    "#              hue='species'\n",
    "            );"
   ]
  },
  {
   "cell_type": "markdown",
   "metadata": {},
   "source": [
    "Heatmaps, clustermaps\n",
    "---\n",
    "\n",
    "- Heatmap `sns.heatmap` example: http://seaborn.pydata.org/examples/many_pairwise_correlations.html\n",
    "- Clustermap `sns.clustermap` example: http://seaborn.pydata.org/examples/structured_heatmap.html"
   ]
  },
  {
   "cell_type": "markdown",
   "metadata": {},
   "source": [
    "Last: changing styles\n",
    "---"
   ]
  },
  {
   "cell_type": "code",
   "execution_count": null,
   "metadata": {},
   "outputs": [],
   "source": [
    "plt.style.available"
   ]
  },
  {
   "cell_type": "code",
   "execution_count": null,
   "metadata": {},
   "outputs": [],
   "source": [
    "for style in plt.style.available:\n",
    "    with plt.style.context(style):\n",
    "        lp = sns.lmplot(x=\"total_bill\", y=\"tip\", hue=\"smoker\",\n",
    "                        ci=None,\n",
    "                        data=tips)\n",
    "        lp.axes.flatten()[0].set_title(style);"
   ]
  }
 ],
 "metadata": {
  "kernelspec": {
   "display_name": "Python 3",
   "language": "python",
   "name": "python3"
  },
  "language_info": {
   "codemirror_mode": {
    "name": "ipython",
    "version": 3
   },
   "file_extension": ".py",
   "mimetype": "text/x-python",
   "name": "python",
   "nbconvert_exporter": "python",
   "pygments_lexer": "ipython3",
   "version": "3.8.5"
  }
 },
 "nbformat": 4,
 "nbformat_minor": 4
}
