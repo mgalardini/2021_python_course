{
 "cells": [
  {
   "cell_type": "markdown",
   "metadata": {
    "colab_type": "text",
    "id": "_XD_wsn6xlTl"
   },
   "source": [
    "# Lesson 2: Intro to Pandas\n",
    "### Summary\n",
    "* Flexible, and expressive data structures **Series** (1D) and **DataFrame** (2D)\n",
    "* High-level building block for doing **practical, real world data analysis**\n",
    "* **Nearly as fast as C language** = Build on top of Numpy and extensive use of Cython\n",
    "* **Robust IO tools** for loading and parsing data from text files, excel files and databases.\n",
    "\n",
    "### Additional Resources\n",
    "\n",
    "*   Getting Started Guide: https://pandas.pydata.org/pandas-docs/stable/getting_started/index.html\n",
    "*   Complete User-Guide: https://pandas.pydata.org/pandas-docs/stable/user_guide/index.html#user-guide\n",
    "*   Geeks for Geeks: https://www.geeksforgeeks.org/pandas-tutorial/\n",
    "\n",
    "\n",
    "\n",
    "---\n",
    "---\n",
    "\n",
    "\n",
    "\n"
   ]
  },
  {
   "cell_type": "markdown",
   "metadata": {
    "colab_type": "text",
    "id": "T50gPrMGpOvO"
   },
   "source": [
    "# Imports\n",
    "\n",
    "**Importing the packages you need on the top of your script/notebook is good programming practice** "
   ]
  },
  {
   "cell_type": "code",
   "execution_count": null,
   "metadata": {
    "ExecuteTime": {
     "end_time": "2017-09-18T15:07:47.669879",
     "start_time": "2017-09-18T15:07:47.371958Z"
    },
    "colab": {},
    "colab_type": "code",
    "id": "qoHXBqWxpOvl",
    "init_cell": true,
    "run_control": {
     "frozen": false,
     "read_only": false
    }
   },
   "outputs": [],
   "source": [
    "# Import the packages that will be usefull for this lesson\n",
    "import pandas as pd\n",
    "import numpy as np"
   ]
  },
  {
   "cell_type": "markdown",
   "metadata": {
    "colab_type": "text",
    "id": "YXba5aUWkjZ2"
   },
   "source": [
    "---"
   ]
  },
  {
   "cell_type": "markdown",
   "metadata": {
    "colab_type": "text",
    "id": "ZWCuCc4vROju"
   },
   "source": [
    "# pandas Objects\n",
    "Typically, DataFrames and Series objects are created by loading in data from a CSV or excel file (subsequent section). But sometimes you might find it useful to create an object within your script."
   ]
  },
  {
   "cell_type": "markdown",
   "metadata": {
    "colab_type": "text",
    "id": "CI-UTzd2R1Tj"
   },
   "source": [
    "## Pandas Series\n",
    "*   1-D array\n",
    "*   Can contain data of any type (integer, string, float, python objects, etc.)\n",
    "*   axis labels (*i.e.* row names) are called the index\n",
    "\n",
    "**TL;DR a Series is a column in an excel sheet**\n",
    "\n",
    "### Creating Pandas Series\n",
    "\n",
    "**From a List(s)**\n",
    "\n",
    "\n",
    "\n"
   ]
  },
  {
   "cell_type": "code",
   "execution_count": null,
   "metadata": {
    "colab": {
     "base_uri": "https://localhost:8080/",
     "height": 119
    },
    "colab_type": "code",
    "executionInfo": {
     "elapsed": 405,
     "status": "ok",
     "timestamp": 1587737850781,
     "user": {
      "displayName": "Emma Briars",
      "photoUrl": "https://lh3.googleusercontent.com/a-/AOh14Gj14uLObWQe3mbLX6o5aXvFBch63XWb_GUOD_jG=s64",
      "userId": "10583257419353631243"
     },
     "user_tz": 240
    },
    "id": "fXjMp0NgeJPN",
    "outputId": "fd7d18cf-d8f1-43c7-8ec1-a3b56ab12d6d"
   },
   "outputs": [],
   "source": [
    "Base = ('A','T','C','G','N')\n",
    "Freq = (0.21, 0.24, 0.27, 0.25, 0.03)\n",
    "bases = pd.Series(data=Freq, index=Base)\n",
    "bases"
   ]
  },
  {
   "cell_type": "markdown",
   "metadata": {
    "colab_type": "text",
    "id": "-kWmVpaeeM0n"
   },
   "source": [
    "**From a Dictionary**"
   ]
  },
  {
   "cell_type": "code",
   "execution_count": null,
   "metadata": {
    "colab": {
     "base_uri": "https://localhost:8080/",
     "height": 119
    },
    "colab_type": "code",
    "executionInfo": {
     "elapsed": 403,
     "status": "ok",
     "timestamp": 1587737926970,
     "user": {
      "displayName": "Emma Briars",
      "photoUrl": "https://lh3.googleusercontent.com/a-/AOh14Gj14uLObWQe3mbLX6o5aXvFBch63XWb_GUOD_jG=s64",
      "userId": "10583257419353631243"
     },
     "user_tz": 240
    },
    "id": "GgQ7NZmEcuqY",
    "outputId": "68f0e9ac-c4e2-4610-8b7c-60df808ecd3c"
   },
   "outputs": [],
   "source": [
    "d = {'A':0.21, 'T':0.24, 'C':0.27, 'G':0.25, 'N':0.03}\n",
    "bases_2 = pd.Series(d)\n",
    "bases_2"
   ]
  },
  {
   "cell_type": "markdown",
   "metadata": {
    "colab_type": "text",
    "id": "ojGccYivUpfh"
   },
   "source": [
    "## Pandas DataFrames\n",
    "*   2D tabular data \n",
    "*   labeled axes (rows and columns)\n",
    "*   size-mutable (can add/remove data)\n",
    "*   potentially heterogeneous data types\n",
    "\n",
    "### Creating Pandas DataFrames\n",
    "**From a pandas Series**"
   ]
  },
  {
   "cell_type": "code",
   "execution_count": null,
   "metadata": {
    "colab": {
     "base_uri": "https://localhost:8080/",
     "height": 204
    },
    "colab_type": "code",
    "executionInfo": {
     "elapsed": 518,
     "status": "ok",
     "timestamp": 1587737954911,
     "user": {
      "displayName": "Emma Briars",
      "photoUrl": "https://lh3.googleusercontent.com/a-/AOh14Gj14uLObWQe3mbLX6o5aXvFBch63XWb_GUOD_jG=s64",
      "userId": "10583257419353631243"
     },
     "user_tz": 240
    },
    "id": "mnlV6aSSf1YR",
    "outputId": "48973e05-9db5-4400-c985-59072d03013e"
   },
   "outputs": [],
   "source": [
    "d = {'A':0.21, 'T':0.24, 'C':0.27, 'G':0.25, 'N':0.03}\n",
    "bases_2 = pd.Series(d)\n",
    "pd.DataFrame(bases_2, columns=[\"Percent\"])"
   ]
  },
  {
   "cell_type": "markdown",
   "metadata": {
    "colab_type": "text",
    "id": "fO-o4fsFf35D"
   },
   "source": [
    "**From a Dictionary**"
   ]
  },
  {
   "cell_type": "code",
   "execution_count": null,
   "metadata": {
    "colab": {
     "base_uri": "https://localhost:8080/",
     "height": 173
    },
    "colab_type": "code",
    "executionInfo": {
     "elapsed": 517,
     "status": "ok",
     "timestamp": 1587738009909,
     "user": {
      "displayName": "Emma Briars",
      "photoUrl": "https://lh3.googleusercontent.com/a-/AOh14Gj14uLObWQe3mbLX6o5aXvFBch63XWb_GUOD_jG=s64",
      "userId": "10583257419353631243"
     },
     "user_tz": 240
    },
    "id": "rMjtouLPcmOK",
    "outputId": "905458d6-e40d-42f3-b528-3efd6ff32d43"
   },
   "outputs": [],
   "source": [
    "d = {'Protein':['YFP', 'GFP', 'RFP', 'BFP'],\n",
    "        'Ex':[514, 488, 555, 383],\n",
    "        'Em':[527, 510, 584, 445]}\n",
    "df = pd.DataFrame(d) \n",
    "df"
   ]
  },
  {
   "cell_type": "markdown",
   "metadata": {
    "colab_type": "text",
    "id": "Ym2pkCHpfMRP"
   },
   "source": [
    "---"
   ]
  },
  {
   "cell_type": "markdown",
   "metadata": {
    "colab_type": "text",
    "id": "KkpCA2MgoDv3"
   },
   "source": [
    "# Loading Data"
   ]
  },
  {
   "cell_type": "markdown",
   "metadata": {
    "colab_type": "text",
    "id": "M4GXygU-oRG0"
   },
   "source": [
    "### Lesson 1 Recap\n",
    "Last time, we learned about loading a text file for reading and writing.\n",
    "\n",
    "```\n",
    "f = open('mysequence.fasta', 'r')\n",
    "new_file = open('thesis.txt', 'w')\n",
    "```\n",
    "\n",
    "This is useful for text-based data, such as FASTA files or text documents.\n",
    "\n",
    "But what about **tabular data**, such as data from your flow experiment, or time-course data from the plate-reader?\n"
   ]
  },
  {
   "cell_type": "markdown",
   "metadata": {
    "colab_type": "text",
    "id": "otmrx772ozbH"
   },
   "source": [
    "### Using Pandas to Load Data\n",
    "There are many methods to use pandas to load data. You can choose which method to use based off of your file-type, and can adjust the parameters accordingly.\n",
    "\n",
    "**Load from a .csv file using `pd.read_csv()`**\n",
    "```\n",
    "# Comma-delimited text\n",
    "data = pd.read_csv('new_data.csv')\n",
    "\n",
    "# Tab-delimited text\n",
    "data = pd.read_csv('newer_data.txt', sep='\\t')\n",
    "\n",
    "# From a URL\n",
    "data = pd.read_csv('https://raw.githubusercontent.com/FBosler/you-datascientist/master/happiness_with_continent.csv')\n",
    "```\n",
    "\n",
    "**Load from a .xls/.xlsx file using `pd.read_excel()`**\n",
    "```\n",
    "data = pd.read_excel('thesis_data.xlsx')\n",
    "```\n",
    "\n",
    "#### Useful Parameters for Loading Data\n",
    "\n",
    "\n",
    "*   **sep**: separator for the columns (*e.g.* ',' or '\\t')\n",
    "*   **header**: row that contains the column headers (*e.g.* 'None', 2 (third row, skip everything above it)\n",
    "*   **index_col**: which column should be the index (row names)\n"
   ]
  },
  {
   "cell_type": "code",
   "execution_count": null,
   "metadata": {
    "colab": {},
    "colab_type": "code",
    "id": "WaKJMWdVJnSn"
   },
   "outputs": [],
   "source": [
    "## Example: Loading Data \n",
    "url = 'https://raw.githubusercontent.com/khalillab/programming-workshops/master/2_EColi-rRNA_Sample-Data.txt'\n",
    "data = pd.read_csv(url, sep='\\t')"
   ]
  },
  {
   "cell_type": "code",
   "execution_count": null,
   "metadata": {},
   "outputs": [],
   "source": [
    "data"
   ]
  },
  {
   "cell_type": "markdown",
   "metadata": {
    "colab_type": "text",
    "id": "kwTYWhwVoIzS"
   },
   "source": [
    "---"
   ]
  },
  {
   "cell_type": "markdown",
   "metadata": {
    "colab_type": "text",
    "id": "pkPAiUsRN8RE"
   },
   "source": [
    "# Inspecting & Describing Data"
   ]
  },
  {
   "cell_type": "markdown",
   "metadata": {
    "colab_type": "text",
    "id": "iMfD4TqHOEAC"
   },
   "source": [
    "Once data has been created/loaded using pandas, it is useful to 'look' at the data and ensure that it has been initialized properly. Rather than look at the entire data table, you can use simple functions to take a peak at the top, bottom, or random mix of the table.\n",
    "\n",
    "### Functions to View Data\n",
    "\n",
    "*   `data.head()`: display first n rows\n",
    "*   `data.tail()`: display last n rows\n",
    "*   `data.sample()`: display n random rows\n",
    "\n"
   ]
  },
  {
   "cell_type": "code",
   "execution_count": null,
   "metadata": {},
   "outputs": [],
   "source": [
    "## Example: Viewing Data\n",
    "# Display the first 5 rows\n",
    "data.head()"
   ]
  },
  {
   "cell_type": "code",
   "execution_count": null,
   "metadata": {},
   "outputs": [],
   "source": [
    "# Display the last 10 rows\n",
    "data.tail(10)"
   ]
  },
  {
   "cell_type": "code",
   "execution_count": null,
   "metadata": {
    "colab": {
     "base_uri": "https://localhost:8080/",
     "height": 306
    },
    "colab_type": "code",
    "executionInfo": {
     "elapsed": 442,
     "status": "ok",
     "timestamp": 1587738446674,
     "user": {
      "displayName": "Emma Briars",
      "photoUrl": "https://lh3.googleusercontent.com/a-/AOh14Gj14uLObWQe3mbLX6o5aXvFBch63XWb_GUOD_jG=s64",
      "userId": "10583257419353631243"
     },
     "user_tz": 240
    },
    "id": "qrbUhTkOPcY8",
    "outputId": "d2f8a761-b1f2-4451-f341-78b9354be0f2"
   },
   "outputs": [],
   "source": [
    "# Display a random sampling of 7 rows\n",
    "data.sample(7)"
   ]
  },
  {
   "cell_type": "code",
   "execution_count": null,
   "metadata": {
    "colab": {},
    "colab_type": "code",
    "id": "twCa7spWjb6R"
   },
   "outputs": [],
   "source": [
    "## Example: Loading & Viewing Data #2\n",
    "## After viewing the table, we realize we want to use \"GeneID\" as the rownames instead of numbers\n",
    "new_data = pd.read_csv(url, sep='\\t', index_col='GeneID')\n",
    "new_data.head()"
   ]
  },
  {
   "cell_type": "markdown",
   "metadata": {
    "colab_type": "text",
    "id": "V_HsX1AtQJAO"
   },
   "source": [
    "## Functions to Describe Data\n",
    "\n",
    "*   `data.shape`: dimensions of data (# rows, # columns) *This is not actually a function, but a property, so do not use '()'\n",
    "*   `data.info()`: data types of each column\n",
    "*   `data.describe()`: statistical information about the numerical columns\n",
    "\n"
   ]
  },
  {
   "cell_type": "code",
   "execution_count": null,
   "metadata": {},
   "outputs": [],
   "source": [
    "## Example: Describing Data\n",
    "data.shape"
   ]
  },
  {
   "cell_type": "code",
   "execution_count": null,
   "metadata": {},
   "outputs": [],
   "source": [
    "data.info()"
   ]
  },
  {
   "cell_type": "code",
   "execution_count": null,
   "metadata": {
    "colab": {
     "base_uri": "https://localhost:8080/",
     "height": 297
    },
    "colab_type": "code",
    "executionInfo": {
     "elapsed": 668,
     "status": "ok",
     "timestamp": 1587738619525,
     "user": {
      "displayName": "Emma Briars",
      "photoUrl": "https://lh3.googleusercontent.com/a-/AOh14Gj14uLObWQe3mbLX6o5aXvFBch63XWb_GUOD_jG=s64",
      "userId": "10583257419353631243"
     },
     "user_tz": 240
    },
    "id": "vbshBN99RnZN",
    "outputId": "5b4c3003-6a89-49c3-a469-d37b5eab0154"
   },
   "outputs": [],
   "source": [
    "data.describe()"
   ]
  },
  {
   "cell_type": "markdown",
   "metadata": {
    "colab_type": "text",
    "id": "KVN4GKCBRxqJ"
   },
   "source": [
    "---"
   ]
  },
  {
   "cell_type": "markdown",
   "metadata": {
    "colab_type": "text",
    "id": "2iAru0N_R1A1"
   },
   "source": [
    "# Manipulating Data"
   ]
  },
  {
   "cell_type": "markdown",
   "metadata": {
    "colab_type": "text",
    "id": "gCH26vTjpO1V"
   },
   "source": [
    "## Manipulating Series Objects\n",
    "**Indexing/Slicing/Updating**\n"
   ]
  },
  {
   "cell_type": "code",
   "execution_count": null,
   "metadata": {
    "colab": {
     "base_uri": "https://localhost:8080/",
     "height": 102
    },
    "colab_type": "code",
    "executionInfo": {
     "elapsed": 442,
     "status": "ok",
     "timestamp": 1587738714494,
     "user": {
      "displayName": "Emma Briars",
      "photoUrl": "https://lh3.googleusercontent.com/a-/AOh14Gj14uLObWQe3mbLX6o5aXvFBch63XWb_GUOD_jG=s64",
      "userId": "10583257419353631243"
     },
     "user_tz": 240
    },
    "id": "ZJIH_MMGpO2Z",
    "outputId": "5bff776f-a6f2-432a-ea97-f6314c034723",
    "run_control": {
     "frozen": false,
     "read_only": false
    }
   },
   "outputs": [],
   "source": [
    "# Create a series\n",
    "s = pd.Series({'A':0.21, 'T':0.24, 'C':0.27, 'G':0.25}, name=\"Percent\")\n",
    "s"
   ]
  },
  {
   "cell_type": "code",
   "execution_count": null,
   "metadata": {
    "colab": {
     "base_uri": "https://localhost:8080/",
     "height": 136
    },
    "colab_type": "code",
    "executionInfo": {
     "elapsed": 396,
     "status": "ok",
     "timestamp": 1587738747929,
     "user": {
      "displayName": "Emma Briars",
      "photoUrl": "https://lh3.googleusercontent.com/a-/AOh14Gj14uLObWQe3mbLX6o5aXvFBch63XWb_GUOD_jG=s64",
      "userId": "10583257419353631243"
     },
     "user_tz": 240
    },
    "id": "R8b3piOQpO2u",
    "outputId": "81d39987-40c7-442c-acfe-01acf71e9abc",
    "run_control": {
     "frozen": false,
     "read_only": false
    }
   },
   "outputs": [],
   "source": [
    "# Concatenate two series\n",
    "s2 = pd.Series({'Y':0.01, 'N':0.03})\n",
    "s3 = s.append(s2)\n",
    "s3"
   ]
  },
  {
   "cell_type": "code",
   "execution_count": null,
   "metadata": {
    "colab": {
     "base_uri": "https://localhost:8080/",
     "height": 68
    },
    "colab_type": "code",
    "executionInfo": {
     "elapsed": 511,
     "status": "ok",
     "timestamp": 1587738764130,
     "user": {
      "displayName": "Emma Briars",
      "photoUrl": "https://lh3.googleusercontent.com/a-/AOh14Gj14uLObWQe3mbLX6o5aXvFBch63XWb_GUOD_jG=s64",
      "userId": "10583257419353631243"
     },
     "user_tz": 240
    },
    "id": "7cvyAYYMpO2w",
    "outputId": "6f76676c-85e2-409a-cee8-37c58c4f42b3",
    "run_control": {
     "frozen": false,
     "read_only": false
    }
   },
   "outputs": [],
   "source": [
    "# Slicing\n",
    "s[2:4]"
   ]
  },
  {
   "cell_type": "code",
   "execution_count": null,
   "metadata": {
    "colab": {
     "base_uri": "https://localhost:8080/",
     "height": 34
    },
    "colab_type": "code",
    "executionInfo": {
     "elapsed": 426,
     "status": "ok",
     "timestamp": 1587738773941,
     "user": {
      "displayName": "Emma Briars",
      "photoUrl": "https://lh3.googleusercontent.com/a-/AOh14Gj14uLObWQe3mbLX6o5aXvFBch63XWb_GUOD_jG=s64",
      "userId": "10583257419353631243"
     },
     "user_tz": 240
    },
    "id": "viNupP-wpO2y",
    "outputId": "b73f7b79-6fa0-4c17-88b3-ca51429cf39a",
    "run_control": {
     "frozen": false,
     "read_only": false
    }
   },
   "outputs": [],
   "source": [
    "# Extraction\n",
    "s[2]"
   ]
  },
  {
   "cell_type": "code",
   "execution_count": null,
   "metadata": {
    "colab": {
     "base_uri": "https://localhost:8080/",
     "height": 85
    },
    "colab_type": "code",
    "executionInfo": {
     "elapsed": 1140,
     "status": "ok",
     "timestamp": 1587738786319,
     "user": {
      "displayName": "Emma Briars",
      "photoUrl": "https://lh3.googleusercontent.com/a-/AOh14Gj14uLObWQe3mbLX6o5aXvFBch63XWb_GUOD_jG=s64",
      "userId": "10583257419353631243"
     },
     "user_tz": 240
    },
    "id": "1eHM9iyopO3A",
    "outputId": "820721f0-dd3e-45b6-a70d-5d2c148fe913",
    "run_control": {
     "frozen": false,
     "read_only": false
    }
   },
   "outputs": [],
   "source": [
    "# the \"for\" loop works as for a list \n",
    "for i in s:\n",
    "    print (i)"
   ]
  },
  {
   "cell_type": "code",
   "execution_count": null,
   "metadata": {
    "colab": {
     "base_uri": "https://localhost:8080/",
     "height": 102
    },
    "colab_type": "code",
    "executionInfo": {
     "elapsed": 420,
     "status": "ok",
     "timestamp": 1587738799777,
     "user": {
      "displayName": "Emma Briars",
      "photoUrl": "https://lh3.googleusercontent.com/a-/AOh14Gj14uLObWQe3mbLX6o5aXvFBch63XWb_GUOD_jG=s64",
      "userId": "10583257419353631243"
     },
     "user_tz": 240
    },
    "id": "8WMhMNzxpO3E",
    "outputId": "f51aa2ef-e397-4ea8-f8cc-983d84603bef",
    "run_control": {
     "frozen": false,
     "read_only": false
    }
   },
   "outputs": [],
   "source": [
    "# Update value\n",
    "s[\"A\"] = 22\n",
    "s"
   ]
  },
  {
   "cell_type": "code",
   "execution_count": null,
   "metadata": {
    "colab": {
     "base_uri": "https://localhost:8080/",
     "height": 34
    },
    "colab_type": "code",
    "executionInfo": {
     "elapsed": 600,
     "status": "ok",
     "timestamp": 1587738827674,
     "user": {
      "displayName": "Emma Briars",
      "photoUrl": "https://lh3.googleusercontent.com/a-/AOh14Gj14uLObWQe3mbLX6o5aXvFBch63XWb_GUOD_jG=s64",
      "userId": "10583257419353631243"
     },
     "user_tz": 240
    },
    "id": "k--QWaPkiKnK",
    "outputId": "96e9f9bc-2584-4532-fbfc-4302eeaeaf51"
   },
   "outputs": [],
   "source": [
    "# Named indexing\n",
    "s[\"A\"]"
   ]
  },
  {
   "cell_type": "code",
   "execution_count": null,
   "metadata": {
    "colab": {
     "base_uri": "https://localhost:8080/",
     "height": 34
    },
    "colab_type": "code",
    "executionInfo": {
     "elapsed": 511,
     "status": "ok",
     "timestamp": 1587738843938,
     "user": {
      "displayName": "Emma Briars",
      "photoUrl": "https://lh3.googleusercontent.com/a-/AOh14Gj14uLObWQe3mbLX6o5aXvFBch63XWb_GUOD_jG=s64",
      "userId": "10583257419353631243"
     },
     "user_tz": 240
    },
    "id": "19i7V6BqiM4W",
    "outputId": "34bf341d-fac3-42d2-a28f-388f7f5a158f"
   },
   "outputs": [],
   "source": [
    "# Test for existence\n",
    "print (\"A\" in s)\n",
    "print (\"V\" in s)"
   ]
  },
  {
   "cell_type": "markdown",
   "metadata": {
    "colab_type": "text",
    "collapsed": true,
    "id": "xlPpjw6WpO3G",
    "run_control": {
     "frozen": false,
     "read_only": false
    }
   },
   "source": [
    "**Mathematic operations (thanks to `numpy`)**"
   ]
  },
  {
   "cell_type": "code",
   "execution_count": null,
   "metadata": {
    "colab": {
     "base_uri": "https://localhost:8080/",
     "height": 34
    },
    "colab_type": "code",
    "executionInfo": {
     "elapsed": 364,
     "status": "ok",
     "timestamp": 1587738880439,
     "user": {
      "displayName": "Emma Briars",
      "photoUrl": "https://lh3.googleusercontent.com/a-/AOh14Gj14uLObWQe3mbLX6o5aXvFBch63XWb_GUOD_jG=s64",
      "userId": "10583257419353631243"
     },
     "user_tz": 240
    },
    "id": "SKPNGNG7pO3G",
    "outputId": "7f953eba-e8ad-40b6-9e24-daa08fb2d54f",
    "run_control": {
     "frozen": false,
     "read_only": false
    }
   },
   "outputs": [],
   "source": [
    "s1 = pd.Series({'A':21, 'T':24, 'C':27, 'G':25, 'N':3}, name=\"Percent\")\n",
    "\n",
    "print(s1.max())\n",
    "print(s1.mean())\n",
    "print(s1.all()>20)\n",
    "print(s1.sem()) # standard error of the mean"
   ]
  },
  {
   "cell_type": "code",
   "execution_count": null,
   "metadata": {
    "colab": {
     "base_uri": "https://localhost:8080/",
     "height": 119
    },
    "colab_type": "code",
    "executionInfo": {
     "elapsed": 759,
     "status": "ok",
     "timestamp": 1587738906516,
     "user": {
      "displayName": "Emma Briars",
      "photoUrl": "https://lh3.googleusercontent.com/a-/AOh14Gj14uLObWQe3mbLX6o5aXvFBch63XWb_GUOD_jG=s64",
      "userId": "10583257419353631243"
     },
     "user_tz": 240
    },
    "id": "3gInp39MpO3I",
    "outputId": "531c9f8b-bfe8-4901-e44a-c779e6c09277",
    "run_control": {
     "frozen": false,
     "read_only": false
    }
   },
   "outputs": [],
   "source": [
    "# Addition of 2 series will return a results for all values in the 2 series\n",
    "s2 = pd.Series({'A':0.2, 'T':0.7, 'C':0.4, 'G':1.5, 'N':-3}, name=\"Percent\")\n",
    "\n",
    "s1 + s2"
   ]
  },
  {
   "cell_type": "markdown",
   "metadata": {
    "colab_type": "text",
    "collapsed": true,
    "id": "MePhlipTpO3K",
    "run_control": {
     "frozen": false,
     "read_only": false
    }
   },
   "source": [
    "## Manipulating DataFrame Objects\n"
   ]
  },
  {
   "cell_type": "markdown",
   "metadata": {
    "colab_type": "text",
    "id": "MBG0FKUyRd6r"
   },
   "source": [
    "### Reshaping Data \n",
    "**pandas Functions for Re-Shaping Data**\n",
    "\n",
    "\n",
    "*   `pivot()`\n",
    "*   `stack()`\n",
    "*   `unstack()`\n",
    "*   `melt()`\n",
    "\n",
    "**Further Reading**\n",
    "*   pandas Tutorial: https://pandas.pydata.org/pandas-docs/stable/user_guide/reshaping.html\n",
    "*   Geeks for Geeks Tutorial: https://www.geeksforgeeks.org/reshape-a-pandas-dataframe-using-stackunstack-and-melt-method/\n",
    "*   [Hadley Wickham's](https://en.wikipedia.org/wiki/Hadley_Wickham) philosophy on tidy data: https://vita.had.co.nz/papers/tidy-data.pdf\n"
   ]
  },
  {
   "cell_type": "markdown",
   "metadata": {
    "colab_type": "text",
    "id": "KvjjgiS1pO5_"
   },
   "source": [
    "### Renaming and transforming a DataFrame"
   ]
  },
  {
   "cell_type": "code",
   "execution_count": null,
   "metadata": {
    "ExecuteTime": {
     "end_time": "2017-09-18T11:16:12.262729",
     "start_time": "2017-09-18T11:16:12.256058Z"
    },
    "colab": {
     "base_uri": "https://localhost:8080/",
     "height": 306
    },
    "colab_type": "code",
    "executionInfo": {
     "elapsed": 420,
     "status": "ok",
     "timestamp": 1587739011963,
     "user": {
      "displayName": "Emma Briars",
      "photoUrl": "https://lh3.googleusercontent.com/a-/AOh14Gj14uLObWQe3mbLX6o5aXvFBch63XWb_GUOD_jG=s64",
      "userId": "10583257419353631243"
     },
     "user_tz": 240
    },
    "id": "DBbUBApipO6A",
    "outputId": "e94c7a5f-a5dc-41a8-c038-8b9d7e9ec7e2",
    "run_control": {
     "frozen": false,
     "read_only": false
    }
   },
   "outputs": [],
   "source": [
    "url = 'https://raw.githubusercontent.com/khalillab/programming-workshops/master/2_EColi-rRNA_Sample-Data.txt'\n",
    "df = pd.read_csv(url, sep='\\t')\n",
    "df.head()"
   ]
  },
  {
   "cell_type": "markdown",
   "metadata": {
    "colab_type": "text",
    "id": "9TWwuHF2pO6C"
   },
   "source": [
    "**Rename columns or index**"
   ]
  },
  {
   "cell_type": "code",
   "execution_count": null,
   "metadata": {
    "ExecuteTime": {
     "end_time": "2017-09-18T10:14:07.365300",
     "start_time": "2017-09-18T10:14:07.343266Z"
    },
    "colab": {
     "base_uri": "https://localhost:8080/",
     "height": 180
    },
    "colab_type": "code",
    "executionInfo": {
     "elapsed": 621,
     "status": "error",
     "timestamp": 1588541685812,
     "user": {
      "displayName": "Kok Ann Gan",
      "photoUrl": "https://lh3.googleusercontent.com/a-/AOh14Gh4fyJoT-DLFp2xWPg4V6bfwpDbNk6EB3Z8jmA76g=s64",
      "userId": "13310954156692695935"
     },
     "user_tz": 240
    },
    "id": "BvJHXGK3pO6I",
    "outputId": "24920f0f-f8a8-4f64-fec6-775adacc2167",
    "run_control": {
     "frozen": false,
     "read_only": false
    }
   },
   "outputs": [],
   "source": [
    "# inplace=True will affect the current DataFrame\n",
    "df.rename(columns={\"Locus tag\":\"Locus Tag\", \"Protein product\":\"Protein Product\"}, inplace=True)\n",
    "df.head()"
   ]
  },
  {
   "cell_type": "code",
   "execution_count": null,
   "metadata": {
    "ExecuteTime": {
     "end_time": "2017-09-18T10:14:09.136417",
     "start_time": "2017-09-18T10:14:09.103618Z"
    },
    "colab": {},
    "colab_type": "code",
    "id": "pdGorxEWpO6T",
    "run_control": {
     "frozen": false,
     "read_only": false
    }
   },
   "outputs": [],
   "source": [
    "# inplace=False (default) will return a new DataFrame\n",
    "df = df.rename(index={0:-1}, inplace=False)\n",
    "df.head()"
   ]
  },
  {
   "cell_type": "markdown",
   "metadata": {
    "colab_type": "text",
    "id": "ZrQVFicBvOEa"
   },
   "source": [
    "**Resetting the Index**\n"
   ]
  },
  {
   "cell_type": "code",
   "execution_count": null,
   "metadata": {
    "colab": {
     "base_uri": "https://localhost:8080/",
     "height": 306
    },
    "colab_type": "code",
    "executionInfo": {
     "elapsed": 453,
     "status": "ok",
     "timestamp": 1587739166511,
     "user": {
      "displayName": "Emma Briars",
      "photoUrl": "https://lh3.googleusercontent.com/a-/AOh14Gj14uLObWQe3mbLX6o5aXvFBch63XWb_GUOD_jG=s64",
      "userId": "10583257419353631243"
     },
     "user_tz": 240
    },
    "id": "TVyyBJugvTTJ",
    "outputId": "5894048c-3854-435e-81f0-98da628767d4"
   },
   "outputs": [],
   "source": [
    "data = pd.read_csv(url, sep='\\t', index_col='GeneID')\n",
    "data\n",
    "\n",
    "df = df.reset_index(drop=True)   #drop = avoid the old index being added as a column\n",
    "df.head()"
   ]
  },
  {
   "cell_type": "markdown",
   "metadata": {
    "colab_type": "text",
    "id": "AGSmmFsApO6V"
   },
   "source": [
    "**Discard a subset of columns**"
   ]
  },
  {
   "cell_type": "code",
   "execution_count": null,
   "metadata": {
    "ExecuteTime": {
     "end_time": "2017-09-18T10:14:12.630486",
     "start_time": "2017-09-18T10:14:12.604802Z"
    },
    "colab": {
     "base_uri": "https://localhost:8080/",
     "height": 204
    },
    "colab_type": "code",
    "executionInfo": {
     "elapsed": 692,
     "status": "ok",
     "timestamp": 1587739297739,
     "user": {
      "displayName": "Emma Briars",
      "photoUrl": "https://lh3.googleusercontent.com/a-/AOh14Gj14uLObWQe3mbLX6o5aXvFBch63XWb_GUOD_jG=s64",
      "userId": "10583257419353631243"
     },
     "user_tz": 240
    },
    "id": "qSBFGpzvpO6V",
    "outputId": "1179283d-f9ad-4e6f-c385-4f8c1b2e4ae8",
    "run_control": {
     "frozen": false,
     "read_only": false
    }
   },
   "outputs": [],
   "source": [
    "## Use name of columns\n",
    "df = df.drop(labels=[\"Replicon Name\", \"COG(s)\", \"Protein name\"], axis=1) # Axis 1 = Columns\n",
    "df.head()\n",
    "\n",
    "## Use index of column\n",
    "df2 = df.drop(df.columns[0,], axis=1)\n",
    "df2.head()"
   ]
  },
  {
   "cell_type": "markdown",
   "metadata": {
    "colab_type": "text",
    "id": "ZTEMm5v3pO6X"
   },
   "source": [
    "**Discard a subset of rows**"
   ]
  },
  {
   "cell_type": "code",
   "execution_count": null,
   "metadata": {
    "ExecuteTime": {
     "end_time": "2017-09-18T10:14:15.564339",
     "start_time": "2017-09-18T10:14:15.544856Z"
    },
    "colab": {},
    "colab_type": "code",
    "id": "UnPgiuWhpO6X",
    "run_control": {
     "frozen": false,
     "read_only": false
    }
   },
   "outputs": [],
   "source": [
    "df = df.drop(labels=[0, 2, 4], axis=0) # Axis 0 = Rows\n",
    "df.head()\n",
    "\n",
    "#df.reset_index(drop=True)"
   ]
  },
  {
   "cell_type": "markdown",
   "metadata": {
    "colab_type": "text",
    "id": "nuv83ITJpO6Z"
   },
   "source": [
    "**Sort by values or index**"
   ]
  },
  {
   "cell_type": "code",
   "execution_count": null,
   "metadata": {
    "ExecuteTime": {
     "end_time": "2017-09-18T10:18:56.894854",
     "start_time": "2017-09-18T10:18:56.873942Z"
    },
    "colab": {
     "base_uri": "https://localhost:8080/",
     "height": 204
    },
    "colab_type": "code",
    "executionInfo": {
     "elapsed": 552,
     "status": "ok",
     "timestamp": 1587739561212,
     "user": {
      "displayName": "Emma Briars",
      "photoUrl": "https://lh3.googleusercontent.com/a-/AOh14Gj14uLObWQe3mbLX6o5aXvFBch63XWb_GUOD_jG=s64",
      "userId": "10583257419353631243"
     },
     "user_tz": 240
    },
    "id": "fgvEBMrCpO6Z",
    "outputId": "0f74b7b6-22d3-4ba8-86d8-d838dcc64b09",
    "run_control": {
     "frozen": false,
     "read_only": false
    },
    "scrolled": false
   },
   "outputs": [],
   "source": [
    "# With 1 value key\n",
    "df.sort_values(by=\"Length\", inplace=True)\n",
    "df.head()"
   ]
  },
  {
   "cell_type": "code",
   "execution_count": null,
   "metadata": {
    "ExecuteTime": {
     "end_time": "2017-09-18T10:18:58.382265",
     "start_time": "2017-09-18T10:18:58.359987Z"
    },
    "colab": {
     "base_uri": "https://localhost:8080/",
     "height": 204
    },
    "colab_type": "code",
    "executionInfo": {
     "elapsed": 428,
     "status": "ok",
     "timestamp": 1587739610988,
     "user": {
      "displayName": "Emma Briars",
      "photoUrl": "https://lh3.googleusercontent.com/a-/AOh14Gj14uLObWQe3mbLX6o5aXvFBch63XWb_GUOD_jG=s64",
      "userId": "10583257419353631243"
     },
     "user_tz": 240
    },
    "id": "4OAKpO-lpO6f",
    "outputId": "fd40bb36-76a3-4a65-ac05-b135755faf14",
    "run_control": {
     "frozen": false,
     "read_only": false
    }
   },
   "outputs": [],
   "source": [
    "# With several value keys\n",
    "df.sort_values(by=[\"Length\", \"Start\"], inplace=True)\n",
    "df.head()"
   ]
  },
  {
   "cell_type": "code",
   "execution_count": null,
   "metadata": {
    "ExecuteTime": {
     "end_time": "2017-09-18T10:28:33.437274",
     "start_time": "2017-09-18T10:28:33.420952Z"
    },
    "colab": {
     "base_uri": "https://localhost:8080/",
     "height": 204
    },
    "colab_type": "code",
    "executionInfo": {
     "elapsed": 343,
     "status": "ok",
     "timestamp": 1587739626694,
     "user": {
      "displayName": "Emma Briars",
      "photoUrl": "https://lh3.googleusercontent.com/a-/AOh14Gj14uLObWQe3mbLX6o5aXvFBch63XWb_GUOD_jG=s64",
      "userId": "10583257419353631243"
     },
     "user_tz": 240
    },
    "id": "tU6xrJtGpO6h",
    "outputId": "22a84277-d867-41ad-fa27-a2f13cf22a79",
    "run_control": {
     "frozen": false,
     "read_only": false
    }
   },
   "outputs": [],
   "source": [
    "# With the index\n",
    "df.sort_index(inplace=True, ascending=True)\n",
    "df.head()"
   ]
  },
  {
   "cell_type": "markdown",
   "metadata": {
    "colab_type": "text",
    "id": "nEF3Ek3ppO6w"
   },
   "source": [
    "**Transposing Data**"
   ]
  },
  {
   "cell_type": "code",
   "execution_count": null,
   "metadata": {
    "ExecuteTime": {
     "end_time": "2017-09-18T10:28:47.578375",
     "start_time": "2017-09-18T10:28:47.538078Z"
    },
    "colab": {
     "base_uri": "https://localhost:8080/",
     "height": 270
    },
    "colab_type": "code",
    "executionInfo": {
     "elapsed": 663,
     "status": "ok",
     "timestamp": 1587739740355,
     "user": {
      "displayName": "Emma Briars",
      "photoUrl": "https://lh3.googleusercontent.com/a-/AOh14Gj14uLObWQe3mbLX6o5aXvFBch63XWb_GUOD_jG=s64",
      "userId": "10583257419353631243"
     },
     "user_tz": 240
    },
    "id": "l345ZRU1pO6x",
    "outputId": "4760335f-1240-4e5a-85d2-69aeef11195d",
    "run_control": {
     "frozen": false,
     "read_only": false
    }
   },
   "outputs": [],
   "source": [
    "df_t = df.transpose().head()\n",
    "df_t.head()"
   ]
  },
  {
   "cell_type": "markdown",
   "metadata": {
    "colab_type": "text",
    "id": "TUmm15HO4mNM"
   },
   "source": [
    "**Grouping Data Using `groupby`**"
   ]
  },
  {
   "cell_type": "code",
   "execution_count": null,
   "metadata": {},
   "outputs": [],
   "source": [
    "# Create groupby object\n",
    "df.groupby(\"Strand\")"
   ]
  },
  {
   "cell_type": "code",
   "execution_count": null,
   "metadata": {},
   "outputs": [],
   "source": [
    "# Summary statistics, split between '+' and '-' strands\n",
    "df.groupby(\"Strand\").describe()"
   ]
  },
  {
   "cell_type": "code",
   "execution_count": null,
   "metadata": {},
   "outputs": [],
   "source": [
    "# Summary statistics of gene lengths between '+' and '-' strands\n",
    "df.groupby(\"Strand\").describe()[\"Length\"]"
   ]
  },
  {
   "cell_type": "code",
   "execution_count": null,
   "metadata": {
    "colab": {
     "base_uri": "https://localhost:8080/",
     "height": 85
    },
    "colab_type": "code",
    "executionInfo": {
     "elapsed": 479,
     "status": "ok",
     "timestamp": 1587739938434,
     "user": {
      "displayName": "Emma Briars",
      "photoUrl": "https://lh3.googleusercontent.com/a-/AOh14Gj14uLObWQe3mbLX6o5aXvFBch63XWb_GUOD_jG=s64",
      "userId": "10583257419353631243"
     },
     "user_tz": 240
    },
    "id": "l0RCEso24wjW",
    "outputId": "4ce0e7b1-66f4-4936-a31d-a0d219931c94"
   },
   "outputs": [],
   "source": [
    "# Max gene length for '+' and '-' strands\n",
    "df.groupby(\"Strand\").describe()[\"Length\"][\"max\"]"
   ]
  },
  {
   "cell_type": "markdown",
   "metadata": {
    "colab_type": "text",
    "id": "JVyHwGd8pO6z"
   },
   "source": [
    "### Concatenate and merging DataFrame"
   ]
  },
  {
   "cell_type": "markdown",
   "metadata": {
    "colab_type": "text",
    "heading_collapsed": true,
    "id": "IisTEdf_pO60"
   },
   "source": [
    "#### Concatenate along columns (stack dataframes)"
   ]
  },
  {
   "cell_type": "code",
   "execution_count": null,
   "metadata": {
    "ExecuteTime": {
     "end_time": "2017-09-18T10:54:01.176306",
     "start_time": "2017-09-18T10:54:01.137943Z"
    },
    "colab": {
     "base_uri": "https://localhost:8080/",
     "height": 421
    },
    "colab_type": "code",
    "executionInfo": {
     "elapsed": 674,
     "status": "ok",
     "timestamp": 1587740183625,
     "user": {
      "displayName": "Emma Briars",
      "photoUrl": "https://lh3.googleusercontent.com/a-/AOh14Gj14uLObWQe3mbLX6o5aXvFBch63XWb_GUOD_jG=s64",
      "userId": "10583257419353631243"
     },
     "user_tz": 240
    },
    "hidden": true,
    "id": "k_CZI9V_pO7M",
    "outputId": "f1e7328b-1244-4059-8792-2f72fc3f9c5b",
    "run_control": {
     "frozen": false,
     "read_only": false
    },
    "scrolled": true
   },
   "outputs": [],
   "source": [
    "df1 = pd.DataFrame({'A': ['A0', 'A1', 'A2', 'A3'], 'B': ['B0', 'B1', 'B2', 'B3'], 'C': ['C0', 'C1', 'C2', 'C3'], 'D': ['D0', 'D1', 'D2', 'D3']}, index=[0, 1, 2, 3])\n",
    "df2 = pd.DataFrame({'A': ['A4', 'A5', 'A6', 'A7'], 'B': ['B4', 'B5', 'B6', 'B7'], 'C': ['C4', 'C5', 'C6', 'C7'], 'D': ['D4', 'D5', 'D6', 'D7']}, index=[4, 5, 6, 7])\n",
    "df3 = pd.DataFrame({'A': ['A8', 'A9', 'A10', 'A11'], 'B': ['B8', 'B9', 'B10', 'B11'], 'C': ['C8', 'C9', 'C10', 'C11'], 'D': ['D8', 'D9', 'D10', 'D11']}, index=[8, 9, 10, 11])\n",
    "\n",
    "df4 = pd.concat([df1, df3, df2], axis=0)\n",
    "df4"
   ]
  },
  {
   "cell_type": "markdown",
   "metadata": {
    "colab_type": "text",
    "heading_collapsed": true,
    "id": "IVaiW1AjpO7v"
   },
   "source": [
    "#### Concatenate along rows"
   ]
  },
  {
   "cell_type": "code",
   "execution_count": null,
   "metadata": {
    "ExecuteTime": {
     "end_time": "2017-09-18T10:56:40.814865",
     "start_time": "2017-09-18T10:56:40.792881Z"
    },
    "colab": {
     "base_uri": "https://localhost:8080/",
     "height": 235
    },
    "colab_type": "code",
    "executionInfo": {
     "elapsed": 625,
     "status": "ok",
     "timestamp": 1587740248992,
     "user": {
      "displayName": "Emma Briars",
      "photoUrl": "https://lh3.googleusercontent.com/a-/AOh14Gj14uLObWQe3mbLX6o5aXvFBch63XWb_GUOD_jG=s64",
      "userId": "10583257419353631243"
     },
     "user_tz": 240
    },
    "hidden": true,
    "id": "XCkRmIb4pO79",
    "outputId": "fa86c2db-38a6-4317-95a1-dac2c99e6318",
    "run_control": {
     "frozen": false,
     "read_only": false
    }
   },
   "outputs": [],
   "source": [
    "df1 = pd.DataFrame({'A': ['A0', 'A1', 'A2', 'A3'], 'B': ['B0', 'B1', 'B2', 'B3'], 'C': ['C0', 'C1', 'C2', 'C3'], 'D': ['D0', 'D1', 'D2', 'D3']}, index=[0, 1, 2, 3])\n",
    "df2= pd.DataFrame({'B': ['B2', 'B3', 'B6', 'B7'], 'D': ['D2', 'D3', 'D6', 'D7'], 'F': ['F2', 'F3', 'F6', 'F7']}, index=[2, 3, 6, 7])\n",
    "\n",
    "df1\n",
    "\n",
    "df3 = pd.concat([df1, df2], axis=1)\n",
    "df3"
   ]
  },
  {
   "cell_type": "markdown",
   "metadata": {
    "colab_type": "text",
    "heading_collapsed": true,
    "id": "OFR5piF5pO8s"
   },
   "source": [
    "#### Database-style DataFrame joining/merging"
   ]
  },
  {
   "cell_type": "markdown",
   "metadata": {
    "ExecuteTime": {
     "end_time": "2017-09-18T11:51:38.364776",
     "start_time": "2017-09-18T11:51:38.346472Z"
    },
    "colab_type": "text",
    "hidden": true,
    "id": "iahnyuC5pO8-"
   },
   "source": [
    "> pd.merge(left, right, how='inner', on=None, left_on=None, right_on=None, left_index=False, right_index=False, sort=True, suffixes=('_x', '_y'), copy=True, indicator=False)\n",
    "\n",
    "> DataFrame.join(self, other, on=None, how='left', lsuffix='', rsuffix='', sort=False)"
   ]
  },
  {
   "cell_type": "code",
   "execution_count": null,
   "metadata": {
    "ExecuteTime": {
     "end_time": "2017-09-18T11:57:29.493708",
     "start_time": "2017-09-18T11:57:29.488181Z"
    },
    "colab": {},
    "colab_type": "code",
    "hidden": true,
    "id": "krbWSK1GpO8-",
    "run_control": {
     "frozen": false,
     "read_only": false
    }
   },
   "outputs": [],
   "source": [
    "left = pd.DataFrame({'A': ['A0', 'A1', 'A2'], 'B': ['B0', 'B1', 'B2']}, index=['K0', 'K1', 'K2'])\n",
    "right = pd.DataFrame({'C': ['C0', 'C2', 'C3'], 'D': ['D0', 'D2', 'D3']}, index=['K0', 'K2', 'K3'])"
   ]
  },
  {
   "cell_type": "code",
   "execution_count": null,
   "metadata": {
    "ExecuteTime": {
     "end_time": "2017-09-18T11:58:19.352059",
     "start_time": "2017-09-18T11:58:19.335592Z"
    },
    "colab": {},
    "colab_type": "code",
    "hidden": true,
    "id": "w3NsaCfipO9B",
    "run_control": {
     "frozen": false,
     "read_only": false
    },
    "scrolled": true
   },
   "outputs": [],
   "source": [
    "pd.merge(left, right, left_index=True, right_index=True, how='outer')"
   ]
  },
  {
   "cell_type": "code",
   "execution_count": null,
   "metadata": {
    "ExecuteTime": {
     "end_time": "2017-09-18T11:58:32.644525",
     "start_time": "2017-09-18T11:58:32.630286Z"
    },
    "colab": {},
    "colab_type": "code",
    "hidden": true,
    "id": "wCX0kYRZpO9D",
    "run_control": {
     "frozen": false,
     "read_only": false
    }
   },
   "outputs": [],
   "source": [
    "pd.merge(left, right, left_index=True, right_index=True, how='inner')"
   ]
  },
  {
   "cell_type": "markdown",
   "metadata": {
    "colab_type": "text",
    "id": "yh1-OLBwpO9T"
   },
   "source": [
    "### Descriptive statistics of a DataFrame"
   ]
  },
  {
   "cell_type": "markdown",
   "metadata": {
    "colab_type": "text",
    "id": "h3u1HmgbpO9T"
   },
   "source": [
    "The results will only contain the relevant columns (for example *mean()* will be applied only to numeric columns).\n",
    " \n",
    "| Function \t| Description                                \t|\n",
    "|----------\t|--------------------------------------------\t|\n",
    "| count    \t| Number of non-null observations            \t|\n",
    "| sum      \t| Sum of values                              \t|\n",
    "| mean     \t| Mean of values                             \t|\n",
    "| mad      \t| Mean absolute deviation                    \t|\n",
    "| median   \t| Arithmetic median of values                \t|\n",
    "| min      \t| Minimum                                    \t|\n",
    "| max      \t| Maximum                                    \t|\n",
    "| mode     \t| Mode                                       \t|\n",
    "| abs      \t| Absolute Value                             \t|\n",
    "| prod     \t| Product of values                          \t|\n",
    "| std      \t| Bessel-corrected sample standard deviation \t|\n",
    "| var      \t| Unbiased variance                          \t|\n",
    "| sem      \t| Standard error of the mean                 \t|\n",
    "| skew     \t| Sample skewness (3rd moment)               \t|\n",
    "| kurt     \t| Sample kurtosis (4th moment)               \t|\n",
    "| unique    | List the unique elements \n",
    "| quantile \t| Sample quantile (value at %)               \t|\n",
    "| cumsum   \t| Cumulative sum                             \t|\n",
    "| cumprod  \t| Cumulative product                         \t|\n",
    "| cummax   \t| Cumulative maximum                         \t|\n",
    "| cummin   \t| Cumulative minimum                         \t|"
   ]
  },
  {
   "cell_type": "code",
   "execution_count": null,
   "metadata": {
    "ExecuteTime": {
     "end_time": "2017-09-18T11:16:41.586197",
     "start_time": "2017-09-18T11:16:41.575074Z"
    },
    "colab": {
     "base_uri": "https://localhost:8080/",
     "height": 306
    },
    "colab_type": "code",
    "executionInfo": {
     "elapsed": 782,
     "status": "ok",
     "timestamp": 1587740395389,
     "user": {
      "displayName": "Emma Briars",
      "photoUrl": "https://lh3.googleusercontent.com/a-/AOh14Gj14uLObWQe3mbLX6o5aXvFBch63XWb_GUOD_jG=s64",
      "userId": "10583257419353631243"
     },
     "user_tz": 240
    },
    "id": "xeNZ3aTupO9T",
    "outputId": "3cc17fcc-258b-4236-c205-9dbeee7ef80c",
    "run_control": {
     "frozen": false,
     "read_only": false
    }
   },
   "outputs": [],
   "source": [
    "df = pd.read_csv(url, sep='\\t')\n",
    "df.head()"
   ]
  },
  {
   "cell_type": "code",
   "execution_count": null,
   "metadata": {
    "ExecuteTime": {
     "end_time": "2017-09-18T09:18:59.704543",
     "start_time": "2017-09-18T09:18:59.680988Z"
    },
    "colab": {
     "base_uri": "https://localhost:8080/",
     "height": 102
    },
    "colab_type": "code",
    "executionInfo": {
     "elapsed": 398,
     "status": "ok",
     "timestamp": 1587740403701,
     "user": {
      "displayName": "Emma Briars",
      "photoUrl": "https://lh3.googleusercontent.com/a-/AOh14Gj14uLObWQe3mbLX6o5aXvFBch63XWb_GUOD_jG=s64",
      "userId": "10583257419353631243"
     },
     "user_tz": 240
    },
    "id": "w9CMyu2zpO9U",
    "outputId": "562b33eb-26bb-4353-83b6-59a7c35f6f6f",
    "run_control": {
     "frozen": false,
     "read_only": false
    }
   },
   "outputs": [],
   "source": [
    "df.mean()"
   ]
  },
  {
   "cell_type": "code",
   "execution_count": null,
   "metadata": {
    "ExecuteTime": {
     "end_time": "2017-09-18T09:19:05.274407",
     "start_time": "2017-09-18T09:19:05.265925Z"
    },
    "colab": {
     "base_uri": "https://localhost:8080/",
     "height": 238
    },
    "colab_type": "code",
    "executionInfo": {
     "elapsed": 373,
     "status": "ok",
     "timestamp": 1587740431399,
     "user": {
      "displayName": "Emma Briars",
      "photoUrl": "https://lh3.googleusercontent.com/a-/AOh14Gj14uLObWQe3mbLX6o5aXvFBch63XWb_GUOD_jG=s64",
      "userId": "10583257419353631243"
     },
     "user_tz": 240
    },
    "id": "28mV-CxhpO9W",
    "outputId": "8b732b72-b464-45f1-cb8b-c179c9cb14b0",
    "run_control": {
     "frozen": false,
     "read_only": false
    }
   },
   "outputs": [],
   "source": [
    "df.count()"
   ]
  },
  {
   "cell_type": "markdown",
   "metadata": {
    "colab_type": "text",
    "id": "fGI6OXA_pO9Y"
   },
   "source": [
    "**Remember: Use the *describe()* method to generate a simple table report of the DataFrame**"
   ]
  },
  {
   "cell_type": "code",
   "execution_count": null,
   "metadata": {
    "ExecuteTime": {
     "end_time": "2017-09-18T09:19:24.546362",
     "start_time": "2017-09-18T09:19:24.500793Z"
    },
    "colab": {
     "base_uri": "https://localhost:8080/",
     "height": 441
    },
    "colab_type": "code",
    "executionInfo": {
     "elapsed": 361,
     "status": "ok",
     "timestamp": 1587740448649,
     "user": {
      "displayName": "Emma Briars",
      "photoUrl": "https://lh3.googleusercontent.com/a-/AOh14Gj14uLObWQe3mbLX6o5aXvFBch63XWb_GUOD_jG=s64",
      "userId": "10583257419353631243"
     },
     "user_tz": 240
    },
    "id": "XcYcqdoQpO9Y",
    "outputId": "7715e72c-99f9-4fc1-b3f9-7bdf35bacd06",
    "run_control": {
     "frozen": false,
     "read_only": false
    }
   },
   "outputs": [],
   "source": [
    "# Default: Pandas will determine which columns are numeric and only describe those\n",
    "df.describe()\n",
    "\n",
    "# Compare to when include=\"all\"\n",
    "df.describe(include=\"all\")"
   ]
  },
  {
   "cell_type": "markdown",
   "metadata": {
    "colab_type": "text",
    "id": "g1i0H2nHpO9x"
   },
   "source": [
    "### Accessing elements in a DataFrame (Indexing and Selection)"
   ]
  },
  {
   "cell_type": "markdown",
   "metadata": {
    "colab_type": "text",
    "id": "c_2sE8TzpO9y"
   },
   "source": [
    "| Operation                      \t| Syntax        \t    | Result    \t|\n",
    "|--------------------------------\t|---------------\t    |-----------\t|\n",
    "| Select column                  \t| df[col] **or** df.col | Series    \t|\n",
    "| Select row by label            \t| df.loc[label] \t    | Series    \t|\n",
    "| Select row by integer location \t| df.iloc[loc]  \t    | Series    \t|\n",
    "| Slice rows                     \t| df[5:10]      \t    | DataFrame \t|"
   ]
  },
  {
   "cell_type": "code",
   "execution_count": null,
   "metadata": {
    "colab": {
     "base_uri": "https://localhost:8080/",
     "height": 235
    },
    "colab_type": "code",
    "executionInfo": {
     "elapsed": 527,
     "status": "ok",
     "timestamp": 1587740565764,
     "user": {
      "displayName": "Emma Briars",
      "photoUrl": "https://lh3.googleusercontent.com/a-/AOh14Gj14uLObWQe3mbLX6o5aXvFBch63XWb_GUOD_jG=s64",
      "userId": "10583257419353631243"
     },
     "user_tz": 240
    },
    "id": "yRKjsISrwHpP",
    "outputId": "293d01ad-46ec-412b-8817-84370cefac43"
   },
   "outputs": [],
   "source": [
    "# Re-Load the DataFrame\n",
    "df = pd.read_csv(url, sep='\\t')\n",
    "df.rename(columns={\"Locus tag\":\"Locus Tag\", \"Protein product\":\"Protein Product\"}, inplace=True)\n",
    "df = df.drop(labels=[\"Replicon Name\", \"COG(s)\", \"Protein name\"], axis=1) # Axis 1 = Columns\n",
    "\n",
    "df\n",
    "\n",
    "# Change the index to be Locus\n",
    "df.index = df[\"Locus\"]\n",
    "df.head()"
   ]
  },
  {
   "cell_type": "markdown",
   "metadata": {
    "colab_type": "text",
    "id": "i_ew103lpO94"
   },
   "source": [
    "**Column Slicing**"
   ]
  },
  {
   "cell_type": "code",
   "execution_count": null,
   "metadata": {
    "colab": {
     "base_uri": "https://localhost:8080/",
     "height": 34
    },
    "colab_type": "code",
    "executionInfo": {
     "elapsed": 497,
     "status": "ok",
     "timestamp": 1587740709477,
     "user": {
      "displayName": "Emma Briars",
      "photoUrl": "https://lh3.googleusercontent.com/a-/AOh14Gj14uLObWQe3mbLX6o5aXvFBch63XWb_GUOD_jG=s64",
      "userId": "10583257419353631243"
     },
     "user_tz": 240
    },
    "id": "5YEWm4k_pO95",
    "outputId": "a32375e3-52a1-4d4d-9960-88ffd4f7b34b",
    "run_control": {
     "frozen": false,
     "read_only": false
    }
   },
   "outputs": [],
   "source": [
    "# Preferred Method\n",
    "df[\"Start\"]"
   ]
  },
  {
   "cell_type": "code",
   "execution_count": null,
   "metadata": {
    "colab": {
     "base_uri": "https://localhost:8080/",
     "height": 34
    },
    "colab_type": "code",
    "executionInfo": {
     "elapsed": 648,
     "status": "ok",
     "timestamp": 1587740696470,
     "user": {
      "displayName": "Emma Briars",
      "photoUrl": "https://lh3.googleusercontent.com/a-/AOh14Gj14uLObWQe3mbLX6o5aXvFBch63XWb_GUOD_jG=s64",
      "userId": "10583257419353631243"
     },
     "user_tz": 240
    },
    "id": "IxcmRj-fpO97",
    "outputId": "529ccf19-71b5-449a-f8c0-818631095935",
    "run_control": {
     "frozen": false,
     "read_only": false
    }
   },
   "outputs": [],
   "source": [
    "df.Start"
   ]
  },
  {
   "cell_type": "code",
   "execution_count": null,
   "metadata": {
    "colab": {
     "base_uri": "https://localhost:8080/",
     "height": 450
    },
    "colab_type": "code",
    "executionInfo": {
     "elapsed": 644,
     "status": "ok",
     "timestamp": 1587740645945,
     "user": {
      "displayName": "Emma Briars",
      "photoUrl": "https://lh3.googleusercontent.com/a-/AOh14Gj14uLObWQe3mbLX6o5aXvFBch63XWb_GUOD_jG=s64",
      "userId": "10583257419353631243"
     },
     "user_tz": 240
    },
    "id": "F-jl-pQKpO-H",
    "outputId": "4d86fc64-00fa-4cf5-e50c-09940a56f5da",
    "run_control": {
     "frozen": false,
     "read_only": false
    }
   },
   "outputs": [],
   "source": [
    "df[[\"Start\", \"Stop\"]]"
   ]
  },
  {
   "cell_type": "markdown",
   "metadata": {
    "colab_type": "text",
    "id": "iftmOYCupO-K"
   },
   "source": [
    "**Index slicing**\n",
    "\n",
    "\n",
    "*   `df.loc[]`: Slice by index label (or Boolean)\n",
    "*   `df.iloc[]`: Slice by integer (selection by position)\n",
    "\n"
   ]
  },
  {
   "cell_type": "code",
   "execution_count": null,
   "metadata": {
    "colab": {
     "base_uri": "https://localhost:8080/",
     "height": 187
    },
    "colab_type": "code",
    "executionInfo": {
     "elapsed": 436,
     "status": "ok",
     "timestamp": 1587740909535,
     "user": {
      "displayName": "Emma Briars",
      "photoUrl": "https://lh3.googleusercontent.com/a-/AOh14Gj14uLObWQe3mbLX6o5aXvFBch63XWb_GUOD_jG=s64",
      "userId": "10583257419353631243"
     },
     "user_tz": 240
    },
    "id": "DYf4UVtkpO-K",
    "outputId": "95c85848-0b38-4bd8-d8aa-1a5b7efc1244",
    "run_control": {
     "frozen": false,
     "read_only": false
    }
   },
   "outputs": [],
   "source": [
    "df.head()\n",
    "df.loc[\"rluA\"]"
   ]
  },
  {
   "cell_type": "code",
   "execution_count": null,
   "metadata": {
    "colab": {},
    "colab_type": "code",
    "id": "0N40FkvMpO-V",
    "run_control": {
     "frozen": false,
     "read_only": false
    }
   },
   "outputs": [],
   "source": [
    "df.loc[\"rpsJ\":\"rpsF\"]"
   ]
  },
  {
   "cell_type": "code",
   "execution_count": null,
   "metadata": {
    "colab": {
     "base_uri": "https://localhost:8080/",
     "height": 187
    },
    "colab_type": "code",
    "executionInfo": {
     "elapsed": 412,
     "status": "ok",
     "timestamp": 1587740880942,
     "user": {
      "displayName": "Emma Briars",
      "photoUrl": "https://lh3.googleusercontent.com/a-/AOh14Gj14uLObWQe3mbLX6o5aXvFBch63XWb_GUOD_jG=s64",
      "userId": "10583257419353631243"
     },
     "user_tz": 240
    },
    "id": "v9baYfaxpO-W",
    "outputId": "f450f80d-22be-412d-a293-906e5d012bf3",
    "run_control": {
     "frozen": false,
     "read_only": false
    }
   },
   "outputs": [],
   "source": [
    "df.iloc[1]"
   ]
  },
  {
   "cell_type": "code",
   "execution_count": null,
   "metadata": {
    "colab": {
     "base_uri": "https://localhost:8080/",
     "height": 142
    },
    "colab_type": "code",
    "executionInfo": {
     "elapsed": 600,
     "status": "ok",
     "timestamp": 1587740930297,
     "user": {
      "displayName": "Emma Briars",
      "photoUrl": "https://lh3.googleusercontent.com/a-/AOh14Gj14uLObWQe3mbLX6o5aXvFBch63XWb_GUOD_jG=s64",
      "userId": "10583257419353631243"
     },
     "user_tz": 240
    },
    "id": "09eK6CrdpO-i",
    "outputId": "20d6c363-b897-4ad1-de07-0c85b546b959",
    "run_control": {
     "frozen": false,
     "read_only": false
    }
   },
   "outputs": [],
   "source": [
    "df.iloc[10:12]"
   ]
  },
  {
   "cell_type": "markdown",
   "metadata": {
    "colab_type": "text",
    "id": "_mCVugzOpO-j"
   },
   "source": [
    "**Combine column and index slicing to select a specific item or a range of items**"
   ]
  },
  {
   "cell_type": "code",
   "execution_count": null,
   "metadata": {
    "colab": {
     "base_uri": "https://localhost:8080/",
     "height": 34
    },
    "colab_type": "code",
    "executionInfo": {
     "elapsed": 443,
     "status": "ok",
     "timestamp": 1587741084094,
     "user": {
      "displayName": "Emma Briars",
      "photoUrl": "https://lh3.googleusercontent.com/a-/AOh14Gj14uLObWQe3mbLX6o5aXvFBch63XWb_GUOD_jG=s64",
      "userId": "10583257419353631243"
     },
     "user_tz": 240
    },
    "id": "Ha7Dcdg4pO-k",
    "outputId": "161d02fe-5526-4553-d228-37fe537d149c",
    "run_control": {
     "frozen": false,
     "read_only": false
    }
   },
   "outputs": [],
   "source": [
    "## Multiple ways to do the same thing\n",
    "df.loc[\"rluB\", \"Protein Product\"]"
   ]
  },
  {
   "cell_type": "code",
   "execution_count": null,
   "metadata": {
    "colab": {
     "base_uri": "https://localhost:8080/",
     "height": 34
    },
    "colab_type": "code",
    "executionInfo": {
     "elapsed": 469,
     "status": "ok",
     "timestamp": 1587741012103,
     "user": {
      "displayName": "Emma Briars",
      "photoUrl": "https://lh3.googleusercontent.com/a-/AOh14Gj14uLObWQe3mbLX6o5aXvFBch63XWb_GUOD_jG=s64",
      "userId": "10583257419353631243"
     },
     "user_tz": 240
    },
    "id": "eAUBdPoDpO-m",
    "outputId": "0572a8a7-00f4-40d8-881d-23c46ec50c18",
    "run_control": {
     "frozen": false,
     "read_only": false
    },
    "scrolled": true
   },
   "outputs": [],
   "source": [
    "df.loc[\"rluB\"][\"Protein Product\"]"
   ]
  },
  {
   "cell_type": "code",
   "execution_count": null,
   "metadata": {
    "colab": {
     "base_uri": "https://localhost:8080/",
     "height": 34
    },
    "colab_type": "code",
    "executionInfo": {
     "elapsed": 447,
     "status": "ok",
     "timestamp": 1587741033309,
     "user": {
      "displayName": "Emma Briars",
      "photoUrl": "https://lh3.googleusercontent.com/a-/AOh14Gj14uLObWQe3mbLX6o5aXvFBch63XWb_GUOD_jG=s64",
      "userId": "10583257419353631243"
     },
     "user_tz": 240
    },
    "id": "FuhtrMkwpO-n",
    "outputId": "452a4b37-a77f-4107-9f12-fe0105ce399c",
    "run_control": {
     "frozen": false,
     "read_only": false
    }
   },
   "outputs": [],
   "source": [
    "df.iloc[10,7]"
   ]
  },
  {
   "cell_type": "code",
   "execution_count": null,
   "metadata": {
    "colab": {
     "base_uri": "https://localhost:8080/",
     "height": 34
    },
    "colab_type": "code",
    "executionInfo": {
     "elapsed": 417,
     "status": "ok",
     "timestamp": 1587741036057,
     "user": {
      "displayName": "Emma Briars",
      "photoUrl": "https://lh3.googleusercontent.com/a-/AOh14Gj14uLObWQe3mbLX6o5aXvFBch63XWb_GUOD_jG=s64",
      "userId": "10583257419353631243"
     },
     "user_tz": 240
    },
    "id": "a2JEAxY1pO-p",
    "outputId": "2ed5ef43-aef0-4885-940e-738c36cc8cde",
    "run_control": {
     "frozen": false,
     "read_only": false
    }
   },
   "outputs": [],
   "source": [
    "df.iloc[10][7]"
   ]
  },
  {
   "cell_type": "markdown",
   "metadata": {
    "colab_type": "text",
    "id": "b36dVw7bpO-r"
   },
   "source": [
    "### Select specific elements based on their values = Boolean Indexing"
   ]
  },
  {
   "cell_type": "markdown",
   "metadata": {
    "colab_type": "text",
    "id": "1PWqk54dpO-r"
   },
   "source": [
    "**With a single condition**"
   ]
  },
  {
   "cell_type": "code",
   "execution_count": null,
   "metadata": {
    "colab": {
     "base_uri": "https://localhost:8080/",
     "height": 450
    },
    "colab_type": "code",
    "executionInfo": {
     "elapsed": 456,
     "status": "ok",
     "timestamp": 1587741133145,
     "user": {
      "displayName": "Emma Briars",
      "photoUrl": "https://lh3.googleusercontent.com/a-/AOh14Gj14uLObWQe3mbLX6o5aXvFBch63XWb_GUOD_jG=s64",
      "userId": "10583257419353631243"
     },
     "user_tz": 240
    },
    "id": "ASWOYY1MpO-r",
    "outputId": "92bc883a-03ea-495e-f8a2-f390a64dc022",
    "run_control": {
     "frozen": false,
     "read_only": false
    }
   },
   "outputs": [],
   "source": [
    "df[df.Strand == \"-\"]"
   ]
  },
  {
   "cell_type": "code",
   "execution_count": null,
   "metadata": {
    "colab": {
     "base_uri": "https://localhost:8080/",
     "height": 450
    },
    "colab_type": "code",
    "executionInfo": {
     "elapsed": 425,
     "status": "ok",
     "timestamp": 1587741153795,
     "user": {
      "displayName": "Emma Briars",
      "photoUrl": "https://lh3.googleusercontent.com/a-/AOh14Gj14uLObWQe3mbLX6o5aXvFBch63XWb_GUOD_jG=s64",
      "userId": "10583257419353631243"
     },
     "user_tz": 240
    },
    "id": "8kdeFPDgpO-4",
    "outputId": "99d05798-d6a5-46ea-aca6-109a17bef3d3",
    "run_control": {
     "frozen": false,
     "read_only": false
    }
   },
   "outputs": [],
   "source": [
    "df.query(\"Strand == '-'\")"
   ]
  },
  {
   "cell_type": "code",
   "execution_count": null,
   "metadata": {
    "colab": {
     "base_uri": "https://localhost:8080/",
     "height": 111
    },
    "colab_type": "code",
    "executionInfo": {
     "elapsed": 537,
     "status": "ok",
     "timestamp": 1587741179720,
     "user": {
      "displayName": "Emma Briars",
      "photoUrl": "https://lh3.googleusercontent.com/a-/AOh14Gj14uLObWQe3mbLX6o5aXvFBch63XWb_GUOD_jG=s64",
      "userId": "10583257419353631243"
     },
     "user_tz": 240
    },
    "id": "k-9OghjopO-s",
    "outputId": "aae3f19c-809d-4be7-83b2-ba7fadc06a9e",
    "run_control": {
     "frozen": false,
     "read_only": false
    }
   },
   "outputs": [],
   "source": [
    "df[df.Length.isin([200, 201, 202])]"
   ]
  },
  {
   "cell_type": "code",
   "execution_count": null,
   "metadata": {
    "colab": {
     "base_uri": "https://localhost:8080/",
     "height": 450
    },
    "colab_type": "code",
    "executionInfo": {
     "elapsed": 464,
     "status": "ok",
     "timestamp": 1587741217081,
     "user": {
      "displayName": "Emma Briars",
      "photoUrl": "https://lh3.googleusercontent.com/a-/AOh14Gj14uLObWQe3mbLX6o5aXvFBch63XWb_GUOD_jG=s64",
      "userId": "10583257419353631243"
     },
     "user_tz": 240
    },
    "id": "-KrVxuhBpO_E",
    "outputId": "b337bdc9-9339-47ed-f867-aa9af406605c",
    "run_control": {
     "frozen": false,
     "read_only": false
    }
   },
   "outputs": [],
   "source": [
    "df[df.Locus.str.startswith('rlu')]"
   ]
  },
  {
   "cell_type": "markdown",
   "metadata": {
    "colab_type": "text",
    "id": "qS7rpDPlpO_G"
   },
   "source": [
    "**With multiple conditions**"
   ]
  },
  {
   "cell_type": "code",
   "execution_count": null,
   "metadata": {
    "colab": {
     "base_uri": "https://localhost:8080/",
     "height": 266
    },
    "colab_type": "code",
    "executionInfo": {
     "elapsed": 497,
     "status": "ok",
     "timestamp": 1587741277089,
     "user": {
      "displayName": "Emma Briars",
      "photoUrl": "https://lh3.googleusercontent.com/a-/AOh14Gj14uLObWQe3mbLX6o5aXvFBch63XWb_GUOD_jG=s64",
      "userId": "10583257419353631243"
     },
     "user_tz": 240
    },
    "id": "tWCj3zNdpO_H",
    "outputId": "02c347fc-5a92-4bfd-f348-b84fc04746ee",
    "run_control": {
     "frozen": false,
     "read_only": false
    }
   },
   "outputs": [],
   "source": [
    "df[(df.Strand == '+') & (df.Length > 350)]"
   ]
  },
  {
   "cell_type": "code",
   "execution_count": null,
   "metadata": {
    "colab": {
     "base_uri": "https://localhost:8080/",
     "height": 266
    },
    "colab_type": "code",
    "executionInfo": {
     "elapsed": 537,
     "status": "ok",
     "timestamp": 1587741572505,
     "user": {
      "displayName": "Emma Briars",
      "photoUrl": "https://lh3.googleusercontent.com/a-/AOh14Gj14uLObWQe3mbLX6o5aXvFBch63XWb_GUOD_jG=s64",
      "userId": "10583257419353631243"
     },
     "user_tz": 240
    },
    "id": "NF5PmzAapO_J",
    "outputId": "e261e25c-4b7f-49d8-92dd-347ab61850f3",
    "run_control": {
     "frozen": false,
     "read_only": false
    }
   },
   "outputs": [],
   "source": [
    "df.query(\"Strand == '+' and Length > 350\")"
   ]
  }
 ],
 "metadata": {
  "celltoolbar": "Initialisation Cell",
  "colab": {
   "collapsed_sections": [
    "_XD_wsn6xlTl",
    "ZWCuCc4vROju",
    "CI-UTzd2R1Tj",
    "ojGccYivUpfh",
    "KkpCA2MgoDv3",
    "M4GXygU-oRG0",
    "otmrx772ozbH",
    "iMfD4TqHOEAC",
    "V_HsX1AtQJAO",
    "gCH26vTjpO1V",
    "MBG0FKUyRd6r",
    "KvjjgiS1pO5_",
    "JVyHwGd8pO6z",
    "IisTEdf_pO60",
    "IVaiW1AjpO7v",
    "OFR5piF5pO8s",
    "yh1-OLBwpO9T",
    "g1i0H2nHpO9x",
    "b36dVw7bpO-r",
    "pTBV83wxpO_K"
   ],
   "name": "2_python_intro-to-pandas.ipynb",
   "provenance": []
  },
  "kernelspec": {
   "display_name": "Python 3",
   "language": "python",
   "name": "python3"
  },
  "language_info": {
   "codemirror_mode": {
    "name": "ipython",
    "version": 3
   },
   "file_extension": ".py",
   "mimetype": "text/x-python",
   "name": "python",
   "nbconvert_exporter": "python",
   "pygments_lexer": "ipython3",
   "version": "3.8.5"
  }
 },
 "nbformat": 4,
 "nbformat_minor": 1
}
